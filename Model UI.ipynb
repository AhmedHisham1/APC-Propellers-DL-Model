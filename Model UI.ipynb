{
 "cells": [
  {
   "cell_type": "code",
   "execution_count": 1,
   "metadata": {},
   "outputs": [],
   "source": [
    "import numpy as np\n",
    "import pandas as pd\n",
    "import matplotlib.pyplot as plt\n",
    "import tensorflow as tf\n",
    "\n",
    "%matplotlib inline"
   ]
  },
  {
   "cell_type": "code",
   "execution_count": 2,
   "metadata": {},
   "outputs": [
    {
     "name": "stderr",
     "output_type": "stream",
     "text": [
      "WARNING: Logging before flag parsing goes to stderr.\n",
      "W1023 09:02:49.375816 26960 deprecation.py:506] From C:\\ProgramData\\Anaconda3\\lib\\site-packages\\tensorflow\\python\\ops\\init_ops.py:97: calling GlorotUniform.__init__ (from tensorflow.python.ops.init_ops) with dtype is deprecated and will be removed in a future version.\n",
      "Instructions for updating:\n",
      "Call initializer instance with the dtype argument instead of passing it to the constructor\n",
      "W1023 09:02:49.377813 26960 deprecation.py:506] From C:\\ProgramData\\Anaconda3\\lib\\site-packages\\tensorflow\\python\\ops\\init_ops.py:1251: calling VarianceScaling.__init__ (from tensorflow.python.ops.init_ops) with dtype is deprecated and will be removed in a future version.\n",
      "Instructions for updating:\n",
      "Call initializer instance with the dtype argument instead of passing it to the constructor\n",
      "W1023 09:02:49.378783 26960 deprecation.py:506] From C:\\ProgramData\\Anaconda3\\lib\\site-packages\\tensorflow\\python\\ops\\init_ops.py:97: calling Zeros.__init__ (from tensorflow.python.ops.init_ops) with dtype is deprecated and will be removed in a future version.\n",
      "Instructions for updating:\n",
      "Call initializer instance with the dtype argument instead of passing it to the constructor\n"
     ]
    }
   ],
   "source": [
    "model = tf.keras.models.load_model('Fitting_3_model.h5')"
   ]
  },
  {
   "cell_type": "code",
   "execution_count": 3,
   "metadata": {},
   "outputs": [],
   "source": [
    "big_df = pd.read_csv(r'D:\\Graduation Project\\QuadPlane Design\\APC Propellers\\PERFILES_WEB\\all_props_cleaned_petite.csv')\n",
    "dataset = big_df.copy()\n",
    "dataset = dataset.dropna()"
   ]
  },
  {
   "cell_type": "code",
   "execution_count": 4,
   "metadata": {},
   "outputs": [
    {
     "data": {
      "text/html": [
       "<div>\n",
       "<style scoped>\n",
       "    .dataframe tbody tr th:only-of-type {\n",
       "        vertical-align: middle;\n",
       "    }\n",
       "\n",
       "    .dataframe tbody tr th {\n",
       "        vertical-align: top;\n",
       "    }\n",
       "\n",
       "    .dataframe thead th {\n",
       "        text-align: right;\n",
       "    }\n",
       "</style>\n",
       "<table border=\"1\" class=\"dataframe\">\n",
       "  <thead>\n",
       "    <tr style=\"text-align: right;\">\n",
       "      <th></th>\n",
       "      <th>count</th>\n",
       "      <th>mean</th>\n",
       "      <th>std</th>\n",
       "      <th>min</th>\n",
       "      <th>25%</th>\n",
       "      <th>50%</th>\n",
       "      <th>75%</th>\n",
       "      <th>max</th>\n",
       "    </tr>\n",
       "  </thead>\n",
       "  <tbody>\n",
       "    <tr>\n",
       "      <th>V</th>\n",
       "      <td>234782.0</td>\n",
       "      <td>49.707743</td>\n",
       "      <td>45.637459</td>\n",
       "      <td>-42.0</td>\n",
       "      <td>13.6</td>\n",
       "      <td>36.20</td>\n",
       "      <td>73.8</td>\n",
       "      <td>319.6</td>\n",
       "    </tr>\n",
       "    <tr>\n",
       "      <th>diameter</th>\n",
       "      <td>234782.0</td>\n",
       "      <td>10.523603</td>\n",
       "      <td>4.487367</td>\n",
       "      <td>4.0</td>\n",
       "      <td>7.0</td>\n",
       "      <td>9.25</td>\n",
       "      <td>13.5</td>\n",
       "      <td>27.0</td>\n",
       "    </tr>\n",
       "    <tr>\n",
       "      <th>pitch</th>\n",
       "      <td>234782.0</td>\n",
       "      <td>7.308001</td>\n",
       "      <td>3.348207</td>\n",
       "      <td>2.0</td>\n",
       "      <td>4.5</td>\n",
       "      <td>6.50</td>\n",
       "      <td>10.0</td>\n",
       "      <td>22.5</td>\n",
       "    </tr>\n",
       "    <tr>\n",
       "      <th>rpm</th>\n",
       "      <td>234782.0</td>\n",
       "      <td>12508.699700</td>\n",
       "      <td>9050.014395</td>\n",
       "      <td>1000.0</td>\n",
       "      <td>6000.0</td>\n",
       "      <td>11000.00</td>\n",
       "      <td>17000.0</td>\n",
       "      <td>45000.0</td>\n",
       "    </tr>\n",
       "  </tbody>\n",
       "</table>\n",
       "</div>"
      ],
      "text/plain": [
       "             count          mean          std     min     25%       50%  \\\n",
       "V         234782.0     49.707743    45.637459   -42.0    13.6     36.20   \n",
       "diameter  234782.0     10.523603     4.487367     4.0     7.0      9.25   \n",
       "pitch     234782.0      7.308001     3.348207     2.0     4.5      6.50   \n",
       "rpm       234782.0  12508.699700  9050.014395  1000.0  6000.0  11000.00   \n",
       "\n",
       "              75%      max  \n",
       "V            73.8    319.6  \n",
       "diameter     13.5     27.0  \n",
       "pitch        10.0     22.5  \n",
       "rpm       17000.0  45000.0  "
      ]
     },
     "execution_count": 4,
     "metadata": {},
     "output_type": "execute_result"
    }
   ],
   "source": [
    "train_dataset = dataset.sample(frac=0.8, random_state=0)\n",
    "test_dataset = dataset.drop(train_dataset.index)\n",
    "train_labels = train_dataset.pop('Thrust')\n",
    "test_labels = test_dataset.pop('Thrust')\n",
    "\n",
    "train_stats = train_dataset.describe()\n",
    "train_stats = train_stats.transpose()\n",
    "train_stats"
   ]
  },
  {
   "cell_type": "code",
   "execution_count": 5,
   "metadata": {},
   "outputs": [],
   "source": [
    "def norm(x):\n",
    "    return (x - train_stats['mean']) / train_stats['std']"
   ]
  },
  {
   "cell_type": "code",
   "execution_count": 9,
   "metadata": {
    "scrolled": true
   },
   "outputs": [
    {
     "name": "stdout",
     "output_type": "stream",
     "text": [
      "Prop is available in dataset\n",
      "only one prop\n"
     ]
    },
    {
     "data": {
      "image/png": "[encoded data removed]",
      "text/plain": [
       "<Figure size 432x288 with 1 Axes>"
      ]
     },
     "metadata": {
      "needs_background": "light"
     },
     "output_type": "display_data"
    }
   ],
   "source": [
    "# diam = 16\n",
    "# pitch = 10\n",
    "# rpm = 13999\n",
    "# V_values = list(np.linspace(0,200,num=800))\n",
    "\n",
    "test_idx = 500\n",
    "diam = test_dataset['diameter'].iloc[test_idx]\n",
    "pitch = test_dataset['pitch'].iloc[test_idx]\n",
    "rpm = test_dataset['rpm'].iloc[test_idx]\n",
    "V_values = list(np.linspace(0,200,num=800))\n",
    "\n",
    "\n",
    "# Predicted Data:\n",
    "T_values = []\n",
    "for V_value in V_values:\n",
    "    input_df = pd.DataFrame([V_value,diam,pitch,rpm]).T\n",
    "    input_df.columns = ['V', 'diameter', 'pitch', 'rpm']\n",
    "    T_values.append(model.predict(norm(input_df))[0][0])\n",
    "    \n",
    "plt.plot(V_values, T_values, label='Predicted Data')\n",
    "\n",
    "# Real Data:\n",
    "prop_df = dataset.loc[dataset['diameter'] == diam].loc[dataset['pitch'] == pitch].loc[dataset['rpm'] == rpm]\n",
    "if prop_df.shape[0] > 3:    # prop is available in the dataset\n",
    "    print('Prop is available in dataset')\n",
    "    if prop_df.loc[prop_df['V'] == 0].index.shape[0] > 1:    # if there are multiple similar props\n",
    "        V_real = prop_df['V'].loc[int(prop_df.loc[prop_df['V'] == 0].index[0]):int(prop_df.loc[prop_df['V'] == 0].index[1]-1)]\n",
    "        T_real = prop_df['Thrust'].loc[int(prop_df.loc[prop_df['V'] == 0].index[0]):int(prop_df.loc[prop_df['V'] == 0].index[1]-1)]\n",
    "        print('found multiple props, only the first one is considered')\n",
    "    else:    # Only one prop\n",
    "        V_real = prop_df['V']\n",
    "        T_real = prop_df['Thrust']\n",
    "        print('only one prop')\n",
    "\n",
    "    plt.plot(V_real, T_real, label='Real Data')\n",
    "    plt.xlim([0,V_real.iloc[-1]])\n",
    "else:\n",
    "    print('Prop not available in dataset')\n",
    "\n",
    "\n",
    "plt.ylim([0,plt.ylim()[1]])\n",
    "plt.xlabel('V in MPH')\n",
    "plt.ylabel('Thrust in lbf')\n",
    "plt.title('prop_size = '+str(diam)+'x'+str(pitch)+'\\nRPM = '+str(rpm))\n",
    "plt.legend()\n",
    "plt.grid(True)\n",
    "plt.show()"
   ]
  },
  {
   "cell_type": "code",
   "execution_count": null,
   "metadata": {},
   "outputs": [],
   "source": []
  },
  {
   "cell_type": "code",
   "execution_count": null,
   "metadata": {},
   "outputs": [],
   "source": []
  },
  {
   "cell_type": "code",
   "execution_count": null,
   "metadata": {},
   "outputs": [],
   "source": []
  }
 ],
 "metadata": {
  "kernelspec": {
   "display_name": "Python 3",
   "language": "python",
   "name": "python3"
  },
  "language_info": {
   "codemirror_mode": {
    "name": "ipython",
    "version": 3
   },
   "file_extension": ".py",
   "mimetype": "text/x-python",
   "name": "python",
   "nbconvert_exporter": "python",
   "pygments_lexer": "ipython3",
   "version": "3.7.3"
  }
 },
 "nbformat": 4,
 "nbformat_minor": 2
}
