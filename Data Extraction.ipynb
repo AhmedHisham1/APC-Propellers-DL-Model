{
 "cells": [
  {
   "cell_type": "code",
   "execution_count": null,
   "metadata": {},
   "outputs": [],
   "source": [
    "import numpy as np\n",
    "import pandas as pd\n",
    "import matplotlib.pyplot as plt\n",
    "import os\n",
    "\n",
    "%matplotlib inline"
   ]
  },
  {
   "cell_type": "code",
   "execution_count": null,
   "metadata": {
    "scrolled": true
   },
   "outputs": [],
   "source": [
    "data_location = r'D:\\Graduation Project\\QuadPlane Design\\APC Propellers\\PERFILES_WEB\\PERFILES2'\n",
    "file_names_list = os.listdir(data_location)\n",
    "file_names_length = len(file_names_list)\n",
    "\n",
    "datContent = [i.strip().split() for i in open(data_location + '\\\\' + file_names_list[0]).readlines()]\n",
    "datContent\n",
    "raw_data_df = pd.DataFrame(datContent)\n",
    "raw_data_df"
   ]
  },
  {
   "cell_type": "code",
   "execution_count": null,
   "metadata": {
    "scrolled": true
   },
   "outputs": [],
   "source": [
    "# raw_data_df.loc[raw_data_df[0] == 'PROP']\n",
    "rpm_row_idx_list = raw_data_df.loc[raw_data_df[0] == 'PROP'].index    # all the rows that have PROP in it\n",
    "print(rpm_row_idx_list)\n",
    "edited_df = raw_data_df.drop(range(1,rpm_row_idx_list[0]), axis=0)    # dropping the empty lines before the first rpm\n",
    "# none_row_idx_list = edited_df.loc[edited_df[0] == None]\n",
    "# edited_df = edited_df.drop()\n",
    "for rpm_idx in range(len(rpm_row_idx_list)):\n",
    "#     edited_df = edited_df.reset_index().drop(['index'], axis=1)    # resetting the index and removing the new 'index' column intrudoced by pandas\n",
    "    edited_df = edited_df.drop(rpm_row_idx_list[rpm_idx]+range(1,4), axis=0)    # dropping the empty lines after rpm\n",
    "\n",
    "edited_df = edited_df.drop(edited_df.loc[edited_df[0].isnull()].index, axis=0)    # dropping all rows with none/null values in the first col    \n",
    "\n",
    "edited_df = edited_df.reset_index().drop(['index'], axis=1)    # resetting the index and removing the new 'index' column intrudoced by pandas\n",
    "rpm_idx_list_edited = edited_df.loc[edited_df[0] == 'PROP'].index    # all the rows that have PROP in it after dropping\n",
    "print(rpm_idx_list_edited)\n",
    "print(len(rpm_idx_list_edited))\n",
    "# edited_df"
   ]
  },
  {
   "cell_type": "code",
   "execution_count": null,
   "metadata": {
    "scrolled": true
   },
   "outputs": [],
   "source": [
    "print(type(edited_df.loc[edited_df[0] == 'PROP'][3][rpm_idx_list_edited[0]]))\n",
    "rpm_value = int(edited_df.loc[edited_df[0] == 'PROP'][3][rpm_idx_list_edited[0]])\n",
    "print(edited_df.loc[edited_df[0] == 'PROP'][3][rpm_idx_list_edited[0]])\n",
    "\n",
    "rpm_values = edited_df.loc[edited_df[0] == 'PROP'][3][rpm_idx_list_edited].to_list()\n",
    "print(rpm_values)\n",
    "rpm_values = [int(r) for r in rpm_values]\n",
    "print(rpm_values)\n",
    "print(len(rpm_values))"
   ]
  },
  {
   "cell_type": "code",
   "execution_count": null,
   "metadata": {},
   "outputs": [],
   "source": [
    "edited_df = edited_df.drop([8], axis=1)    # dropping the empty column 8\n",
    "edited_df_extended = edited_df\n",
    "edited_df_extended['rpm'] = None"
   ]
  },
  {
   "cell_type": "code",
   "execution_count": null,
   "metadata": {
    "scrolled": true
   },
   "outputs": [],
   "source": [
    "propeller_size_str = edited_df_extended[0][0]\n",
    "x_idx = propeller_size_str.find('x')\n",
    "propeller_diameter = float(propeller_size_str[:x_idx])\n",
    "print(propeller_diameter)\n",
    "print(x_idx)\n",
    "p_idx = len(propeller_size_str)\n",
    "print(p_idx)\n",
    "for character in propeller_size_str[x_idx+1:]:\n",
    "    if not character.isdigit() and character != '.':\n",
    "        print(character)\n",
    "        p_idx = propeller_size_str.find(character)\n",
    "\n",
    "print(p_idx)\n",
    "propeller_pitch = float(propeller_size_str[x_idx+1:p_idx])\n",
    "print(propeller_pitch)\n",
    "\n",
    "edited_df_extended['diameter'] = propeller_diameter\n",
    "edited_df_extended['pitch'] = propeller_pitch\n",
    "\n",
    "edited_df_extended = edited_df_extended.drop([0], axis=0)    # drop the first row (prop size info)\n",
    "edited_df_extended = edited_df_extended.reset_index().drop(['index'], axis=1)\n",
    "\n",
    "edited_df_extended"
   ]
  },
  {
   "cell_type": "code",
   "execution_count": null,
   "metadata": {
    "scrolled": true
   },
   "outputs": [],
   "source": [
    "rpm_df_all = pd.DataFrame()\n",
    "for i_rpm in range(0, len(rpm_values)):\n",
    "    rpm_np = np.dot(np.ones((rpm_idx_list_edited[i_rpm+1]-rpm_idx_list_edited[i_rpm],1)), rpm_values[i_rpm]) if i_rpm < len(rpm_values)-1 else np.dot(np.ones((edited_df_extended.shape[0]-rpm_idx_list_edited[i_rpm]+1,1)), rpm_values[i_rpm])\n",
    "#     print(np.size(rpm_np))\n",
    "#     print(type(rpm_np[rpm_idx_list_edited[0],0]))\n",
    "    rpm_series = pd.Series(rpm_np[:,0], index=range(len(rpm_np[:,0])))\n",
    "    rpm_df = pd.DataFrame(rpm_series)\n",
    "    rpm_df_all = rpm_df_all.append(rpm_df, ignore_index=True)\n",
    "#     edited_df_extended = edited_df_extended.append({'rpm': rpm_series}, ignore_index=True)\n",
    "#     edited_df_extended[:36][:]\n",
    "\n",
    "# rpm_series\n",
    "rpm_df_all\n",
    "# edited_df_extended"
   ]
  },
  {
   "cell_type": "code",
   "execution_count": null,
   "metadata": {},
   "outputs": [],
   "source": [
    "print(rpm_df_all.shape)\n",
    "print(edited_df_extended.shape)\n",
    "edited_df_extended['rpm'] = rpm_df_all\n",
    "edited_df_extended[0:36]"
   ]
  },
  {
   "cell_type": "code",
   "execution_count": null,
   "metadata": {
    "scrolled": true
   },
   "outputs": [],
   "source": []
  },
  {
   "cell_type": "code",
   "execution_count": null,
   "metadata": {},
   "outputs": [],
   "source": []
  }
 ],
 "metadata": {
  "kernelspec": {
   "display_name": "Python 3",
   "language": "python",
   "name": "python3"
  },
  "language_info": {
   "codemirror_mode": {
    "name": "ipython",
    "version": 3
   },
   "file_extension": ".py",
   "mimetype": "text/x-python",
   "name": "python",
   "nbconvert_exporter": "python",
   "pygments_lexer": "ipython3",
   "version": "3.7.3"
  }
 },
 "nbformat": 4,
 "nbformat_minor": 2
}
