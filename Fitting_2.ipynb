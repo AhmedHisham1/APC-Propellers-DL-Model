{
 "cells": [
  {
   "cell_type": "code",
   "execution_count": 1,
   "metadata": {},
   "outputs": [],
   "source": [
    "import pandas as pd\n",
    "import numpy as np\n",
    "import matplotlib.pyplot as plt\n",
    "\n",
    "%matplotlib inline"
   ]
  },
  {
   "cell_type": "code",
   "execution_count": 2,
   "metadata": {
    "scrolled": true
   },
   "outputs": [
    {
     "data": {
      "text/html": [
       "<div>\n",
       "<style scoped>\n",
       "    .dataframe tbody tr th:only-of-type {\n",
       "        vertical-align: middle;\n",
       "    }\n",
       "\n",
       "    .dataframe tbody tr th {\n",
       "        vertical-align: top;\n",
       "    }\n",
       "\n",
       "    .dataframe thead th {\n",
       "        text-align: right;\n",
       "    }\n",
       "</style>\n",
       "<table border=\"1\" class=\"dataframe\">\n",
       "  <thead>\n",
       "    <tr style=\"text-align: right;\">\n",
       "      <th></th>\n",
       "      <th>V</th>\n",
       "      <th>Thrust</th>\n",
       "      <th>diameter</th>\n",
       "      <th>pitch</th>\n",
       "      <th>rpm</th>\n",
       "    </tr>\n",
       "  </thead>\n",
       "  <tbody>\n",
       "    <tr>\n",
       "      <th>0</th>\n",
       "      <td>0.0</td>\n",
       "      <td>0.032</td>\n",
       "      <td>10.5</td>\n",
       "      <td>4.5</td>\n",
       "      <td>1000.0</td>\n",
       "    </tr>\n",
       "    <tr>\n",
       "      <th>1</th>\n",
       "      <td>0.2</td>\n",
       "      <td>0.032</td>\n",
       "      <td>10.5</td>\n",
       "      <td>4.5</td>\n",
       "      <td>1000.0</td>\n",
       "    </tr>\n",
       "    <tr>\n",
       "      <th>2</th>\n",
       "      <td>0.4</td>\n",
       "      <td>0.031</td>\n",
       "      <td>10.5</td>\n",
       "      <td>4.5</td>\n",
       "      <td>1000.0</td>\n",
       "    </tr>\n",
       "    <tr>\n",
       "      <th>3</th>\n",
       "      <td>0.7</td>\n",
       "      <td>0.031</td>\n",
       "      <td>10.5</td>\n",
       "      <td>4.5</td>\n",
       "      <td>1000.0</td>\n",
       "    </tr>\n",
       "    <tr>\n",
       "      <th>4</th>\n",
       "      <td>0.9</td>\n",
       "      <td>0.030</td>\n",
       "      <td>10.5</td>\n",
       "      <td>4.5</td>\n",
       "      <td>1000.0</td>\n",
       "    </tr>\n",
       "  </tbody>\n",
       "</table>\n",
       "</div>"
      ],
      "text/plain": [
       "     V  Thrust  diameter  pitch     rpm\n",
       "0  0.0   0.032      10.5    4.5  1000.0\n",
       "1  0.2   0.032      10.5    4.5  1000.0\n",
       "2  0.4   0.031      10.5    4.5  1000.0\n",
       "3  0.7   0.031      10.5    4.5  1000.0\n",
       "4  0.9   0.030      10.5    4.5  1000.0"
      ]
     },
     "execution_count": 2,
     "metadata": {},
     "output_type": "execute_result"
    }
   ],
   "source": [
    "big_df = pd.read_csv(r'D:\\Graduation Project\\QuadPlane Design\\APC Propellers\\PERFILES_WEB\\all_props_cleaned_petite.csv')\n",
    "big_df.head()"
   ]
  },
  {
   "cell_type": "code",
   "execution_count": 3,
   "metadata": {},
   "outputs": [],
   "source": [
    "import tensorflow as tf"
   ]
  },
  {
   "cell_type": "code",
   "execution_count": 4,
   "metadata": {},
   "outputs": [
    {
     "data": {
      "text/html": [
       "<div>\n",
       "<style scoped>\n",
       "    .dataframe tbody tr th:only-of-type {\n",
       "        vertical-align: middle;\n",
       "    }\n",
       "\n",
       "    .dataframe tbody tr th {\n",
       "        vertical-align: top;\n",
       "    }\n",
       "\n",
       "    .dataframe thead th {\n",
       "        text-align: right;\n",
       "    }\n",
       "</style>\n",
       "<table border=\"1\" class=\"dataframe\">\n",
       "  <thead>\n",
       "    <tr style=\"text-align: right;\">\n",
       "      <th></th>\n",
       "      <th>V</th>\n",
       "      <th>Thrust</th>\n",
       "      <th>diameter</th>\n",
       "      <th>pitch</th>\n",
       "      <th>rpm</th>\n",
       "    </tr>\n",
       "  </thead>\n",
       "  <tbody>\n",
       "    <tr>\n",
       "      <th>293474</th>\n",
       "      <td>191.0</td>\n",
       "      <td>4.365</td>\n",
       "      <td>9.0</td>\n",
       "      <td>9.0</td>\n",
       "      <td>21000.0</td>\n",
       "    </tr>\n",
       "    <tr>\n",
       "      <th>293475</th>\n",
       "      <td>198.7</td>\n",
       "      <td>3.338</td>\n",
       "      <td>9.0</td>\n",
       "      <td>9.0</td>\n",
       "      <td>21000.0</td>\n",
       "    </tr>\n",
       "    <tr>\n",
       "      <th>293476</th>\n",
       "      <td>206.3</td>\n",
       "      <td>2.277</td>\n",
       "      <td>9.0</td>\n",
       "      <td>9.0</td>\n",
       "      <td>21000.0</td>\n",
       "    </tr>\n",
       "    <tr>\n",
       "      <th>293477</th>\n",
       "      <td>214.0</td>\n",
       "      <td>1.189</td>\n",
       "      <td>9.0</td>\n",
       "      <td>9.0</td>\n",
       "      <td>21000.0</td>\n",
       "    </tr>\n",
       "    <tr>\n",
       "      <th>293478</th>\n",
       "      <td>221.6</td>\n",
       "      <td>0.009</td>\n",
       "      <td>9.0</td>\n",
       "      <td>9.0</td>\n",
       "      <td>21000.0</td>\n",
       "    </tr>\n",
       "  </tbody>\n",
       "</table>\n",
       "</div>"
      ],
      "text/plain": [
       "            V  Thrust  diameter  pitch      rpm\n",
       "293474  191.0   4.365       9.0    9.0  21000.0\n",
       "293475  198.7   3.338       9.0    9.0  21000.0\n",
       "293476  206.3   2.277       9.0    9.0  21000.0\n",
       "293477  214.0   1.189       9.0    9.0  21000.0\n",
       "293478  221.6   0.009       9.0    9.0  21000.0"
      ]
     },
     "execution_count": 4,
     "metadata": {},
     "output_type": "execute_result"
    }
   ],
   "source": [
    "dataset = big_df.copy()\n",
    "dataset.tail()"
   ]
  },
  {
   "cell_type": "code",
   "execution_count": 5,
   "metadata": {},
   "outputs": [
    {
     "data": {
      "text/plain": [
       "V           0\n",
       "Thrust      1\n",
       "diameter    0\n",
       "pitch       0\n",
       "rpm         0\n",
       "dtype: int64"
      ]
     },
     "execution_count": 5,
     "metadata": {},
     "output_type": "execute_result"
    }
   ],
   "source": [
    "dataset.isna().sum()"
   ]
  },
  {
   "cell_type": "code",
   "execution_count": 6,
   "metadata": {},
   "outputs": [],
   "source": [
    "dataset = dataset.dropna()"
   ]
  },
  {
   "cell_type": "code",
   "execution_count": 7,
   "metadata": {},
   "outputs": [
    {
     "data": {
      "text/plain": [
       "V           0\n",
       "Thrust      0\n",
       "diameter    0\n",
       "pitch       0\n",
       "rpm         0\n",
       "dtype: int64"
      ]
     },
     "execution_count": 7,
     "metadata": {},
     "output_type": "execute_result"
    }
   ],
   "source": [
    "dataset.isna().sum()"
   ]
  },
  {
   "cell_type": "code",
   "execution_count": 8,
   "metadata": {},
   "outputs": [
    {
     "data": {
      "text/html": [
       "<div>\n",
       "<style scoped>\n",
       "    .dataframe tbody tr th:only-of-type {\n",
       "        vertical-align: middle;\n",
       "    }\n",
       "\n",
       "    .dataframe tbody tr th {\n",
       "        vertical-align: top;\n",
       "    }\n",
       "\n",
       "    .dataframe thead th {\n",
       "        text-align: right;\n",
       "    }\n",
       "</style>\n",
       "<table border=\"1\" class=\"dataframe\">\n",
       "  <thead>\n",
       "    <tr style=\"text-align: right;\">\n",
       "      <th></th>\n",
       "      <th>V</th>\n",
       "      <th>Thrust</th>\n",
       "      <th>diameter</th>\n",
       "      <th>pitch</th>\n",
       "      <th>rpm</th>\n",
       "    </tr>\n",
       "  </thead>\n",
       "  <tbody>\n",
       "    <tr>\n",
       "      <th>128473</th>\n",
       "      <td>68.4</td>\n",
       "      <td>34.477</td>\n",
       "      <td>20.00</td>\n",
       "      <td>14.00</td>\n",
       "      <td>9000.0</td>\n",
       "    </tr>\n",
       "    <tr>\n",
       "      <th>216443</th>\n",
       "      <td>89.8</td>\n",
       "      <td>5.334</td>\n",
       "      <td>7.00</td>\n",
       "      <td>5.00</td>\n",
       "      <td>26000.0</td>\n",
       "    </tr>\n",
       "    <tr>\n",
       "      <th>153175</th>\n",
       "      <td>217.4</td>\n",
       "      <td>1.552</td>\n",
       "      <td>4.75</td>\n",
       "      <td>4.75</td>\n",
       "      <td>43000.0</td>\n",
       "    </tr>\n",
       "    <tr>\n",
       "      <th>101545</th>\n",
       "      <td>59.9</td>\n",
       "      <td>19.442</td>\n",
       "      <td>16.00</td>\n",
       "      <td>4.00</td>\n",
       "      <td>15000.0</td>\n",
       "    </tr>\n",
       "    <tr>\n",
       "      <th>207862</th>\n",
       "      <td>85.6</td>\n",
       "      <td>1.142</td>\n",
       "      <td>7.80</td>\n",
       "      <td>7.00</td>\n",
       "      <td>13000.0</td>\n",
       "    </tr>\n",
       "  </tbody>\n",
       "</table>\n",
       "</div>"
      ],
      "text/plain": [
       "            V  Thrust  diameter  pitch      rpm\n",
       "128473   68.4  34.477     20.00  14.00   9000.0\n",
       "216443   89.8   5.334      7.00   5.00  26000.0\n",
       "153175  217.4   1.552      4.75   4.75  43000.0\n",
       "101545   59.9  19.442     16.00   4.00  15000.0\n",
       "207862   85.6   1.142      7.80   7.00  13000.0"
      ]
     },
     "execution_count": 8,
     "metadata": {},
     "output_type": "execute_result"
    }
   ],
   "source": [
    "train_dataset = dataset.sample(frac=0.8,random_state=0)\n",
    "test_dataset = dataset.drop(train_dataset.index)\n",
    "train_dataset.tail()"
   ]
  },
  {
   "cell_type": "code",
   "execution_count": 9,
   "metadata": {},
   "outputs": [
    {
     "data": {
      "text/html": [
       "<div>\n",
       "<style scoped>\n",
       "    .dataframe tbody tr th:only-of-type {\n",
       "        vertical-align: middle;\n",
       "    }\n",
       "\n",
       "    .dataframe tbody tr th {\n",
       "        vertical-align: top;\n",
       "    }\n",
       "\n",
       "    .dataframe thead th {\n",
       "        text-align: right;\n",
       "    }\n",
       "</style>\n",
       "<table border=\"1\" class=\"dataframe\">\n",
       "  <thead>\n",
       "    <tr style=\"text-align: right;\">\n",
       "      <th></th>\n",
       "      <th>V</th>\n",
       "      <th>diameter</th>\n",
       "      <th>pitch</th>\n",
       "      <th>rpm</th>\n",
       "    </tr>\n",
       "  </thead>\n",
       "  <tbody>\n",
       "    <tr>\n",
       "      <th>112269</th>\n",
       "      <td>39.3</td>\n",
       "      <td>18.1</td>\n",
       "      <td>10.0</td>\n",
       "      <td>5000.0</td>\n",
       "    </tr>\n",
       "    <tr>\n",
       "      <th>201258</th>\n",
       "      <td>5.3</td>\n",
       "      <td>7.4</td>\n",
       "      <td>7.6</td>\n",
       "      <td>18000.0</td>\n",
       "    </tr>\n",
       "    <tr>\n",
       "      <th>185035</th>\n",
       "      <td>51.3</td>\n",
       "      <td>6.5</td>\n",
       "      <td>3.7</td>\n",
       "      <td>17000.0</td>\n",
       "    </tr>\n",
       "    <tr>\n",
       "      <th>129423</th>\n",
       "      <td>33.9</td>\n",
       "      <td>20.0</td>\n",
       "      <td>15.0</td>\n",
       "      <td>9000.0</td>\n",
       "    </tr>\n",
       "    <tr>\n",
       "      <th>13743</th>\n",
       "      <td>26.3</td>\n",
       "      <td>10.0</td>\n",
       "      <td>8.0</td>\n",
       "      <td>20000.0</td>\n",
       "    </tr>\n",
       "  </tbody>\n",
       "</table>\n",
       "</div>"
      ],
      "text/plain": [
       "           V  diameter  pitch      rpm\n",
       "112269  39.3      18.1   10.0   5000.0\n",
       "201258   5.3       7.4    7.6  18000.0\n",
       "185035  51.3       6.5    3.7  17000.0\n",
       "129423  33.9      20.0   15.0   9000.0\n",
       "13743   26.3      10.0    8.0  20000.0"
      ]
     },
     "execution_count": 9,
     "metadata": {},
     "output_type": "execute_result"
    }
   ],
   "source": [
    "train_labels = train_dataset.pop('Thrust')\n",
    "test_labels = test_dataset.pop('Thrust')\n",
    "train_dataset.head()"
   ]
  },
  {
   "cell_type": "code",
   "execution_count": 10,
   "metadata": {},
   "outputs": [
    {
     "data": {
      "text/html": [
       "<div>\n",
       "<style scoped>\n",
       "    .dataframe tbody tr th:only-of-type {\n",
       "        vertical-align: middle;\n",
       "    }\n",
       "\n",
       "    .dataframe tbody tr th {\n",
       "        vertical-align: top;\n",
       "    }\n",
       "\n",
       "    .dataframe thead th {\n",
       "        text-align: right;\n",
       "    }\n",
       "</style>\n",
       "<table border=\"1\" class=\"dataframe\">\n",
       "  <thead>\n",
       "    <tr style=\"text-align: right;\">\n",
       "      <th></th>\n",
       "      <th>count</th>\n",
       "      <th>mean</th>\n",
       "      <th>std</th>\n",
       "      <th>min</th>\n",
       "      <th>25%</th>\n",
       "      <th>50%</th>\n",
       "      <th>75%</th>\n",
       "      <th>max</th>\n",
       "    </tr>\n",
       "  </thead>\n",
       "  <tbody>\n",
       "    <tr>\n",
       "      <th>V</th>\n",
       "      <td>234782.0</td>\n",
       "      <td>49.707743</td>\n",
       "      <td>45.637459</td>\n",
       "      <td>-42.0</td>\n",
       "      <td>13.6</td>\n",
       "      <td>36.20</td>\n",
       "      <td>73.8</td>\n",
       "      <td>319.6</td>\n",
       "    </tr>\n",
       "    <tr>\n",
       "      <th>diameter</th>\n",
       "      <td>234782.0</td>\n",
       "      <td>10.523603</td>\n",
       "      <td>4.487367</td>\n",
       "      <td>4.0</td>\n",
       "      <td>7.0</td>\n",
       "      <td>9.25</td>\n",
       "      <td>13.5</td>\n",
       "      <td>27.0</td>\n",
       "    </tr>\n",
       "    <tr>\n",
       "      <th>pitch</th>\n",
       "      <td>234782.0</td>\n",
       "      <td>7.308001</td>\n",
       "      <td>3.348207</td>\n",
       "      <td>2.0</td>\n",
       "      <td>4.5</td>\n",
       "      <td>6.50</td>\n",
       "      <td>10.0</td>\n",
       "      <td>22.5</td>\n",
       "    </tr>\n",
       "    <tr>\n",
       "      <th>rpm</th>\n",
       "      <td>234782.0</td>\n",
       "      <td>12508.699700</td>\n",
       "      <td>9050.014395</td>\n",
       "      <td>1000.0</td>\n",
       "      <td>6000.0</td>\n",
       "      <td>11000.00</td>\n",
       "      <td>17000.0</td>\n",
       "      <td>45000.0</td>\n",
       "    </tr>\n",
       "  </tbody>\n",
       "</table>\n",
       "</div>"
      ],
      "text/plain": [
       "             count          mean          std     min     25%       50%  \\\n",
       "V         234782.0     49.707743    45.637459   -42.0    13.6     36.20   \n",
       "diameter  234782.0     10.523603     4.487367     4.0     7.0      9.25   \n",
       "pitch     234782.0      7.308001     3.348207     2.0     4.5      6.50   \n",
       "rpm       234782.0  12508.699700  9050.014395  1000.0  6000.0  11000.00   \n",
       "\n",
       "              75%      max  \n",
       "V            73.8    319.6  \n",
       "diameter     13.5     27.0  \n",
       "pitch        10.0     22.5  \n",
       "rpm       17000.0  45000.0  "
      ]
     },
     "execution_count": 10,
     "metadata": {},
     "output_type": "execute_result"
    }
   ],
   "source": [
    "train_stats = train_dataset.describe()\n",
    "train_stats = train_stats.transpose()\n",
    "train_stats"
   ]
  },
  {
   "cell_type": "code",
   "execution_count": 11,
   "metadata": {},
   "outputs": [
    {
     "data": {
      "text/html": [
       "<div>\n",
       "<style scoped>\n",
       "    .dataframe tbody tr th:only-of-type {\n",
       "        vertical-align: middle;\n",
       "    }\n",
       "\n",
       "    .dataframe tbody tr th {\n",
       "        vertical-align: top;\n",
       "    }\n",
       "\n",
       "    .dataframe thead th {\n",
       "        text-align: right;\n",
       "    }\n",
       "</style>\n",
       "<table border=\"1\" class=\"dataframe\">\n",
       "  <thead>\n",
       "    <tr style=\"text-align: right;\">\n",
       "      <th></th>\n",
       "      <th>V</th>\n",
       "      <th>diameter</th>\n",
       "      <th>pitch</th>\n",
       "      <th>rpm</th>\n",
       "    </tr>\n",
       "  </thead>\n",
       "  <tbody>\n",
       "    <tr>\n",
       "      <th>112269</th>\n",
       "      <td>-0.228053</td>\n",
       "      <td>1.688384</td>\n",
       "      <td>0.804012</td>\n",
       "      <td>-0.829689</td>\n",
       "    </tr>\n",
       "    <tr>\n",
       "      <th>201258</th>\n",
       "      <td>-0.973055</td>\n",
       "      <td>-0.696088</td>\n",
       "      <td>0.087211</td>\n",
       "      <td>0.606773</td>\n",
       "    </tr>\n",
       "    <tr>\n",
       "      <th>185035</th>\n",
       "      <td>0.034889</td>\n",
       "      <td>-0.896651</td>\n",
       "      <td>-1.077592</td>\n",
       "      <td>0.496275</td>\n",
       "    </tr>\n",
       "    <tr>\n",
       "      <th>129423</th>\n",
       "      <td>-0.346376</td>\n",
       "      <td>2.111795</td>\n",
       "      <td>2.297349</td>\n",
       "      <td>-0.387701</td>\n",
       "    </tr>\n",
       "    <tr>\n",
       "      <th>13743</th>\n",
       "      <td>-0.512906</td>\n",
       "      <td>-0.116684</td>\n",
       "      <td>0.206678</td>\n",
       "      <td>0.827767</td>\n",
       "    </tr>\n",
       "  </tbody>\n",
       "</table>\n",
       "</div>"
      ],
      "text/plain": [
       "               V  diameter     pitch       rpm\n",
       "112269 -0.228053  1.688384  0.804012 -0.829689\n",
       "201258 -0.973055 -0.696088  0.087211  0.606773\n",
       "185035  0.034889 -0.896651 -1.077592  0.496275\n",
       "129423 -0.346376  2.111795  2.297349 -0.387701\n",
       "13743  -0.512906 -0.116684  0.206678  0.827767"
      ]
     },
     "execution_count": 11,
     "metadata": {},
     "output_type": "execute_result"
    }
   ],
   "source": [
    "def norm(x):\n",
    "    return (x - train_stats['mean']) / train_stats['std']\n",
    "normed_train_data = norm(train_dataset)\n",
    "normed_test_data = norm(test_dataset)\n",
    "normed_train_data.head()"
   ]
  },
  {
   "cell_type": "code",
   "execution_count": 12,
   "metadata": {},
   "outputs": [
    {
     "name": "stderr",
     "output_type": "stream",
     "text": [
      "WARNING: Logging before flag parsing goes to stderr.\n",
      "W1018 16:01:08.196290 21248 deprecation.py:506] From C:\\ProgramData\\Anaconda3\\lib\\site-packages\\tensorflow\\python\\ops\\init_ops.py:1251: calling VarianceScaling.__init__ (from tensorflow.python.ops.init_ops) with dtype is deprecated and will be removed in a future version.\n",
      "Instructions for updating:\n",
      "Call initializer instance with the dtype argument instead of passing it to the constructor\n"
     ]
    },
    {
     "name": "stdout",
     "output_type": "stream",
     "text": [
      "Model: \"sequential\"\n",
      "_________________________________________________________________\n",
      "Layer (type)                 Output Shape              Param #   \n",
      "=================================================================\n",
      "dense (Dense)                (None, 128)               640       \n",
      "_________________________________________________________________\n",
      "dense_1 (Dense)              (None, 64)                8256      \n",
      "_________________________________________________________________\n",
      "dense_2 (Dense)              (None, 64)                4160      \n",
      "_________________________________________________________________\n",
      "dense_3 (Dense)              (None, 32)                2080      \n",
      "_________________________________________________________________\n",
      "dense_4 (Dense)              (None, 16)                528       \n",
      "_________________________________________________________________\n",
      "dense_5 (Dense)              (None, 8)                 136       \n",
      "_________________________________________________________________\n",
      "dense_6 (Dense)              (None, 1)                 9         \n",
      "=================================================================\n",
      "Total params: 15,809\n",
      "Trainable params: 15,809\n",
      "Non-trainable params: 0\n",
      "_________________________________________________________________\n"
     ]
    }
   ],
   "source": [
    "model = tf.keras.Sequential([\n",
    "    tf.keras.layers.Dense(128, activation='relu', input_shape=[len(train_dataset.keys())]),\n",
    "    tf.keras.layers.Dense(64, activation='relu'),\n",
    "    tf.keras.layers.Dense(64, activation='relu'),\n",
    "    tf.keras.layers.Dense(32, activation='relu'),\n",
    "    tf.keras.layers.Dense(16, activation='relu'),\n",
    "    tf.keras.layers.Dense(8, activation='relu'),\n",
    "    tf.keras.layers.Dense(1)\n",
    "  ])\n",
    "\n",
    "optimizer = tf.keras.optimizers.RMSprop(0.001)\n",
    "\n",
    "model.compile(loss='mse', optimizer=optimizer, metrics=['mae', 'mse'])\n",
    "\n",
    "model.summary()"
   ]
  },
  {
   "cell_type": "code",
   "execution_count": 13,
   "metadata": {},
   "outputs": [
    {
     "data": {
      "text/plain": [
       "array([[-0.12590289],\n",
       "       [-0.14481556],\n",
       "       [-0.1710695 ],\n",
       "       [-0.22369283],\n",
       "       [-0.08959889],\n",
       "       [-0.12809788],\n",
       "       [-0.11789905],\n",
       "       [-0.19736561],\n",
       "       [-0.13647318],\n",
       "       [-0.04921156]], dtype=float32)"
      ]
     },
     "execution_count": 13,
     "metadata": {},
     "output_type": "execute_result"
    }
   ],
   "source": [
    "example_batch = normed_train_data[:10]\n",
    "example_result = model.predict(example_batch)\n",
    "example_result"
   ]
  },
  {
   "cell_type": "code",
   "execution_count": 14,
   "metadata": {
    "scrolled": true
   },
   "outputs": [
    {
     "name": "stdout",
     "output_type": "stream",
     "text": [
      "Train on 187825 samples, validate on 46957 samples\n",
      "Epoch 1/200\n",
      "187825/187825 [==============================] - 6s 30us/sample - loss: 4.4508 - mean_absolute_error: 0.9716 - mean_squared_error: 4.4508 - val_loss: 2.0178 - val_mean_absolute_error: 0.7204 - val_mean_squared_error: 2.0178\n",
      "Epoch 2/200\n",
      "187825/187825 [==============================] - 5s 29us/sample - loss: 1.8862 - mean_absolute_error: 0.7048 - mean_squared_error: 1.8862 - val_loss: 1.8644 - val_mean_absolute_error: 0.6420 - val_mean_squared_error: 1.8644\n",
      "Epoch 3/200\n",
      "187825/187825 [==============================] - 6s 31us/sample - loss: 1.7218 - mean_absolute_error: 0.6683 - mean_squared_error: 1.7218 - val_loss: 2.0693 - val_mean_absolute_error: 0.6548 - val_mean_squared_error: 2.0693\n",
      "Epoch 4/200\n",
      "187825/187825 [==============================] - 6s 29us/sample - loss: 1.6388 - mean_absolute_error: 0.6473 - mean_squared_error: 1.6388 - val_loss: 1.4681 - val_mean_absolute_error: 0.6044 - val_mean_squared_error: 1.4681\n",
      "Epoch 5/200\n",
      "187825/187825 [==============================] - 5s 29us/sample - loss: 1.5693 - mean_absolute_error: 0.6307 - mean_squared_error: 1.5693 - val_loss: 1.4865 - val_mean_absolute_error: 0.6046 - val_mean_squared_error: 1.4865\n",
      "Epoch 6/200\n",
      "187825/187825 [==============================] - 6s 30us/sample - loss: 1.5222 - mean_absolute_error: 0.6169 - mean_squared_error: 1.5222 - val_loss: 1.5606 - val_mean_absolute_error: 0.6442 - val_mean_squared_error: 1.5606\n",
      "Epoch 7/200\n",
      "187825/187825 [==============================] - 5s 29us/sample - loss: 1.4780 - mean_absolute_error: 0.6076 - mean_squared_error: 1.4780 - val_loss: 1.7090 - val_mean_absolute_error: 0.6600 - val_mean_squared_error: 1.7090\n",
      "Epoch 8/200\n",
      "187825/187825 [==============================] - 5s 29us/sample - loss: 1.4463 - mean_absolute_error: 0.5971 - mean_squared_error: 1.4463 - val_loss: 1.5011 - val_mean_absolute_error: 0.5767 - val_mean_squared_error: 1.5011\n",
      "Epoch 9/200\n",
      "187825/187825 [==============================] - 6s 30us/sample - loss: 1.4028 - mean_absolute_error: 0.5885 - mean_squared_error: 1.4028 - val_loss: 1.4880 - val_mean_absolute_error: 0.6098 - val_mean_squared_error: 1.4880\n",
      "Epoch 10/200\n",
      "187825/187825 [==============================] - 6s 30us/sample - loss: 1.3866 - mean_absolute_error: 0.5843 - mean_squared_error: 1.3866 - val_loss: 1.6274 - val_mean_absolute_error: 0.6570 - val_mean_squared_error: 1.6274\n",
      "Epoch 11/200\n",
      "187825/187825 [==============================] - 6s 29us/sample - loss: 1.3629 - mean_absolute_error: 0.5771 - mean_squared_error: 1.3629 - val_loss: 1.5611 - val_mean_absolute_error: 0.5816 - val_mean_squared_error: 1.5611\n",
      "Epoch 12/200\n",
      "187825/187825 [==============================] - 6s 30us/sample - loss: 1.3489 - mean_absolute_error: 0.5690 - mean_squared_error: 1.3489 - val_loss: 1.3351 - val_mean_absolute_error: 0.5521 - val_mean_squared_error: 1.3351\n",
      "Epoch 13/200\n",
      "187825/187825 [==============================] - 6s 32us/sample - loss: 1.3381 - mean_absolute_error: 0.5679 - mean_squared_error: 1.3381 - val_loss: 1.2990 - val_mean_absolute_error: 0.5534 - val_mean_squared_error: 1.2990\n",
      "Epoch 14/200\n",
      "187825/187825 [==============================] - 6s 30us/sample - loss: 1.3247 - mean_absolute_error: 0.5634 - mean_squared_error: 1.3247 - val_loss: 1.3568 - val_mean_absolute_error: 0.5517 - val_mean_squared_error: 1.3568\n",
      "Epoch 15/200\n",
      "187825/187825 [==============================] - 5s 29us/sample - loss: 1.3194 - mean_absolute_error: 0.5615 - mean_squared_error: 1.3194 - val_loss: 1.7972 - val_mean_absolute_error: 0.6557 - val_mean_squared_error: 1.7972\n",
      "Epoch 16/200\n",
      "187825/187825 [==============================] - 5s 29us/sample - loss: 1.3151 - mean_absolute_error: 0.5602 - mean_squared_error: 1.3151 - val_loss: 1.3474 - val_mean_absolute_error: 0.5807 - val_mean_squared_error: 1.3474\n",
      "Epoch 17/200\n",
      "187825/187825 [==============================] - 6s 32us/sample - loss: 1.3028 - mean_absolute_error: 0.5584 - mean_squared_error: 1.3028 - val_loss: 1.4825 - val_mean_absolute_error: 0.6032 - val_mean_squared_error: 1.4824\n",
      "Epoch 18/200\n",
      "187825/187825 [==============================] - 6s 34us/sample - loss: 1.2898 - mean_absolute_error: 0.5562 - mean_squared_error: 1.2898 - val_loss: 1.3148 - val_mean_absolute_error: 0.5411 - val_mean_squared_error: 1.3148\n",
      "Epoch 19/200\n",
      "187825/187825 [==============================] - 6s 30us/sample - loss: 1.2818 - mean_absolute_error: 0.5555 - mean_squared_error: 1.2818 - val_loss: 1.6264 - val_mean_absolute_error: 0.5782 - val_mean_squared_error: 1.6264\n",
      "Epoch 20/200\n",
      "187825/187825 [==============================] - 5s 29us/sample - loss: 1.2780 - mean_absolute_error: 0.5516 - mean_squared_error: 1.2780 - val_loss: 1.2961 - val_mean_absolute_error: 0.5427 - val_mean_squared_error: 1.2961\n",
      "Epoch 21/200\n",
      "187825/187825 [==============================] - 6s 29us/sample - loss: 1.2736 - mean_absolute_error: 0.5516 - mean_squared_error: 1.2736 - val_loss: 1.3180 - val_mean_absolute_error: 0.5285 - val_mean_squared_error: 1.3180\n",
      "Epoch 22/200\n",
      "187825/187825 [==============================] - 6s 33us/sample - loss: 1.2664 - mean_absolute_error: 0.5490 - mean_squared_error: 1.2664 - val_loss: 1.3522 - val_mean_absolute_error: 0.5577 - val_mean_squared_error: 1.3522\n",
      "Epoch 23/200\n",
      "187825/187825 [==============================] - 6s 30us/sample - loss: 1.2695 - mean_absolute_error: 0.5507 - mean_squared_error: 1.2695 - val_loss: 1.3302 - val_mean_absolute_error: 0.5746 - val_mean_squared_error: 1.3302\n",
      "Epoch 24/200\n",
      "187825/187825 [==============================] - 6s 30us/sample - loss: 1.2693 - mean_absolute_error: 0.5496 - mean_squared_error: 1.2693 - val_loss: 1.3946 - val_mean_absolute_error: 0.5781 - val_mean_squared_error: 1.3946\n",
      "Epoch 25/200\n",
      "187825/187825 [==============================] - 6s 31us/sample - loss: 1.2637 - mean_absolute_error: 0.5489 - mean_squared_error: 1.2637 - val_loss: 1.3648 - val_mean_absolute_error: 0.5883 - val_mean_squared_error: 1.3648\n",
      "Epoch 26/200\n",
      "187825/187825 [==============================] - 6s 29us/sample - loss: 1.2572 - mean_absolute_error: 0.5486 - mean_squared_error: 1.2572 - val_loss: 1.4145 - val_mean_absolute_error: 0.5722 - val_mean_squared_error: 1.4145\n",
      "Epoch 27/200\n",
      "187825/187825 [==============================] - 6s 29us/sample - loss: 1.2566 - mean_absolute_error: 0.5486 - mean_squared_error: 1.2566 - val_loss: 1.3020 - val_mean_absolute_error: 0.5749 - val_mean_squared_error: 1.3020\n",
      "Epoch 28/200\n",
      "187825/187825 [==============================] - 6s 32us/sample - loss: 1.2559 - mean_absolute_error: 0.5501 - mean_squared_error: 1.2559 - val_loss: 1.4008 - val_mean_absolute_error: 0.5828 - val_mean_squared_error: 1.4008\n",
      "Epoch 29/200\n",
      "187825/187825 [==============================] - 6s 32us/sample - loss: 1.2532 - mean_absolute_error: 0.5498 - mean_squared_error: 1.2532 - val_loss: 1.3089 - val_mean_absolute_error: 0.5535 - val_mean_squared_error: 1.3089\n",
      "Epoch 30/200\n",
      "187825/187825 [==============================] - 6s 30us/sample - loss: 1.2523 - mean_absolute_error: 0.5504 - mean_squared_error: 1.2523 - val_loss: 1.2646 - val_mean_absolute_error: 0.5361 - val_mean_squared_error: 1.2646\n",
      "Epoch 31/200\n",
      "187825/187825 [==============================] - 6s 30us/sample - loss: 1.2531 - mean_absolute_error: 0.5520 - mean_squared_error: 1.2531 - val_loss: 1.2845 - val_mean_absolute_error: 0.5539 - val_mean_squared_error: 1.2845\n",
      "Epoch 32/200\n",
      "187825/187825 [==============================] - 6s 30us/sample - loss: 1.2502 - mean_absolute_error: 0.5539 - mean_squared_error: 1.2502 - val_loss: 1.2628 - val_mean_absolute_error: 0.5545 - val_mean_squared_error: 1.2628\n",
      "Epoch 33/200\n",
      "187825/187825 [==============================] - 6s 31us/sample - loss: 1.2487 - mean_absolute_error: 0.5556 - mean_squared_error: 1.2487 - val_loss: 1.3605 - val_mean_absolute_error: 0.6250 - val_mean_squared_error: 1.3605\n",
      "Epoch 34/200\n",
      "187825/187825 [==============================] - 6s 31us/sample - loss: 1.2476 - mean_absolute_error: 0.5543 - mean_squared_error: 1.2476 - val_loss: 1.3095 - val_mean_absolute_error: 0.5670 - val_mean_squared_error: 1.3095\n",
      "Epoch 35/200\n"
     ]
    },
    {
     "name": "stdout",
     "output_type": "stream",
     "text": [
      "187825/187825 [==============================] - 5s 29us/sample - loss: 1.2469 - mean_absolute_error: 0.5537 - mean_squared_error: 1.2469 - val_loss: 1.3261 - val_mean_absolute_error: 0.5798 - val_mean_squared_error: 1.3261\n",
      "Epoch 36/200\n",
      "187825/187825 [==============================] - 6s 30us/sample - loss: 1.2448 - mean_absolute_error: 0.5524 - mean_squared_error: 1.2448 - val_loss: 1.4244 - val_mean_absolute_error: 0.6010 - val_mean_squared_error: 1.4244\n",
      "Epoch 37/200\n",
      "187825/187825 [==============================] - 6s 30us/sample - loss: 1.2404 - mean_absolute_error: 0.5518 - mean_squared_error: 1.2404 - val_loss: 1.3127 - val_mean_absolute_error: 0.5448 - val_mean_squared_error: 1.3126\n",
      "Epoch 38/200\n",
      "187825/187825 [==============================] - 6s 30us/sample - loss: 1.2355 - mean_absolute_error: 0.5500 - mean_squared_error: 1.2355 - val_loss: 1.2940 - val_mean_absolute_error: 0.5589 - val_mean_squared_error: 1.2940\n",
      "Epoch 39/200\n",
      "187825/187825 [==============================] - 6s 30us/sample - loss: 1.2307 - mean_absolute_error: 0.5494 - mean_squared_error: 1.2307 - val_loss: 1.3876 - val_mean_absolute_error: 0.5711 - val_mean_squared_error: 1.3876\n",
      "Epoch 40/200\n",
      "187825/187825 [==============================] - 6s 30us/sample - loss: 1.2355 - mean_absolute_error: 0.5506 - mean_squared_error: 1.2355 - val_loss: 1.2850 - val_mean_absolute_error: 0.5817 - val_mean_squared_error: 1.2850\n",
      "Epoch 41/200\n",
      "187825/187825 [==============================] - 6s 32us/sample - loss: 1.2364 - mean_absolute_error: 0.5506 - mean_squared_error: 1.2364 - val_loss: 1.3023 - val_mean_absolute_error: 0.6129 - val_mean_squared_error: 1.3023\n",
      "Epoch 42/200\n",
      "187825/187825 [==============================] - 6s 32us/sample - loss: 1.2311 - mean_absolute_error: 0.5506 - mean_squared_error: 1.2311 - val_loss: 1.2748 - val_mean_absolute_error: 0.5620 - val_mean_squared_error: 1.2748\n",
      "Epoch 43/200\n",
      "187825/187825 [==============================] - 6s 32us/sample - loss: 1.2322 - mean_absolute_error: 0.5499 - mean_squared_error: 1.2322 - val_loss: 1.3016 - val_mean_absolute_error: 0.5394 - val_mean_squared_error: 1.3016\n",
      "Epoch 44/200\n",
      "187825/187825 [==============================] - 6s 30us/sample - loss: 1.2384 - mean_absolute_error: 0.5526 - mean_squared_error: 1.2384 - val_loss: 1.2603 - val_mean_absolute_error: 0.5407 - val_mean_squared_error: 1.2603\n",
      "Epoch 45/200\n",
      "187825/187825 [==============================] - 6s 30us/sample - loss: 1.2349 - mean_absolute_error: 0.5525 - mean_squared_error: 1.2349 - val_loss: 1.3647 - val_mean_absolute_error: 0.5777 - val_mean_squared_error: 1.3647\n",
      "Epoch 46/200\n",
      "187825/187825 [==============================] - 6s 31us/sample - loss: 1.2397 - mean_absolute_error: 0.5541 - mean_squared_error: 1.2397 - val_loss: 1.3266 - val_mean_absolute_error: 0.5602 - val_mean_squared_error: 1.3266\n",
      "Epoch 47/200\n",
      "187825/187825 [==============================] - 5s 28us/sample - loss: 1.2372 - mean_absolute_error: 0.5547 - mean_squared_error: 1.2372 - val_loss: 1.3025 - val_mean_absolute_error: 0.5736 - val_mean_squared_error: 1.3025\n",
      "Epoch 48/200\n",
      "187825/187825 [==============================] - 5s 29us/sample - loss: 1.2322 - mean_absolute_error: 0.5543 - mean_squared_error: 1.2322 - val_loss: 1.2335 - val_mean_absolute_error: 0.5309 - val_mean_squared_error: 1.2335\n",
      "Epoch 49/200\n",
      "187825/187825 [==============================] - 5s 28us/sample - loss: 1.2240 - mean_absolute_error: 0.5533 - mean_squared_error: 1.2240 - val_loss: 1.5874 - val_mean_absolute_error: 0.5989 - val_mean_squared_error: 1.5874\n",
      "Epoch 50/200\n",
      "187825/187825 [==============================] - 5s 28us/sample - loss: 1.2296 - mean_absolute_error: 0.5528 - mean_squared_error: 1.2296 - val_loss: 1.2251 - val_mean_absolute_error: 0.5373 - val_mean_squared_error: 1.2251\n",
      "Epoch 51/200\n",
      "187825/187825 [==============================] - 5s 29us/sample - loss: 1.2314 - mean_absolute_error: 0.5518 - mean_squared_error: 1.2314 - val_loss: 1.2800 - val_mean_absolute_error: 0.5612 - val_mean_squared_error: 1.2800\n",
      "Epoch 52/200\n",
      "187825/187825 [==============================] - 6s 30us/sample - loss: 1.2204 - mean_absolute_error: 0.5481 - mean_squared_error: 1.2204 - val_loss: 1.2977 - val_mean_absolute_error: 0.5675 - val_mean_squared_error: 1.2977\n",
      "Epoch 53/200\n",
      "187825/187825 [==============================] - 6s 29us/sample - loss: 1.2185 - mean_absolute_error: 0.5489 - mean_squared_error: 1.2185 - val_loss: 1.4277 - val_mean_absolute_error: 0.6167 - val_mean_squared_error: 1.42771.2160 - mean_absolute_error: 0.5483 - mean_squared_error: \n",
      "Epoch 54/200\n",
      "187825/187825 [==============================] - 5s 29us/sample - loss: 1.2132 - mean_absolute_error: 0.5473 - mean_squared_error: 1.2132 - val_loss: 1.2097 - val_mean_absolute_error: 0.5394 - val_mean_squared_error: 1.2097\n",
      "Epoch 55/200\n",
      "187825/187825 [==============================] - 5s 29us/sample - loss: 1.2125 - mean_absolute_error: 0.5460 - mean_squared_error: 1.2125 - val_loss: 1.2229 - val_mean_absolute_error: 0.5396 - val_mean_squared_error: 1.2229\n",
      "Epoch 56/200\n",
      "187825/187825 [==============================] - 5s 29us/sample - loss: 1.2119 - mean_absolute_error: 0.5449 - mean_squared_error: 1.2119 - val_loss: 1.4796 - val_mean_absolute_error: 0.5848 - val_mean_squared_error: 1.4796\n",
      "Epoch 57/200\n",
      "187825/187825 [==============================] - 5s 29us/sample - loss: 1.2160 - mean_absolute_error: 0.5452 - mean_squared_error: 1.2160 - val_loss: 1.3253 - val_mean_absolute_error: 0.6295 - val_mean_squared_error: 1.3253\n",
      "Epoch 58/200\n",
      "187825/187825 [==============================] - 6s 30us/sample - loss: 1.2143 - mean_absolute_error: 0.5481 - mean_squared_error: 1.2143 - val_loss: 1.2864 - val_mean_absolute_error: 0.5403 - val_mean_squared_error: 1.2864\n",
      "Epoch 59/200\n",
      "187825/187825 [==============================] - 5s 29us/sample - loss: 1.2086 - mean_absolute_error: 0.5477 - mean_squared_error: 1.2086 - val_loss: 1.3523 - val_mean_absolute_error: 0.5743 - val_mean_squared_error: 1.3523\n",
      "Epoch 60/200\n",
      "187825/187825 [==============================] - 5s 28us/sample - loss: 1.2147 - mean_absolute_error: 0.5499 - mean_squared_error: 1.2147 - val_loss: 1.2671 - val_mean_absolute_error: 0.5534 - val_mean_squared_error: 1.2671\n",
      "Epoch 61/200\n",
      "187825/187825 [==============================] - 5s 29us/sample - loss: 1.2067 - mean_absolute_error: 0.5480 - mean_squared_error: 1.2067 - val_loss: 1.2950 - val_mean_absolute_error: 0.5252 - val_mean_squared_error: 1.2950\n",
      "Epoch 62/200\n",
      "187825/187825 [==============================] - 5s 29us/sample - loss: 1.2027 - mean_absolute_error: 0.5506 - mean_squared_error: 1.2027 - val_loss: 1.2299 - val_mean_absolute_error: 0.5465 - val_mean_squared_error: 1.2299\n",
      "Epoch 63/200\n",
      "187825/187825 [==============================] - 5s 29us/sample - loss: 1.2057 - mean_absolute_error: 0.5498 - mean_squared_error: 1.2057 - val_loss: 1.2278 - val_mean_absolute_error: 0.5309 - val_mean_squared_error: 1.2278\n",
      "Epoch 64/200\n",
      "187825/187825 [==============================] - 6s 29us/sample - loss: 1.2018 - mean_absolute_error: 0.5492 - mean_squared_error: 1.2018 - val_loss: 1.4053 - val_mean_absolute_error: 0.5949 - val_mean_squared_error: 1.4053\n",
      "Epoch 65/200\n",
      "187825/187825 [==============================] - 5s 29us/sample - loss: 1.2019 - mean_absolute_error: 0.5497 - mean_squared_error: 1.2019 - val_loss: 1.4256 - val_mean_absolute_error: 0.6366 - val_mean_squared_error: 1.4256\n",
      "Epoch 66/200\n",
      "187825/187825 [==============================] - 5s 29us/sample - loss: 1.1950 - mean_absolute_error: 0.5491 - mean_squared_error: 1.1950 - val_loss: 1.5093 - val_mean_absolute_error: 0.7255 - val_mean_squared_error: 1.5093\n",
      "Epoch 67/200\n",
      "187825/187825 [==============================] - 6s 30us/sample - loss: 1.1888 - mean_absolute_error: 0.5486 - mean_squared_error: 1.1888 - val_loss: 1.3963 - val_mean_absolute_error: 0.5526 - val_mean_squared_error: 1.3963\n",
      "Epoch 68/200\n",
      "187825/187825 [==============================] - 6s 30us/sample - loss: 1.1828 - mean_absolute_error: 0.5473 - mean_squared_error: 1.1828 - val_loss: 1.3268 - val_mean_absolute_error: 0.5578 - val_mean_squared_error: 1.3268\n",
      "Epoch 69/200\n"
     ]
    },
    {
     "name": "stdout",
     "output_type": "stream",
     "text": [
      "187825/187825 [==============================] - 6s 30us/sample - loss: 1.1779 - mean_absolute_error: 0.5444 - mean_squared_error: 1.1779 - val_loss: 1.2534 - val_mean_absolute_error: 0.5395 - val_mean_squared_error: 1.2534\n",
      "Epoch 70/200\n",
      "187825/187825 [==============================] - 6s 30us/sample - loss: 1.1754 - mean_absolute_error: 0.5442 - mean_squared_error: 1.1754 - val_loss: 1.1857 - val_mean_absolute_error: 0.5066 - val_mean_squared_error: 1.1857\n",
      "Epoch 71/200\n",
      "187825/187825 [==============================] - 6s 31us/sample - loss: 1.1762 - mean_absolute_error: 0.5447 - mean_squared_error: 1.1762 - val_loss: 1.1974 - val_mean_absolute_error: 0.5175 - val_mean_squared_error: 1.1974\n",
      "Epoch 72/200\n",
      "187825/187825 [==============================] - 6s 31us/sample - loss: 1.1757 - mean_absolute_error: 0.5427 - mean_squared_error: 1.1757 - val_loss: 1.2092 - val_mean_absolute_error: 0.5261 - val_mean_squared_error: 1.2092\n",
      "Epoch 73/200\n",
      "187825/187825 [==============================] - 6s 30us/sample - loss: 1.1737 - mean_absolute_error: 0.5434 - mean_squared_error: 1.1737 - val_loss: 1.2639 - val_mean_absolute_error: 0.5609 - val_mean_squared_error: 1.2639\n",
      "Epoch 74/200\n",
      "187825/187825 [==============================] - 6s 31us/sample - loss: 1.1724 - mean_absolute_error: 0.5419 - mean_squared_error: 1.1724 - val_loss: 1.2708 - val_mean_absolute_error: 0.5361 - val_mean_squared_error: 1.2708\n",
      "Epoch 75/200\n",
      "187825/187825 [==============================] - 6s 31us/sample - loss: 1.1655 - mean_absolute_error: 0.5404 - mean_squared_error: 1.1655 - val_loss: 1.2169 - val_mean_absolute_error: 0.5403 - val_mean_squared_error: 1.2169\n",
      "Epoch 76/200\n",
      "187825/187825 [==============================] - 6s 30us/sample - loss: 1.1659 - mean_absolute_error: 0.5399 - mean_squared_error: 1.1659 - val_loss: 1.2515 - val_mean_absolute_error: 0.5702 - val_mean_squared_error: 1.2515\n",
      "Epoch 77/200\n",
      "187825/187825 [==============================] - 6s 32us/sample - loss: 1.1621 - mean_absolute_error: 0.5405 - mean_squared_error: 1.1621 - val_loss: 1.4464 - val_mean_absolute_error: 0.6323 - val_mean_squared_error: 1.4464\n",
      "Epoch 78/200\n",
      "187825/187825 [==============================] - 6s 30us/sample - loss: 1.1555 - mean_absolute_error: 0.5403 - mean_squared_error: 1.1555 - val_loss: 1.2963 - val_mean_absolute_error: 0.5432 - val_mean_squared_error: 1.2963\n",
      "Epoch 79/200\n",
      "187825/187825 [==============================] - 6s 30us/sample - loss: 1.1533 - mean_absolute_error: 0.5391 - mean_squared_error: 1.1533 - val_loss: 1.1855 - val_mean_absolute_error: 0.5126 - val_mean_squared_error: 1.1855\n",
      "Epoch 80/200\n",
      "187825/187825 [==============================] - 6s 30us/sample - loss: 1.1547 - mean_absolute_error: 0.5377 - mean_squared_error: 1.1547 - val_loss: 1.1990 - val_mean_absolute_error: 0.5265 - val_mean_squared_error: 1.1990\n",
      "Epoch 81/200\n",
      "187825/187825 [==============================] - 6s 30us/sample - loss: 1.1472 - mean_absolute_error: 0.5377 - mean_squared_error: 1.1472 - val_loss: 1.5499 - val_mean_absolute_error: 0.6637 - val_mean_squared_error: 1.5499\n",
      "Epoch 82/200\n",
      "187825/187825 [==============================] - 6s 30us/sample - loss: 1.1495 - mean_absolute_error: 0.5358 - mean_squared_error: 1.1495 - val_loss: 1.2294 - val_mean_absolute_error: 0.5709 - val_mean_squared_error: 1.2294\n",
      "Epoch 83/200\n",
      "187825/187825 [==============================] - 6s 30us/sample - loss: 1.1401 - mean_absolute_error: 0.5345 - mean_squared_error: 1.1401 - val_loss: 1.1820 - val_mean_absolute_error: 0.5254 - val_mean_squared_error: 1.1820\n",
      "Epoch 84/200\n",
      "187825/187825 [==============================] - 6s 31us/sample - loss: 1.1439 - mean_absolute_error: 0.5357 - mean_squared_error: 1.1439 - val_loss: 1.2680 - val_mean_absolute_error: 0.5882 - val_mean_squared_error: 1.2680\n",
      "Epoch 85/200\n",
      "187825/187825 [==============================] - 6s 31us/sample - loss: 1.1400 - mean_absolute_error: 0.5338 - mean_squared_error: 1.1400 - val_loss: 1.2157 - val_mean_absolute_error: 0.5510 - val_mean_squared_error: 1.2157\n",
      "Epoch 86/200\n",
      "187825/187825 [==============================] - 6s 30us/sample - loss: 1.1421 - mean_absolute_error: 0.5347 - mean_squared_error: 1.1421 - val_loss: 1.2498 - val_mean_absolute_error: 0.5739 - val_mean_squared_error: 1.2498\n",
      "Epoch 87/200\n",
      "187825/187825 [==============================] - 6s 30us/sample - loss: 1.1389 - mean_absolute_error: 0.5335 - mean_squared_error: 1.1389 - val_loss: 1.1671 - val_mean_absolute_error: 0.5337 - val_mean_squared_error: 1.1671\n",
      "Epoch 88/200\n",
      "187825/187825 [==============================] - 6s 31us/sample - loss: 1.1378 - mean_absolute_error: 0.5330 - mean_squared_error: 1.1378 - val_loss: 1.2009 - val_mean_absolute_error: 0.5274 - val_mean_squared_error: 1.2009\n",
      "Epoch 89/200\n",
      "187825/187825 [==============================] - 6s 31us/sample - loss: 1.1310 - mean_absolute_error: 0.5318 - mean_squared_error: 1.1310 - val_loss: 1.1686 - val_mean_absolute_error: 0.5117 - val_mean_squared_error: 1.1686\n",
      "Epoch 90/200\n",
      "187825/187825 [==============================] - 6s 31us/sample - loss: 1.1355 - mean_absolute_error: 0.5329 - mean_squared_error: 1.1355 - val_loss: 1.3688 - val_mean_absolute_error: 0.5811 - val_mean_squared_error: 1.3688\n",
      "Epoch 91/200\n",
      "187825/187825 [==============================] - 6s 30us/sample - loss: 1.1325 - mean_absolute_error: 0.5320 - mean_squared_error: 1.1325 - val_loss: 1.2943 - val_mean_absolute_error: 0.5299 - val_mean_squared_error: 1.2943\n",
      "Epoch 92/200\n",
      "187825/187825 [==============================] - 6s 33us/sample - loss: 1.1345 - mean_absolute_error: 0.5322 - mean_squared_error: 1.1345 - val_loss: 1.2590 - val_mean_absolute_error: 0.5379 - val_mean_squared_error: 1.2590\n",
      "Epoch 93/200\n",
      "187825/187825 [==============================] - 6s 33us/sample - loss: 1.1277 - mean_absolute_error: 0.5318 - mean_squared_error: 1.1277 - val_loss: 1.2746 - val_mean_absolute_error: 0.5944 - val_mean_squared_error: 1.2746\n",
      "Epoch 94/200\n",
      "187825/187825 [==============================] - 7s 35us/sample - loss: 1.1306 - mean_absolute_error: 0.5310 - mean_squared_error: 1.1306 - val_loss: 1.2727 - val_mean_absolute_error: 0.5520 - val_mean_squared_error: 1.2727\n",
      "Epoch 95/200\n",
      "187825/187825 [==============================] - 6s 33us/sample - loss: 1.1298 - mean_absolute_error: 0.5294 - mean_squared_error: 1.1298 - val_loss: 1.2416 - val_mean_absolute_error: 0.6252 - val_mean_squared_error: 1.2416\n",
      "Epoch 96/200\n",
      "187825/187825 [==============================] - 6s 31us/sample - loss: 1.1277 - mean_absolute_error: 0.5305 - mean_squared_error: 1.1277 - val_loss: 1.2102 - val_mean_absolute_error: 0.5595 - val_mean_squared_error: 1.2102\n",
      "Epoch 97/200\n",
      "187825/187825 [==============================] - 6s 34us/sample - loss: 1.1293 - mean_absolute_error: 0.5301 - mean_squared_error: 1.1293 - val_loss: 1.1587 - val_mean_absolute_error: 0.5501 - val_mean_squared_error: 1.1587\n",
      "Epoch 98/200\n",
      "187825/187825 [==============================] - 6s 33us/sample - loss: 1.1251 - mean_absolute_error: 0.5289 - mean_squared_error: 1.1251 - val_loss: 1.3232 - val_mean_absolute_error: 0.5695 - val_mean_squared_error: 1.3232\n",
      "Epoch 99/200\n",
      "187825/187825 [==============================] - 6s 33us/sample - loss: 1.1286 - mean_absolute_error: 0.5283 - mean_squared_error: 1.1286 - val_loss: 1.3623 - val_mean_absolute_error: 0.5891 - val_mean_squared_error: 1.3623\n",
      "Epoch 100/200\n",
      "187825/187825 [==============================] - 6s 31us/sample - loss: 1.1261 - mean_absolute_error: 0.5310 - mean_squared_error: 1.1261 - val_loss: 1.1748 - val_mean_absolute_error: 0.5706 - val_mean_squared_error: 1.1748\n",
      "Epoch 101/200\n",
      "187825/187825 [==============================] - 6s 30us/sample - loss: 1.1288 - mean_absolute_error: 0.5285 - mean_squared_error: 1.1288 - val_loss: 1.1513 - val_mean_absolute_error: 0.5233 - val_mean_squared_error: 1.1513\n",
      "Epoch 102/200\n",
      "187825/187825 [==============================] - 7s 35us/sample - loss: 1.1334 - mean_absolute_error: 0.5308 - mean_squared_error: 1.1334 - val_loss: 1.2640 - val_mean_absolute_error: 0.5544 - val_mean_squared_error: 1.2640\n",
      "Epoch 103/200\n"
     ]
    },
    {
     "name": "stdout",
     "output_type": "stream",
     "text": [
      "187825/187825 [==============================] - 6s 32us/sample - loss: 1.1320 - mean_absolute_error: 0.5306 - mean_squared_error: 1.1320 - val_loss: 1.5919 - val_mean_absolute_error: 0.5883 - val_mean_squared_error: 1.5919\n",
      "Epoch 104/200\n",
      "187825/187825 [==============================] - 6s 32us/sample - loss: 1.1278 - mean_absolute_error: 0.5305 - mean_squared_error: 1.1278 - val_loss: 1.1180 - val_mean_absolute_error: 0.5127 - val_mean_squared_error: 1.1180\n",
      "Epoch 105/200\n",
      "187825/187825 [==============================] - 6s 32us/sample - loss: 1.1310 - mean_absolute_error: 0.5303 - mean_squared_error: 1.1310 - val_loss: 1.4199 - val_mean_absolute_error: 0.6321 - val_mean_squared_error: 1.4199\n",
      "Epoch 106/200\n",
      "187825/187825 [==============================] - 6s 32us/sample - loss: 1.1244 - mean_absolute_error: 0.5307 - mean_squared_error: 1.1244 - val_loss: 1.2079 - val_mean_absolute_error: 0.6138 - val_mean_squared_error: 1.2079\n",
      "Epoch 107/200\n",
      "187825/187825 [==============================] - 6s 30us/sample - loss: 1.1267 - mean_absolute_error: 0.5303 - mean_squared_error: 1.1267 - val_loss: 1.1992 - val_mean_absolute_error: 0.5347 - val_mean_squared_error: 1.1992\n",
      "Epoch 108/200\n",
      "187825/187825 [==============================] - 6s 31us/sample - loss: 1.1224 - mean_absolute_error: 0.5314 - mean_squared_error: 1.1224 - val_loss: 1.1915 - val_mean_absolute_error: 0.5122 - val_mean_squared_error: 1.1915\n",
      "Epoch 109/200\n",
      "187825/187825 [==============================] - 6s 30us/sample - loss: 1.1235 - mean_absolute_error: 0.5297 - mean_squared_error: 1.1235 - val_loss: 1.1566 - val_mean_absolute_error: 0.5382 - val_mean_squared_error: 1.1566rror: 0.529 - ETA: 0s - loss: 1.1266 - mean_absolute_error: 0.5298 - mean_squared_error\n",
      "Epoch 110/200\n",
      "187825/187825 [==============================] - 5s 29us/sample - loss: 1.1192 - mean_absolute_error: 0.5305 - mean_squared_error: 1.1192 - val_loss: 1.1984 - val_mean_absolute_error: 0.5295 - val_mean_squared_error: 1.1984\n",
      "Epoch 111/200\n",
      "187825/187825 [==============================] - 5s 28us/sample - loss: 1.1182 - mean_absolute_error: 0.5314 - mean_squared_error: 1.1182 - val_loss: 1.2201 - val_mean_absolute_error: 0.5856 - val_mean_squared_error: 1.2201\n",
      "Epoch 112/200\n",
      "187825/187825 [==============================] - 5s 29us/sample - loss: 1.1217 - mean_absolute_error: 0.5302 - mean_squared_error: 1.1217 - val_loss: 1.1450 - val_mean_absolute_error: 0.5082 - val_mean_squared_error: 1.1450\n",
      "Epoch 113/200\n",
      "187825/187825 [==============================] - 6s 31us/sample - loss: 1.1233 - mean_absolute_error: 0.5308 - mean_squared_error: 1.1233 - val_loss: 1.1663 - val_mean_absolute_error: 0.5279 - val_mean_squared_error: 1.1663\n",
      "Epoch 114/200\n",
      "187825/187825 [==============================] - 7s 39us/sample - loss: 1.1157 - mean_absolute_error: 0.5308 - mean_squared_error: 1.1157 - val_loss: 1.2869 - val_mean_absolute_error: 0.5863 - val_mean_squared_error: 1.2869\n",
      "Epoch 115/200\n",
      "187825/187825 [==============================] - 8s 43us/sample - loss: 1.1124 - mean_absolute_error: 0.5306 - mean_squared_error: 1.1124 - val_loss: 1.1499 - val_mean_absolute_error: 0.5380 - val_mean_squared_error: 1.1499\n",
      "Epoch 116/200\n",
      "187825/187825 [==============================] - 5s 29us/sample - loss: 1.1132 - mean_absolute_error: 0.5293 - mean_squared_error: 1.1132 - val_loss: 1.2869 - val_mean_absolute_error: 0.5939 - val_mean_squared_error: 1.2869\n",
      "Epoch 117/200\n",
      "187825/187825 [==============================] - 5s 29us/sample - loss: 1.1097 - mean_absolute_error: 0.5284 - mean_squared_error: 1.1097 - val_loss: 1.5731 - val_mean_absolute_error: 0.6258 - val_mean_squared_error: 1.5731\n",
      "Epoch 118/200\n",
      "187825/187825 [==============================] - 5s 29us/sample - loss: 1.1105 - mean_absolute_error: 0.5303 - mean_squared_error: 1.1105 - val_loss: 1.1981 - val_mean_absolute_error: 0.5261 - val_mean_squared_error: 1.1981\n",
      "Epoch 119/200\n",
      "187825/187825 [==============================] - 5s 29us/sample - loss: 1.1090 - mean_absolute_error: 0.5289 - mean_squared_error: 1.1090 - val_loss: 1.1861 - val_mean_absolute_error: 0.5487 - val_mean_squared_error: 1.1861\n",
      "Epoch 120/200\n",
      "187825/187825 [==============================] - 5s 29us/sample - loss: 1.1151 - mean_absolute_error: 0.5304 - mean_squared_error: 1.1151 - val_loss: 1.1576 - val_mean_absolute_error: 0.5020 - val_mean_squared_error: 1.1576\n",
      "Epoch 121/200\n",
      "187825/187825 [==============================] - 5s 29us/sample - loss: 1.1134 - mean_absolute_error: 0.5298 - mean_squared_error: 1.1134 - val_loss: 1.2090 - val_mean_absolute_error: 0.5342 - val_mean_squared_error: 1.2090\n",
      "Epoch 122/200\n",
      "187825/187825 [==============================] - 5s 29us/sample - loss: 1.1053 - mean_absolute_error: 0.5304 - mean_squared_error: 1.1053 - val_loss: 1.6584 - val_mean_absolute_error: 0.6657 - val_mean_squared_error: 1.65841.1108 - mean_absolute_error: 0.5306 - mean_squared_error - ETA: 0s - loss: 1.1067 - mean_absolute_error: 0.5305 - \n",
      "Epoch 123/200\n",
      "187825/187825 [==============================] - 5s 29us/sample - loss: 1.1067 - mean_absolute_error: 0.5302 - mean_squared_error: 1.1067 - val_loss: 1.1428 - val_mean_absolute_error: 0.5465 - val_mean_squared_error: 1.1428\n",
      "Epoch 124/200\n",
      "187825/187825 [==============================] - 6s 33us/sample - loss: 1.0992 - mean_absolute_error: 0.5280 - mean_squared_error: 1.0992 - val_loss: 1.2517 - val_mean_absolute_error: 0.5945 - val_mean_squared_error: 1.2517\n",
      "Epoch 125/200\n",
      "187825/187825 [==============================] - 7s 35us/sample - loss: 1.1017 - mean_absolute_error: 0.5275 - mean_squared_error: 1.1017 - val_loss: 1.2248 - val_mean_absolute_error: 0.5595 - val_mean_squared_error: 1.2248\n",
      "Epoch 126/200\n",
      "187825/187825 [==============================] - 6s 30us/sample - loss: 1.1014 - mean_absolute_error: 0.5270 - mean_squared_error: 1.1014 - val_loss: 1.3698 - val_mean_absolute_error: 0.5727 - val_mean_squared_error: 1.3698\n",
      "Epoch 127/200\n",
      "187825/187825 [==============================] - 5s 29us/sample - loss: 1.1001 - mean_absolute_error: 0.5291 - mean_squared_error: 1.1001 - val_loss: 1.1979 - val_mean_absolute_error: 0.6411 - val_mean_squared_error: 1.1979\n",
      "Epoch 128/200\n",
      "187825/187825 [==============================] - 6s 31us/sample - loss: 1.0957 - mean_absolute_error: 0.5267 - mean_squared_error: 1.0957 - val_loss: 1.6003 - val_mean_absolute_error: 0.6195 - val_mean_squared_error: 1.6003\n",
      "Epoch 129/200\n",
      "187825/187825 [==============================] - 6s 31us/sample - loss: 1.0952 - mean_absolute_error: 0.5265 - mean_squared_error: 1.0952 - val_loss: 1.1318 - val_mean_absolute_error: 0.5578 - val_mean_squared_error: 1.1318\n",
      "Epoch 130/200\n",
      "187825/187825 [==============================] - 5s 28us/sample - loss: 1.0911 - mean_absolute_error: 0.5266 - mean_squared_error: 1.0911 - val_loss: 1.3461 - val_mean_absolute_error: 0.6284 - val_mean_squared_error: 1.3461\n",
      "Epoch 131/200\n",
      "187825/187825 [==============================] - 5s 29us/sample - loss: 1.0855 - mean_absolute_error: 0.5262 - mean_squared_error: 1.0855 - val_loss: 1.3103 - val_mean_absolute_error: 0.5592 - val_mean_squared_error: 1.3103\n",
      "Epoch 132/200\n",
      "187825/187825 [==============================] - 5s 29us/sample - loss: 1.0859 - mean_absolute_error: 0.5245 - mean_squared_error: 1.0859 - val_loss: 1.1704 - val_mean_absolute_error: 0.6022 - val_mean_squared_error: 1.1704\n",
      "Epoch 133/200\n",
      "187825/187825 [==============================] - 5s 29us/sample - loss: 1.0838 - mean_absolute_error: 0.5247 - mean_squared_error: 1.0838 - val_loss: 1.3820 - val_mean_absolute_error: 0.7381 - val_mean_squared_error: 1.3820\n",
      "Epoch 134/200\n",
      "187825/187825 [==============================] - 5s 28us/sample - loss: 1.0832 - mean_absolute_error: 0.5253 - mean_squared_error: 1.0832 - val_loss: 1.1682 - val_mean_absolute_error: 0.6128 - val_mean_squared_error: 1.1682\n",
      "Epoch 135/200\n",
      "187825/187825 [==============================] - 5s 29us/sample - loss: 1.0800 - mean_absolute_error: 0.5238 - mean_squared_error: 1.0800 - val_loss: 1.3591 - val_mean_absolute_error: 0.6161 - val_mean_squared_error: 1.3591\n",
      "Epoch 136/200\n",
      "187825/187825 [==============================] - 5s 29us/sample - loss: 1.0822 - mean_absolute_error: 0.5252 - mean_squared_error: 1.0822 - val_loss: 1.1820 - val_mean_absolute_error: 0.5966 - val_mean_squared_error: 1.1820\n"
     ]
    },
    {
     "name": "stdout",
     "output_type": "stream",
     "text": [
      "Epoch 137/200\n",
      "187825/187825 [==============================] - 6s 32us/sample - loss: 1.0858 - mean_absolute_error: 0.5265 - mean_squared_error: 1.0858 - val_loss: 1.1317 - val_mean_absolute_error: 0.6020 - val_mean_squared_error: 1.1317\n",
      "Epoch 138/200\n",
      "187825/187825 [==============================] - 6s 32us/sample - loss: 1.0748 - mean_absolute_error: 0.5254 - mean_squared_error: 1.0748 - val_loss: 1.2080 - val_mean_absolute_error: 0.5877 - val_mean_squared_error: 1.2080\n",
      "Epoch 139/200\n",
      "187825/187825 [==============================] - 6s 34us/sample - loss: 1.0743 - mean_absolute_error: 0.5241 - mean_squared_error: 1.0743 - val_loss: 1.1513 - val_mean_absolute_error: 0.5921 - val_mean_squared_error: 1.1513\n",
      "Epoch 140/200\n",
      "187825/187825 [==============================] - 7s 36us/sample - loss: 1.0812 - mean_absolute_error: 0.5259 - mean_squared_error: 1.0812 - val_loss: 1.1679 - val_mean_absolute_error: 0.5910 - val_mean_squared_error: 1.1679\n",
      "Epoch 141/200\n",
      "187825/187825 [==============================] - 7s 35us/sample - loss: 1.0726 - mean_absolute_error: 0.5252 - mean_squared_error: 1.0726 - val_loss: 1.0982 - val_mean_absolute_error: 0.4812 - val_mean_squared_error: 1.0982\n",
      "Epoch 142/200\n",
      "187825/187825 [==============================] - 6s 34us/sample - loss: 1.0759 - mean_absolute_error: 0.5256 - mean_squared_error: 1.0759 - val_loss: 1.2063 - val_mean_absolute_error: 0.5398 - val_mean_squared_error: 1.2063\n",
      "Epoch 143/200\n",
      "187825/187825 [==============================] - 7s 37us/sample - loss: 1.0826 - mean_absolute_error: 0.5263 - mean_squared_error: 1.0826 - val_loss: 1.2979 - val_mean_absolute_error: 0.5188 - val_mean_squared_error: 1.2979\n",
      "Epoch 144/200\n",
      "187825/187825 [==============================] - 9s 46us/sample - loss: 1.0749 - mean_absolute_error: 0.5267 - mean_squared_error: 1.0749 - val_loss: 1.2223 - val_mean_absolute_error: 0.5427 - val_mean_squared_error: 1.2223\n",
      "Epoch 145/200\n",
      "187825/187825 [==============================] - 8s 43us/sample - loss: 1.0773 - mean_absolute_error: 0.5261 - mean_squared_error: 1.0773 - val_loss: 1.1322 - val_mean_absolute_error: 0.5223 - val_mean_squared_error: 1.1322\n",
      "Epoch 146/200\n",
      "187825/187825 [==============================] - 8s 42us/sample - loss: 1.0755 - mean_absolute_error: 0.5261 - mean_squared_error: 1.0755 - val_loss: 1.1732 - val_mean_absolute_error: 0.5263 - val_mean_squared_error: 1.1732\n",
      "Epoch 147/200\n",
      "187825/187825 [==============================] - 8s 41us/sample - loss: 1.0764 - mean_absolute_error: 0.5266 - mean_squared_error: 1.0764 - val_loss: 1.1141 - val_mean_absolute_error: 0.5079 - val_mean_squared_error: 1.1141\n",
      "Epoch 148/200\n",
      "187825/187825 [==============================] - 6s 32us/sample - loss: 1.0692 - mean_absolute_error: 0.5264 - mean_squared_error: 1.0692 - val_loss: 1.2371 - val_mean_absolute_error: 0.5305 - val_mean_squared_error: 1.2371\n",
      "Epoch 149/200\n",
      "187825/187825 [==============================] - 7s 40us/sample - loss: 1.0708 - mean_absolute_error: 0.5256 - mean_squared_error: 1.0708 - val_loss: 1.1194 - val_mean_absolute_error: 0.5168 - val_mean_squared_error: 1.1194\n",
      "Epoch 150/200\n",
      "187825/187825 [==============================] - 8s 41us/sample - loss: 1.0646 - mean_absolute_error: 0.5257 - mean_squared_error: 1.0646 - val_loss: 1.3201 - val_mean_absolute_error: 0.5938 - val_mean_squared_error: 1.3201\n",
      "Epoch 151/200\n",
      "187825/187825 [==============================] - 8s 42us/sample - loss: 1.0683 - mean_absolute_error: 0.5269 - mean_squared_error: 1.0683 - val_loss: 1.1397 - val_mean_absolute_error: 0.5156 - val_mean_squared_error: 1.1397\n",
      "Epoch 152/200\n",
      "187825/187825 [==============================] - 8s 43us/sample - loss: 1.0705 - mean_absolute_error: 0.5254 - mean_squared_error: 1.0705 - val_loss: 1.0825 - val_mean_absolute_error: 0.5228 - val_mean_squared_error: 1.0825\n",
      "Epoch 153/200\n",
      "187825/187825 [==============================] - 8s 42us/sample - loss: 1.0649 - mean_absolute_error: 0.5260 - mean_squared_error: 1.0649 - val_loss: 1.1347 - val_mean_absolute_error: 0.5073 - val_mean_squared_error: 1.1347\n",
      "Epoch 154/200\n",
      "187825/187825 [==============================] - 8s 41us/sample - loss: 1.0716 - mean_absolute_error: 0.5269 - mean_squared_error: 1.0716 - val_loss: 1.1302 - val_mean_absolute_error: 0.5669 - val_mean_squared_error: 1.1302\n",
      "Epoch 155/200\n",
      "187825/187825 [==============================] - 7s 39us/sample - loss: 1.0678 - mean_absolute_error: 0.5250 - mean_squared_error: 1.0678 - val_loss: 1.1269 - val_mean_absolute_error: 0.5107 - val_mean_squared_error: 1.1269\n",
      "Epoch 156/200\n",
      "187825/187825 [==============================] - 7s 39us/sample - loss: 1.0612 - mean_absolute_error: 0.5255 - mean_squared_error: 1.0612 - val_loss: 1.2368 - val_mean_absolute_error: 0.5424 - val_mean_squared_error: 1.2368\n",
      "Epoch 157/200\n",
      "187825/187825 [==============================] - 7s 40us/sample - loss: 1.0679 - mean_absolute_error: 0.5261 - mean_squared_error: 1.0679 - val_loss: 1.3689 - val_mean_absolute_error: 0.5454 - val_mean_squared_error: 1.3689\n",
      "Epoch 158/200\n",
      "187825/187825 [==============================] - 7s 39us/sample - loss: 1.0611 - mean_absolute_error: 0.5265 - mean_squared_error: 1.0611 - val_loss: 1.2316 - val_mean_absolute_error: 0.6480 - val_mean_squared_error: 1.2316\n",
      "Epoch 159/200\n",
      "187825/187825 [==============================] - 6s 30us/sample - loss: 1.0554 - mean_absolute_error: 0.5243 - mean_squared_error: 1.0554 - val_loss: 1.2484 - val_mean_absolute_error: 0.5946 - val_mean_squared_error: 1.2484\n",
      "Epoch 160/200\n",
      "187825/187825 [==============================] - 7s 36us/sample - loss: 1.0585 - mean_absolute_error: 0.5249 - mean_squared_error: 1.0585 - val_loss: 1.1014 - val_mean_absolute_error: 0.4935 - val_mean_squared_error: 1.1014\n",
      "Epoch 161/200\n",
      "187825/187825 [==============================] - 7s 40us/sample - loss: 1.0585 - mean_absolute_error: 0.5242 - mean_squared_error: 1.0585 - val_loss: 1.1797 - val_mean_absolute_error: 0.5259 - val_mean_squared_error: 1.1797\n",
      "Epoch 162/200\n",
      "187825/187825 [==============================] - 7s 39us/sample - loss: 1.0584 - mean_absolute_error: 0.5235 - mean_squared_error: 1.0584 - val_loss: 1.1812 - val_mean_absolute_error: 0.5133 - val_mean_squared_error: 1.1812\n",
      "Epoch 163/200\n",
      "187825/187825 [==============================] - 7s 39us/sample - loss: 1.0603 - mean_absolute_error: 0.5247 - mean_squared_error: 1.0603 - val_loss: 1.1557 - val_mean_absolute_error: 0.5851 - val_mean_squared_error: 1.1557\n",
      "Epoch 164/200\n",
      "187825/187825 [==============================] - 7s 38us/sample - loss: 1.0558 - mean_absolute_error: 0.5255 - mean_squared_error: 1.0558 - val_loss: 1.3250 - val_mean_absolute_error: 0.7251 - val_mean_squared_error: 1.3250\n",
      "Epoch 165/200\n",
      "187825/187825 [==============================] - 7s 39us/sample - loss: 1.0605 - mean_absolute_error: 0.5263 - mean_squared_error: 1.0606 - val_loss: 1.0646 - val_mean_absolute_error: 0.4991 - val_mean_squared_error: 1.0646\n",
      "Epoch 166/200\n",
      "187825/187825 [==============================] - 8s 44us/sample - loss: 1.0592 - mean_absolute_error: 0.5267 - mean_squared_error: 1.0592 - val_loss: 1.2764 - val_mean_absolute_error: 0.5215 - val_mean_squared_error: 1.2764\n",
      "Epoch 167/200\n",
      "187825/187825 [==============================] - 8s 43us/sample - loss: 1.0563 - mean_absolute_error: 0.5265 - mean_squared_error: 1.0563 - val_loss: 1.0478 - val_mean_absolute_error: 0.4892 - val_mean_squared_error: 1.0478\n",
      "Epoch 168/200\n",
      "187825/187825 [==============================] - 8s 44us/sample - loss: 1.0552 - mean_absolute_error: 0.5267 - mean_squared_error: 1.0552 - val_loss: 1.1146 - val_mean_absolute_error: 0.5237 - val_mean_squared_error: 1.1146\n",
      "Epoch 169/200\n",
      "187825/187825 [==============================] - 8s 44us/sample - loss: 1.0625 - mean_absolute_error: 0.5280 - mean_squared_error: 1.0625 - val_loss: 1.0981 - val_mean_absolute_error: 0.5564 - val_mean_squared_error: 1.0981\n",
      "Epoch 170/200\n",
      "187825/187825 [==============================] - 7s 35us/sample - loss: 1.0558 - mean_absolute_error: 0.5288 - mean_squared_error: 1.0558 - val_loss: 1.3008 - val_mean_absolute_error: 0.6072 - val_mean_squared_error: 1.3008\n",
      "Epoch 171/200\n"
     ]
    },
    {
     "name": "stdout",
     "output_type": "stream",
     "text": [
      "187825/187825 [==============================] - 7s 36us/sample - loss: 1.0584 - mean_absolute_error: 0.5289 - mean_squared_error: 1.0584 - val_loss: 1.1241 - val_mean_absolute_error: 0.5415 - val_mean_squared_error: 1.1241\n",
      "Epoch 172/200\n",
      "187825/187825 [==============================] - 6s 32us/sample - loss: 1.0615 - mean_absolute_error: 0.5303 - mean_squared_error: 1.0615 - val_loss: 1.0425 - val_mean_absolute_error: 0.4934 - val_mean_squared_error: 1.0425\n",
      "Epoch 173/200\n",
      "187825/187825 [==============================] - 6s 30us/sample - loss: 1.0592 - mean_absolute_error: 0.5314 - mean_squared_error: 1.0592 - val_loss: 1.1122 - val_mean_absolute_error: 0.5022 - val_mean_squared_error: 1.1122 mean_abs - ETA: 1s - loss: 1.0634 - mean_absolute_error: 0.5323 - mean_squar - ETA: 0s - loss: 1.0664 - mean_absolute_error: 0\n",
      "Epoch 174/200\n",
      "187825/187825 [==============================] - 6s 30us/sample - loss: 1.0585 - mean_absolute_error: 0.5321 - mean_squared_error: 1.0585 - val_loss: 1.0680 - val_mean_absolute_error: 0.5146 - val_mean_squared_error: 1.0680\n",
      "Epoch 175/200\n",
      "187825/187825 [==============================] - 6s 31us/sample - loss: 1.0600 - mean_absolute_error: 0.5321 - mean_squared_error: 1.0600 - val_loss: 1.1574 - val_mean_absolute_error: 0.6119 - val_mean_squared_error: 1.1574\n",
      "Epoch 176/200\n",
      "187825/187825 [==============================] - 6s 30us/sample - loss: 1.0668 - mean_absolute_error: 0.5336 - mean_squared_error: 1.0668 - val_loss: 1.1046 - val_mean_absolute_error: 0.4991 - val_mean_squared_error: 1.1046\n",
      "Epoch 177/200\n",
      "187825/187825 [==============================] - 6s 30us/sample - loss: 1.0584 - mean_absolute_error: 0.5326 - mean_squared_error: 1.0584 - val_loss: 1.1516 - val_mean_absolute_error: 0.6419 - val_mean_squared_error: 1.1516\n",
      "Epoch 178/200\n",
      "187825/187825 [==============================] - 6s 30us/sample - loss: 1.0640 - mean_absolute_error: 0.5348 - mean_squared_error: 1.0640 - val_loss: 1.0864 - val_mean_absolute_error: 0.5064 - val_mean_squared_error: 1.0864\n",
      "Epoch 179/200\n",
      "187825/187825 [==============================] - 6s 31us/sample - loss: 1.0634 - mean_absolute_error: 0.5344 - mean_squared_error: 1.0634 - val_loss: 1.1273 - val_mean_absolute_error: 0.5342 - val_mean_squared_error: 1.1273\n",
      "Epoch 180/200\n",
      "187825/187825 [==============================] - 6s 31us/sample - loss: 1.0644 - mean_absolute_error: 0.5347 - mean_squared_error: 1.0644 - val_loss: 1.1056 - val_mean_absolute_error: 0.5112 - val_mean_squared_error: 1.1056\n",
      "Epoch 181/200\n",
      "187825/187825 [==============================] - 6s 32us/sample - loss: 1.0649 - mean_absolute_error: 0.5335 - mean_squared_error: 1.0649 - val_loss: 1.0919 - val_mean_absolute_error: 0.5295 - val_mean_squared_error: 1.0919\n",
      "Epoch 182/200\n",
      "187825/187825 [==============================] - 6s 30us/sample - loss: 1.0642 - mean_absolute_error: 0.5355 - mean_squared_error: 1.0642 - val_loss: 1.4510 - val_mean_absolute_error: 0.6101 - val_mean_squared_error: 1.4510\n",
      "Epoch 183/200\n",
      "187825/187825 [==============================] - 6s 30us/sample - loss: 1.0631 - mean_absolute_error: 0.5343 - mean_squared_error: 1.0631 - val_loss: 1.1880 - val_mean_absolute_error: 0.5641 - val_mean_squared_error: 1.1880\n",
      "Epoch 184/200\n",
      "187825/187825 [==============================] - 6s 30us/sample - loss: 1.0566 - mean_absolute_error: 0.5329 - mean_squared_error: 1.0566 - val_loss: 1.1122 - val_mean_absolute_error: 0.5578 - val_mean_squared_error: 1.1122\n",
      "Epoch 185/200\n",
      "187825/187825 [==============================] - 6s 30us/sample - loss: 1.0659 - mean_absolute_error: 0.5366 - mean_squared_error: 1.0659 - val_loss: 1.0917 - val_mean_absolute_error: 0.4961 - val_mean_squared_error: 1.0917\n",
      "Epoch 186/200\n",
      "187825/187825 [==============================] - 6s 30us/sample - loss: 1.0599 - mean_absolute_error: 0.5329 - mean_squared_error: 1.0599 - val_loss: 1.1295 - val_mean_absolute_error: 0.5189 - val_mean_squared_error: 1.1295\n",
      "Epoch 187/200\n",
      "187825/187825 [==============================] - 6s 30us/sample - loss: 1.0574 - mean_absolute_error: 0.5328 - mean_squared_error: 1.0574 - val_loss: 1.1478 - val_mean_absolute_error: 0.5621 - val_mean_squared_error: 1.1478\n",
      "Epoch 188/200\n",
      "187825/187825 [==============================] - 6s 33us/sample - loss: 1.0621 - mean_absolute_error: 0.5338 - mean_squared_error: 1.0621 - val_loss: 1.1646 - val_mean_absolute_error: 0.6339 - val_mean_squared_error: 1.1646\n",
      "Epoch 189/200\n",
      "187825/187825 [==============================] - 11s 57us/sample - loss: 1.0553 - mean_absolute_error: 0.5326 - mean_squared_error: 1.0553 - val_loss: 1.0746 - val_mean_absolute_error: 0.5541 - val_mean_squared_error: 1.0746\n",
      "Epoch 190/200\n",
      "187825/187825 [==============================] - 12s 62us/sample - loss: 1.0554 - mean_absolute_error: 0.5323 - mean_squared_error: 1.0554 - val_loss: 1.1384 - val_mean_absolute_error: 0.4961 - val_mean_squared_error: 1.1384\n",
      "Epoch 191/200\n",
      "187825/187825 [==============================] - 8s 44us/sample - loss: 1.0555 - mean_absolute_error: 0.5319 - mean_squared_error: 1.0555 - val_loss: 1.2076 - val_mean_absolute_error: 0.5446 - val_mean_squared_error: 1.2076\n",
      "Epoch 192/200\n",
      "187825/187825 [==============================] - 8s 42us/sample - loss: 1.0546 - mean_absolute_error: 0.5322 - mean_squared_error: 1.0546 - val_loss: 1.0792 - val_mean_absolute_error: 0.5141 - val_mean_squared_error: 1.0792\n",
      "Epoch 193/200\n",
      "187825/187825 [==============================] - 8s 40us/sample - loss: 1.0496 - mean_absolute_error: 0.5314 - mean_squared_error: 1.0496 - val_loss: 1.1627 - val_mean_absolute_error: 0.5355 - val_mean_squared_error: 1.1627\n",
      "Epoch 194/200\n",
      "187825/187825 [==============================] - 9s 48us/sample - loss: 1.0494 - mean_absolute_error: 0.5302 - mean_squared_error: 1.0494 - val_loss: 1.5191 - val_mean_absolute_error: 0.6646 - val_mean_squared_error: 1.5191\n",
      "Epoch 195/200\n",
      "187825/187825 [==============================] - 9s 47us/sample - loss: 1.0499 - mean_absolute_error: 0.5312 - mean_squared_error: 1.0499 - val_loss: 1.1558 - val_mean_absolute_error: 0.6054 - val_mean_squared_error: 1.1558\n",
      "Epoch 196/200\n",
      "187825/187825 [==============================] - 10s 52us/sample - loss: 1.0564 - mean_absolute_error: 0.5316 - mean_squared_error: 1.0564 - val_loss: 1.0811 - val_mean_absolute_error: 0.5507 - val_mean_squared_error: 1.0811\n",
      "Epoch 197/200\n",
      "187825/187825 [==============================] - 9s 48us/sample - loss: 1.0536 - mean_absolute_error: 0.5313 - mean_squared_error: 1.0536 - val_loss: 1.0480 - val_mean_absolute_error: 0.4718 - val_mean_squared_error: 1.0480\n",
      "Epoch 198/200\n",
      "187825/187825 [==============================] - 9s 48us/sample - loss: 1.0463 - mean_absolute_error: 0.5309 - mean_squared_error: 1.0463 - val_loss: 1.0491 - val_mean_absolute_error: 0.4764 - val_mean_squared_error: 1.0491\n",
      "Epoch 199/200\n",
      "187825/187825 [==============================] - 8s 44us/sample - loss: 1.0500 - mean_absolute_error: 0.5319 - mean_squared_error: 1.0500 - val_loss: 1.0889 - val_mean_absolute_error: 0.4935 - val_mean_squared_error: 1.0889\n",
      "Epoch 200/200\n",
      "187825/187825 [==============================] - 8s 43us/sample - loss: 1.0600 - mean_absolute_error: 0.5330 - mean_squared_error: 1.0600 - val_loss: 1.0917 - val_mean_absolute_error: 0.5014 - val_mean_squared_error: 1.0917\n"
     ]
    }
   ],
   "source": [
    "EPOCHS = 200\n",
    "history = model.fit(normed_train_data, train_labels, epochs=EPOCHS, validation_split=0.2, verbose=1)"
   ]
  },
  {
   "cell_type": "code",
   "execution_count": 15,
   "metadata": {},
   "outputs": [
    {
     "data": {
      "text/html": [
       "<div>\n",
       "<style scoped>\n",
       "    .dataframe tbody tr th:only-of-type {\n",
       "        vertical-align: middle;\n",
       "    }\n",
       "\n",
       "    .dataframe tbody tr th {\n",
       "        vertical-align: top;\n",
       "    }\n",
       "\n",
       "    .dataframe thead th {\n",
       "        text-align: right;\n",
       "    }\n",
       "</style>\n",
       "<table border=\"1\" class=\"dataframe\">\n",
       "  <thead>\n",
       "    <tr style=\"text-align: right;\">\n",
       "      <th></th>\n",
       "      <th>loss</th>\n",
       "      <th>mean_absolute_error</th>\n",
       "      <th>mean_squared_error</th>\n",
       "      <th>val_loss</th>\n",
       "      <th>val_mean_absolute_error</th>\n",
       "      <th>val_mean_squared_error</th>\n",
       "      <th>epoch</th>\n",
       "    </tr>\n",
       "  </thead>\n",
       "  <tbody>\n",
       "    <tr>\n",
       "      <th>195</th>\n",
       "      <td>1.056421</td>\n",
       "      <td>0.531609</td>\n",
       "      <td>1.056423</td>\n",
       "      <td>1.081083</td>\n",
       "      <td>0.550685</td>\n",
       "      <td>1.081084</td>\n",
       "      <td>195</td>\n",
       "    </tr>\n",
       "    <tr>\n",
       "      <th>196</th>\n",
       "      <td>1.053631</td>\n",
       "      <td>0.531315</td>\n",
       "      <td>1.053631</td>\n",
       "      <td>1.048048</td>\n",
       "      <td>0.471792</td>\n",
       "      <td>1.048048</td>\n",
       "      <td>196</td>\n",
       "    </tr>\n",
       "    <tr>\n",
       "      <th>197</th>\n",
       "      <td>1.046331</td>\n",
       "      <td>0.530865</td>\n",
       "      <td>1.046332</td>\n",
       "      <td>1.049066</td>\n",
       "      <td>0.476384</td>\n",
       "      <td>1.049066</td>\n",
       "      <td>197</td>\n",
       "    </tr>\n",
       "    <tr>\n",
       "      <th>198</th>\n",
       "      <td>1.050000</td>\n",
       "      <td>0.531934</td>\n",
       "      <td>1.049999</td>\n",
       "      <td>1.088859</td>\n",
       "      <td>0.493528</td>\n",
       "      <td>1.088859</td>\n",
       "      <td>198</td>\n",
       "    </tr>\n",
       "    <tr>\n",
       "      <th>199</th>\n",
       "      <td>1.059972</td>\n",
       "      <td>0.533028</td>\n",
       "      <td>1.059971</td>\n",
       "      <td>1.091737</td>\n",
       "      <td>0.501377</td>\n",
       "      <td>1.091737</td>\n",
       "      <td>199</td>\n",
       "    </tr>\n",
       "  </tbody>\n",
       "</table>\n",
       "</div>"
      ],
      "text/plain": [
       "         loss  mean_absolute_error  mean_squared_error  val_loss  \\\n",
       "195  1.056421             0.531609            1.056423  1.081083   \n",
       "196  1.053631             0.531315            1.053631  1.048048   \n",
       "197  1.046331             0.530865            1.046332  1.049066   \n",
       "198  1.050000             0.531934            1.049999  1.088859   \n",
       "199  1.059972             0.533028            1.059971  1.091737   \n",
       "\n",
       "     val_mean_absolute_error  val_mean_squared_error  epoch  \n",
       "195                 0.550685                1.081084    195  \n",
       "196                 0.471792                1.048048    196  \n",
       "197                 0.476384                1.049066    197  \n",
       "198                 0.493528                1.088859    198  \n",
       "199                 0.501377                1.091737    199  "
      ]
     },
     "execution_count": 15,
     "metadata": {},
     "output_type": "execute_result"
    }
   ],
   "source": [
    "hist = pd.DataFrame(history.history)\n",
    "hist['epoch'] = history.epoch\n",
    "hist.tail()"
   ]
  },
  {
   "cell_type": "code",
   "execution_count": 16,
   "metadata": {},
   "outputs": [
    {
     "data": {
      "image/png": "[encoded data removed]",
      "text/plain": [
       "<Figure size 432x288 with 1 Axes>"
      ]
     },
     "metadata": {
      "needs_background": "light"
     },
     "output_type": "display_data"
    },
    {
     "data": {
      "image/png": "[encoded data removed]",
      "text/plain": [
       "<Figure size 432x288 with 1 Axes>"
      ]
     },
     "metadata": {
      "needs_background": "light"
     },
     "output_type": "display_data"
    }
   ],
   "source": [
    "def plot_history(history):\n",
    "    hist = pd.DataFrame(history.history)\n",
    "    hist['epoch'] = history.epoch\n",
    "\n",
    "    plt.figure()\n",
    "    plt.xlabel('Epoch')\n",
    "    plt.ylabel('Mean Abs Error [Thrust]')\n",
    "    plt.plot(hist['epoch'], hist['mean_absolute_error'],\n",
    "           label='Train Error')\n",
    "    plt.plot(hist['epoch'], hist['val_mean_absolute_error'],\n",
    "           label = 'Val Error')\n",
    "    plt.ylim([0,5])\n",
    "    plt.legend()\n",
    "\n",
    "    plt.figure()\n",
    "    plt.xlabel('Epoch')\n",
    "    plt.ylabel('Mean Square Error [$Thrust^2$]')\n",
    "    plt.plot(hist['epoch'], hist['mean_squared_error'],\n",
    "           label='Train Error')\n",
    "    plt.plot(hist['epoch'], hist['val_mean_squared_error'],\n",
    "           label = 'Val Error')\n",
    "    plt.ylim([0,20])\n",
    "    plt.legend()\n",
    "    plt.show()\n",
    "\n",
    "\n",
    "plot_history(history)"
   ]
  },
  {
   "cell_type": "code",
   "execution_count": 17,
   "metadata": {},
   "outputs": [
    {
     "name": "stdout",
     "output_type": "stream",
     "text": [
      "58696/58696 - 1s - loss: 1.0543 - mean_absolute_error: 0.4951 - mean_squared_error: 1.0543\n",
      "Testing set Mean Abs Error:  0.50 Thrust\n"
     ]
    }
   ],
   "source": [
    "loss, mae, mse = model.evaluate(normed_test_data, test_labels, verbose=2)\n",
    "print(\"Testing set Mean Abs Error: {:5.2f} Thrust\".format(mae))"
   ]
  },
  {
   "cell_type": "code",
   "execution_count": 28,
   "metadata": {},
   "outputs": [
    {
     "data": {
      "image/png": "[encoded data removed]",
      "text/plain": [
       "<Figure size 432x288 with 1 Axes>"
      ]
     },
     "metadata": {
      "needs_background": "light"
     },
     "output_type": "display_data"
    }
   ],
   "source": [
    "test_predictions = model.predict(normed_test_data).flatten()\n",
    "\n",
    "plt.scatter(test_labels, test_predictions, s=0.01)\n",
    "plt.xlabel('True Values [Thrust]')\n",
    "plt.ylabel('Predictions [Thrust]')\n",
    "plt.axis('equal')\n",
    "plt.axis('square')\n",
    "plt.xlim([0,plt.xlim()[1]])\n",
    "plt.ylim([0,plt.ylim()[1]])\n",
    "# plt.xlim([0,0.5])\n",
    "# plt.ylim([0,0.5])\n",
    "_ = plt.plot([-100, 100], [-100, 100])"
   ]
  },
  {
   "cell_type": "markdown",
   "metadata": {},
   "source": [
    "####  Error Distribution"
   ]
  },
  {
   "cell_type": "code",
   "execution_count": 26,
   "metadata": {},
   "outputs": [
    {
     "data": {
      "image/png": "[encoded data removed]",
      "text/plain": [
       "<Figure size 432x288 with 1 Axes>"
      ]
     },
     "metadata": {
      "needs_background": "light"
     },
     "output_type": "display_data"
    }
   ],
   "source": [
    "error = test_predictions - test_labels\n",
    "plt.hist(error, bins = 200)\n",
    "plt.xlabel(\"Prediction Error [Thrust]\")\n",
    "_ = plt.ylabel(\"Count\")"
   ]
  },
  {
   "cell_type": "markdown",
   "metadata": {},
   "source": [
    "## <center>Some Test Cases</center>"
   ]
  },
  {
   "cell_type": "code",
   "execution_count": 29,
   "metadata": {
    "scrolled": true
   },
   "outputs": [
    {
     "name": "stdout",
     "output_type": "stream",
     "text": [
      "      V  diameter  pitch     rpm\n",
      "0  14.3      10.5    4.5  3000.0\n",
      "          V  diameter     pitch       rpm\n",
      "0 -0.775848  -0.00526 -0.838658 -1.050683\n"
     ]
    },
    {
     "data": {
      "text/plain": [
       "array([[0.32424974]], dtype=float32)"
      ]
     },
     "execution_count": 29,
     "metadata": {},
     "output_type": "execute_result"
    }
   ],
   "source": [
    "input_df = pd.DataFrame([14.3,10.5,4.5,3000]).T\n",
    "input_df.columns = ['V', 'diameter', 'pitch', 'rpm']\n",
    "print(input_df)\n",
    "print(norm(input_df))\n",
    "model.predict(norm(input_df))\n",
    "# thrust should be: 0.096"
   ]
  },
  {
   "cell_type": "code",
   "execution_count": 30,
   "metadata": {},
   "outputs": [
    {
     "name": "stdout",
     "output_type": "stream",
     "text": [
      "      V  diameter  pitch      rpm\n",
      "0  27.6       5.5    4.5  37000.0\n",
      "          V  diameter     pitch       rpm\n",
      "0 -0.484421 -1.119499 -0.838658  2.706217\n"
     ]
    },
    {
     "data": {
      "text/plain": [
       "array([[4.8045845]], dtype=float32)"
      ]
     },
     "execution_count": 30,
     "metadata": {},
     "output_type": "execute_result"
    }
   ],
   "source": [
    "input_df = pd.DataFrame([27.6,5.5,4.5,37000]).T\n",
    "input_df.columns = ['V', 'diameter', 'pitch', 'rpm']\n",
    "print(input_df)\n",
    "print(norm(input_df))\n",
    "model.predict(norm(input_df))\n",
    "# thrust should be: 5.112"
   ]
  },
  {
   "cell_type": "code",
   "execution_count": 31,
   "metadata": {},
   "outputs": [
    {
     "name": "stdout",
     "output_type": "stream",
     "text": [
      "      V  diameter  pitch      rpm\n",
      "0  54.1       8.5    7.0  13000.0\n",
      "          V  diameter    pitch       rpm\n",
      "0  0.096242 -0.450955 -0.09199  0.054287\n"
     ]
    },
    {
     "data": {
      "text/plain": [
       "array([[2.3743954]], dtype=float32)"
      ]
     },
     "execution_count": 31,
     "metadata": {},
     "output_type": "execute_result"
    }
   ],
   "source": [
    "input_df = pd.DataFrame([54.1,8.5,7,13000]).T\n",
    "input_df.columns = ['V', 'diameter', 'pitch', 'rpm']\n",
    "print(input_df)\n",
    "print(norm(input_df))\n",
    "model.predict(norm(input_df))\n",
    "# thrust should be: 2.442"
   ]
  },
  {
   "cell_type": "code",
   "execution_count": 34,
   "metadata": {},
   "outputs": [
    {
     "name": "stdout",
     "output_type": "stream",
     "text": [
      "      V  diameter  pitch     rpm\n",
      "0  20.1      11.0    7.0  6000.0\n",
      "         V  diameter    pitch       rpm\n",
      "0 -0.64876  0.106164 -0.09199 -0.719192\n"
     ]
    },
    {
     "data": {
      "text/plain": [
       "1.5716395"
      ]
     },
     "execution_count": 34,
     "metadata": {},
     "output_type": "execute_result"
    }
   ],
   "source": [
    "input_df = pd.DataFrame([20.1,11,7,6000]).T\n",
    "input_df.columns = ['V', 'diameter', 'pitch', 'rpm']\n",
    "print(input_df)\n",
    "print(norm(input_df))\n",
    "model.predict(norm(input_df))\n",
    "# thrust should be: 1.558"
   ]
  },
  {
   "cell_type": "markdown",
   "metadata": {},
   "source": [
    "### <center>GUI</center>"
   ]
  },
  {
   "cell_type": "code",
   "execution_count": 112,
   "metadata": {},
   "outputs": [
    {
     "name": "stdout",
     "output_type": "stream",
     "text": [
      "multiple props\n"
     ]
    },
    {
     "data": {
      "image/png": "[encoded data removed]",
      "text/plain": [
       "<Figure size 432x288 with 1 Axes>"
      ]
     },
     "metadata": {
      "needs_background": "light"
     },
     "output_type": "display_data"
    }
   ],
   "source": [
    "diam = 11\n",
    "pitch = 7\n",
    "rpm = 6000\n",
    "V_values = list(np.linspace(0,100,num=500))\n",
    "\n",
    "# Predicted Data:\n",
    "T_values = []\n",
    "for V_value in V_values:\n",
    "    input_df = pd.DataFrame([V_value,diam,pitch,rpm]).T\n",
    "    input_df.columns = ['V', 'diameter', 'pitch', 'rpm']\n",
    "#     print(input_df)\n",
    "#     print(norm(input_df))\n",
    "    T_values.append(model.predict(norm(input_df))[0][0])\n",
    "    \n",
    "plt.plot(V_values, T_values, label='Predicted Data')\n",
    "\n",
    "# Real Data:\n",
    "prop_df = dataset.loc[dataset['diameter'] == diam].loc[dataset['pitch'] == pitch].loc[dataset['rpm'] == rpm]\n",
    "if prop_df.shape[0] > 3:    # prop is available in the dataset\n",
    "    print('Prop is available in dataset')\n",
    "    if prop_df.loc[prop_df['V'] == 0].index.shape[0] > 1:    # if there are multiple similar props\n",
    "        V_real = prop_df['V'].loc[int(prop_df.loc[prop_df['V'] == 0].index[0]):int(prop_df.loc[prop_df['V'] == 0].index[1]-1)]\n",
    "        T_real = prop_df['Thrust'].loc[int(prop_df.loc[prop_df['V'] == 0].index[0]):int(prop_df.loc[prop_df['V'] == 0].index[1]-1)]\n",
    "        print('multiple props')\n",
    "    else:    # Only one prop\n",
    "        V_real = prop_df['V']\n",
    "        T_real = prop_df['Thrust']\n",
    "        print('only one prop')\n",
    "\n",
    "    plt.plot(V_real, T_real, label='Real Data')\n",
    "    plt.xlim([0,V_real.iloc[-1]])\n",
    "else:\n",
    "    print('Prop not available in dataset')\n",
    "\n",
    "\n",
    "plt.ylim([0,plt.ylim()[1]])\n",
    "plt.xlabel('V in MPH')\n",
    "plt.ylabel('Thrust in lbf')\n",
    "plt.legend()\n",
    "plt.show()"
   ]
  },
  {
   "cell_type": "code",
   "execution_count": 113,
   "metadata": {},
   "outputs": [],
   "source": [
    "model.save('Fitting_2_model.h5')"
   ]
  },
  {
   "cell_type": "code",
   "execution_count": null,
   "metadata": {},
   "outputs": [],
   "source": []
  }
 ],
 "metadata": {
  "kernelspec": {
   "display_name": "Python 3",
   "language": "python",
   "name": "python3"
  },
  "language_info": {
   "codemirror_mode": {
    "name": "ipython",
    "version": 3
   },
   "file_extension": ".py",
   "mimetype": "text/x-python",
   "name": "python",
   "nbconvert_exporter": "python",
   "pygments_lexer": "ipython3",
   "version": "3.7.3"
  }
 },
 "nbformat": 4,
 "nbformat_minor": 2
}
