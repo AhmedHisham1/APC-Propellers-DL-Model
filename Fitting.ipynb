{
 "cells": [
  {
   "cell_type": "code",
   "execution_count": 1,
   "metadata": {},
   "outputs": [],
   "source": [
    "import pandas as pd\n",
    "import numpy as np\n",
    "import matplotlib.pyplot as plt\n",
    "\n",
    "%matplotlib inline"
   ]
  },
  {
   "cell_type": "code",
   "execution_count": 2,
   "metadata": {
    "scrolled": true
   },
   "outputs": [
    {
     "data": {
      "text/html": [
       "<div>\n",
       "<style scoped>\n",
       "    .dataframe tbody tr th:only-of-type {\n",
       "        vertical-align: middle;\n",
       "    }\n",
       "\n",
       "    .dataframe tbody tr th {\n",
       "        vertical-align: top;\n",
       "    }\n",
       "\n",
       "    .dataframe thead th {\n",
       "        text-align: right;\n",
       "    }\n",
       "</style>\n",
       "<table border=\"1\" class=\"dataframe\">\n",
       "  <thead>\n",
       "    <tr style=\"text-align: right;\">\n",
       "      <th></th>\n",
       "      <th>V</th>\n",
       "      <th>Thrust</th>\n",
       "      <th>diameter</th>\n",
       "      <th>pitch</th>\n",
       "      <th>rpm</th>\n",
       "    </tr>\n",
       "  </thead>\n",
       "  <tbody>\n",
       "    <tr>\n",
       "      <th>0</th>\n",
       "      <td>0.0</td>\n",
       "      <td>0.032</td>\n",
       "      <td>10.5</td>\n",
       "      <td>4.5</td>\n",
       "      <td>1000.0</td>\n",
       "    </tr>\n",
       "    <tr>\n",
       "      <th>1</th>\n",
       "      <td>0.2</td>\n",
       "      <td>0.032</td>\n",
       "      <td>10.5</td>\n",
       "      <td>4.5</td>\n",
       "      <td>1000.0</td>\n",
       "    </tr>\n",
       "    <tr>\n",
       "      <th>2</th>\n",
       "      <td>0.4</td>\n",
       "      <td>0.031</td>\n",
       "      <td>10.5</td>\n",
       "      <td>4.5</td>\n",
       "      <td>1000.0</td>\n",
       "    </tr>\n",
       "    <tr>\n",
       "      <th>3</th>\n",
       "      <td>0.7</td>\n",
       "      <td>0.031</td>\n",
       "      <td>10.5</td>\n",
       "      <td>4.5</td>\n",
       "      <td>1000.0</td>\n",
       "    </tr>\n",
       "    <tr>\n",
       "      <th>4</th>\n",
       "      <td>0.9</td>\n",
       "      <td>0.030</td>\n",
       "      <td>10.5</td>\n",
       "      <td>4.5</td>\n",
       "      <td>1000.0</td>\n",
       "    </tr>\n",
       "  </tbody>\n",
       "</table>\n",
       "</div>"
      ],
      "text/plain": [
       "     V  Thrust  diameter  pitch     rpm\n",
       "0  0.0   0.032      10.5    4.5  1000.0\n",
       "1  0.2   0.032      10.5    4.5  1000.0\n",
       "2  0.4   0.031      10.5    4.5  1000.0\n",
       "3  0.7   0.031      10.5    4.5  1000.0\n",
       "4  0.9   0.030      10.5    4.5  1000.0"
      ]
     },
     "execution_count": 2,
     "metadata": {},
     "output_type": "execute_result"
    }
   ],
   "source": [
    "big_df = pd.read_csv(r'D:\\Graduation Project\\QuadPlane Design\\APC Propellers\\PERFILES_WEB\\all_props_cleaned_petite.csv')\n",
    "big_df.head()"
   ]
  },
  {
   "cell_type": "code",
   "execution_count": 3,
   "metadata": {},
   "outputs": [],
   "source": [
    "import tensorflow as tf"
   ]
  },
  {
   "cell_type": "code",
   "execution_count": 4,
   "metadata": {},
   "outputs": [
    {
     "data": {
      "text/html": [
       "<div>\n",
       "<style scoped>\n",
       "    .dataframe tbody tr th:only-of-type {\n",
       "        vertical-align: middle;\n",
       "    }\n",
       "\n",
       "    .dataframe tbody tr th {\n",
       "        vertical-align: top;\n",
       "    }\n",
       "\n",
       "    .dataframe thead th {\n",
       "        text-align: right;\n",
       "    }\n",
       "</style>\n",
       "<table border=\"1\" class=\"dataframe\">\n",
       "  <thead>\n",
       "    <tr style=\"text-align: right;\">\n",
       "      <th></th>\n",
       "      <th>V</th>\n",
       "      <th>Thrust</th>\n",
       "      <th>diameter</th>\n",
       "      <th>pitch</th>\n",
       "      <th>rpm</th>\n",
       "    </tr>\n",
       "  </thead>\n",
       "  <tbody>\n",
       "    <tr>\n",
       "      <th>293474</th>\n",
       "      <td>191.0</td>\n",
       "      <td>4.365</td>\n",
       "      <td>9.0</td>\n",
       "      <td>9.0</td>\n",
       "      <td>21000.0</td>\n",
       "    </tr>\n",
       "    <tr>\n",
       "      <th>293475</th>\n",
       "      <td>198.7</td>\n",
       "      <td>3.338</td>\n",
       "      <td>9.0</td>\n",
       "      <td>9.0</td>\n",
       "      <td>21000.0</td>\n",
       "    </tr>\n",
       "    <tr>\n",
       "      <th>293476</th>\n",
       "      <td>206.3</td>\n",
       "      <td>2.277</td>\n",
       "      <td>9.0</td>\n",
       "      <td>9.0</td>\n",
       "      <td>21000.0</td>\n",
       "    </tr>\n",
       "    <tr>\n",
       "      <th>293477</th>\n",
       "      <td>214.0</td>\n",
       "      <td>1.189</td>\n",
       "      <td>9.0</td>\n",
       "      <td>9.0</td>\n",
       "      <td>21000.0</td>\n",
       "    </tr>\n",
       "    <tr>\n",
       "      <th>293478</th>\n",
       "      <td>221.6</td>\n",
       "      <td>0.009</td>\n",
       "      <td>9.0</td>\n",
       "      <td>9.0</td>\n",
       "      <td>21000.0</td>\n",
       "    </tr>\n",
       "  </tbody>\n",
       "</table>\n",
       "</div>"
      ],
      "text/plain": [
       "            V  Thrust  diameter  pitch      rpm\n",
       "293474  191.0   4.365       9.0    9.0  21000.0\n",
       "293475  198.7   3.338       9.0    9.0  21000.0\n",
       "293476  206.3   2.277       9.0    9.0  21000.0\n",
       "293477  214.0   1.189       9.0    9.0  21000.0\n",
       "293478  221.6   0.009       9.0    9.0  21000.0"
      ]
     },
     "execution_count": 4,
     "metadata": {},
     "output_type": "execute_result"
    }
   ],
   "source": [
    "dataset = big_df.copy()\n",
    "dataset.tail()"
   ]
  },
  {
   "cell_type": "code",
   "execution_count": 5,
   "metadata": {},
   "outputs": [
    {
     "data": {
      "text/plain": [
       "V           0\n",
       "Thrust      1\n",
       "diameter    0\n",
       "pitch       0\n",
       "rpm         0\n",
       "dtype: int64"
      ]
     },
     "execution_count": 5,
     "metadata": {},
     "output_type": "execute_result"
    }
   ],
   "source": [
    "dataset.isna().sum()"
   ]
  },
  {
   "cell_type": "code",
   "execution_count": 6,
   "metadata": {},
   "outputs": [],
   "source": [
    "dataset = dataset.dropna()"
   ]
  },
  {
   "cell_type": "code",
   "execution_count": 7,
   "metadata": {},
   "outputs": [
    {
     "data": {
      "text/plain": [
       "V           0\n",
       "Thrust      0\n",
       "diameter    0\n",
       "pitch       0\n",
       "rpm         0\n",
       "dtype: int64"
      ]
     },
     "execution_count": 7,
     "metadata": {},
     "output_type": "execute_result"
    }
   ],
   "source": [
    "dataset.isna().sum()"
   ]
  },
  {
   "cell_type": "code",
   "execution_count": 8,
   "metadata": {},
   "outputs": [
    {
     "data": {
      "text/html": [
       "<div>\n",
       "<style scoped>\n",
       "    .dataframe tbody tr th:only-of-type {\n",
       "        vertical-align: middle;\n",
       "    }\n",
       "\n",
       "    .dataframe tbody tr th {\n",
       "        vertical-align: top;\n",
       "    }\n",
       "\n",
       "    .dataframe thead th {\n",
       "        text-align: right;\n",
       "    }\n",
       "</style>\n",
       "<table border=\"1\" class=\"dataframe\">\n",
       "  <thead>\n",
       "    <tr style=\"text-align: right;\">\n",
       "      <th></th>\n",
       "      <th>V</th>\n",
       "      <th>Thrust</th>\n",
       "      <th>diameter</th>\n",
       "      <th>pitch</th>\n",
       "      <th>rpm</th>\n",
       "    </tr>\n",
       "  </thead>\n",
       "  <tbody>\n",
       "    <tr>\n",
       "      <th>128473</th>\n",
       "      <td>68.4</td>\n",
       "      <td>34.477</td>\n",
       "      <td>20.00</td>\n",
       "      <td>14.00</td>\n",
       "      <td>9000.0</td>\n",
       "    </tr>\n",
       "    <tr>\n",
       "      <th>216443</th>\n",
       "      <td>89.8</td>\n",
       "      <td>5.334</td>\n",
       "      <td>7.00</td>\n",
       "      <td>5.00</td>\n",
       "      <td>26000.0</td>\n",
       "    </tr>\n",
       "    <tr>\n",
       "      <th>153175</th>\n",
       "      <td>217.4</td>\n",
       "      <td>1.552</td>\n",
       "      <td>4.75</td>\n",
       "      <td>4.75</td>\n",
       "      <td>43000.0</td>\n",
       "    </tr>\n",
       "    <tr>\n",
       "      <th>101545</th>\n",
       "      <td>59.9</td>\n",
       "      <td>19.442</td>\n",
       "      <td>16.00</td>\n",
       "      <td>4.00</td>\n",
       "      <td>15000.0</td>\n",
       "    </tr>\n",
       "    <tr>\n",
       "      <th>207862</th>\n",
       "      <td>85.6</td>\n",
       "      <td>1.142</td>\n",
       "      <td>7.80</td>\n",
       "      <td>7.00</td>\n",
       "      <td>13000.0</td>\n",
       "    </tr>\n",
       "  </tbody>\n",
       "</table>\n",
       "</div>"
      ],
      "text/plain": [
       "            V  Thrust  diameter  pitch      rpm\n",
       "128473   68.4  34.477     20.00  14.00   9000.0\n",
       "216443   89.8   5.334      7.00   5.00  26000.0\n",
       "153175  217.4   1.552      4.75   4.75  43000.0\n",
       "101545   59.9  19.442     16.00   4.00  15000.0\n",
       "207862   85.6   1.142      7.80   7.00  13000.0"
      ]
     },
     "execution_count": 8,
     "metadata": {},
     "output_type": "execute_result"
    }
   ],
   "source": [
    "train_dataset = dataset.sample(frac=0.8,random_state=0)\n",
    "test_dataset = dataset.drop(train_dataset.index)\n",
    "train_dataset.tail()"
   ]
  },
  {
   "cell_type": "code",
   "execution_count": 9,
   "metadata": {},
   "outputs": [
    {
     "data": {
      "text/html": [
       "<div>\n",
       "<style scoped>\n",
       "    .dataframe tbody tr th:only-of-type {\n",
       "        vertical-align: middle;\n",
       "    }\n",
       "\n",
       "    .dataframe tbody tr th {\n",
       "        vertical-align: top;\n",
       "    }\n",
       "\n",
       "    .dataframe thead th {\n",
       "        text-align: right;\n",
       "    }\n",
       "</style>\n",
       "<table border=\"1\" class=\"dataframe\">\n",
       "  <thead>\n",
       "    <tr style=\"text-align: right;\">\n",
       "      <th></th>\n",
       "      <th>V</th>\n",
       "      <th>diameter</th>\n",
       "      <th>pitch</th>\n",
       "      <th>rpm</th>\n",
       "    </tr>\n",
       "  </thead>\n",
       "  <tbody>\n",
       "    <tr>\n",
       "      <th>112269</th>\n",
       "      <td>39.3</td>\n",
       "      <td>18.1</td>\n",
       "      <td>10.0</td>\n",
       "      <td>5000.0</td>\n",
       "    </tr>\n",
       "    <tr>\n",
       "      <th>201258</th>\n",
       "      <td>5.3</td>\n",
       "      <td>7.4</td>\n",
       "      <td>7.6</td>\n",
       "      <td>18000.0</td>\n",
       "    </tr>\n",
       "    <tr>\n",
       "      <th>185035</th>\n",
       "      <td>51.3</td>\n",
       "      <td>6.5</td>\n",
       "      <td>3.7</td>\n",
       "      <td>17000.0</td>\n",
       "    </tr>\n",
       "    <tr>\n",
       "      <th>129423</th>\n",
       "      <td>33.9</td>\n",
       "      <td>20.0</td>\n",
       "      <td>15.0</td>\n",
       "      <td>9000.0</td>\n",
       "    </tr>\n",
       "    <tr>\n",
       "      <th>13743</th>\n",
       "      <td>26.3</td>\n",
       "      <td>10.0</td>\n",
       "      <td>8.0</td>\n",
       "      <td>20000.0</td>\n",
       "    </tr>\n",
       "  </tbody>\n",
       "</table>\n",
       "</div>"
      ],
      "text/plain": [
       "           V  diameter  pitch      rpm\n",
       "112269  39.3      18.1   10.0   5000.0\n",
       "201258   5.3       7.4    7.6  18000.0\n",
       "185035  51.3       6.5    3.7  17000.0\n",
       "129423  33.9      20.0   15.0   9000.0\n",
       "13743   26.3      10.0    8.0  20000.0"
      ]
     },
     "execution_count": 9,
     "metadata": {},
     "output_type": "execute_result"
    }
   ],
   "source": [
    "train_labels = train_dataset.pop('Thrust')\n",
    "test_labels = test_dataset.pop('Thrust')\n",
    "train_dataset.head()"
   ]
  },
  {
   "cell_type": "code",
   "execution_count": 10,
   "metadata": {},
   "outputs": [
    {
     "data": {
      "text/html": [
       "<div>\n",
       "<style scoped>\n",
       "    .dataframe tbody tr th:only-of-type {\n",
       "        vertical-align: middle;\n",
       "    }\n",
       "\n",
       "    .dataframe tbody tr th {\n",
       "        vertical-align: top;\n",
       "    }\n",
       "\n",
       "    .dataframe thead th {\n",
       "        text-align: right;\n",
       "    }\n",
       "</style>\n",
       "<table border=\"1\" class=\"dataframe\">\n",
       "  <thead>\n",
       "    <tr style=\"text-align: right;\">\n",
       "      <th></th>\n",
       "      <th>count</th>\n",
       "      <th>mean</th>\n",
       "      <th>std</th>\n",
       "      <th>min</th>\n",
       "      <th>25%</th>\n",
       "      <th>50%</th>\n",
       "      <th>75%</th>\n",
       "      <th>max</th>\n",
       "    </tr>\n",
       "  </thead>\n",
       "  <tbody>\n",
       "    <tr>\n",
       "      <th>V</th>\n",
       "      <td>234782.0</td>\n",
       "      <td>49.707743</td>\n",
       "      <td>45.637459</td>\n",
       "      <td>-42.0</td>\n",
       "      <td>13.6</td>\n",
       "      <td>36.20</td>\n",
       "      <td>73.8</td>\n",
       "      <td>319.6</td>\n",
       "    </tr>\n",
       "    <tr>\n",
       "      <th>diameter</th>\n",
       "      <td>234782.0</td>\n",
       "      <td>10.523603</td>\n",
       "      <td>4.487367</td>\n",
       "      <td>4.0</td>\n",
       "      <td>7.0</td>\n",
       "      <td>9.25</td>\n",
       "      <td>13.5</td>\n",
       "      <td>27.0</td>\n",
       "    </tr>\n",
       "    <tr>\n",
       "      <th>pitch</th>\n",
       "      <td>234782.0</td>\n",
       "      <td>7.308001</td>\n",
       "      <td>3.348207</td>\n",
       "      <td>2.0</td>\n",
       "      <td>4.5</td>\n",
       "      <td>6.50</td>\n",
       "      <td>10.0</td>\n",
       "      <td>22.5</td>\n",
       "    </tr>\n",
       "    <tr>\n",
       "      <th>rpm</th>\n",
       "      <td>234782.0</td>\n",
       "      <td>12508.699700</td>\n",
       "      <td>9050.014395</td>\n",
       "      <td>1000.0</td>\n",
       "      <td>6000.0</td>\n",
       "      <td>11000.00</td>\n",
       "      <td>17000.0</td>\n",
       "      <td>45000.0</td>\n",
       "    </tr>\n",
       "  </tbody>\n",
       "</table>\n",
       "</div>"
      ],
      "text/plain": [
       "             count          mean          std     min     25%       50%  \\\n",
       "V         234782.0     49.707743    45.637459   -42.0    13.6     36.20   \n",
       "diameter  234782.0     10.523603     4.487367     4.0     7.0      9.25   \n",
       "pitch     234782.0      7.308001     3.348207     2.0     4.5      6.50   \n",
       "rpm       234782.0  12508.699700  9050.014395  1000.0  6000.0  11000.00   \n",
       "\n",
       "              75%      max  \n",
       "V            73.8    319.6  \n",
       "diameter     13.5     27.0  \n",
       "pitch        10.0     22.5  \n",
       "rpm       17000.0  45000.0  "
      ]
     },
     "execution_count": 10,
     "metadata": {},
     "output_type": "execute_result"
    }
   ],
   "source": [
    "train_stats = train_dataset.describe()\n",
    "train_stats = train_stats.transpose()\n",
    "train_stats"
   ]
  },
  {
   "cell_type": "code",
   "execution_count": 11,
   "metadata": {},
   "outputs": [
    {
     "data": {
      "text/html": [
       "<div>\n",
       "<style scoped>\n",
       "    .dataframe tbody tr th:only-of-type {\n",
       "        vertical-align: middle;\n",
       "    }\n",
       "\n",
       "    .dataframe tbody tr th {\n",
       "        vertical-align: top;\n",
       "    }\n",
       "\n",
       "    .dataframe thead th {\n",
       "        text-align: right;\n",
       "    }\n",
       "</style>\n",
       "<table border=\"1\" class=\"dataframe\">\n",
       "  <thead>\n",
       "    <tr style=\"text-align: right;\">\n",
       "      <th></th>\n",
       "      <th>V</th>\n",
       "      <th>diameter</th>\n",
       "      <th>pitch</th>\n",
       "      <th>rpm</th>\n",
       "    </tr>\n",
       "  </thead>\n",
       "  <tbody>\n",
       "    <tr>\n",
       "      <th>112269</th>\n",
       "      <td>-0.228053</td>\n",
       "      <td>1.688384</td>\n",
       "      <td>0.804012</td>\n",
       "      <td>-0.829689</td>\n",
       "    </tr>\n",
       "    <tr>\n",
       "      <th>201258</th>\n",
       "      <td>-0.973055</td>\n",
       "      <td>-0.696088</td>\n",
       "      <td>0.087211</td>\n",
       "      <td>0.606773</td>\n",
       "    </tr>\n",
       "    <tr>\n",
       "      <th>185035</th>\n",
       "      <td>0.034889</td>\n",
       "      <td>-0.896651</td>\n",
       "      <td>-1.077592</td>\n",
       "      <td>0.496275</td>\n",
       "    </tr>\n",
       "    <tr>\n",
       "      <th>129423</th>\n",
       "      <td>-0.346376</td>\n",
       "      <td>2.111795</td>\n",
       "      <td>2.297349</td>\n",
       "      <td>-0.387701</td>\n",
       "    </tr>\n",
       "    <tr>\n",
       "      <th>13743</th>\n",
       "      <td>-0.512906</td>\n",
       "      <td>-0.116684</td>\n",
       "      <td>0.206678</td>\n",
       "      <td>0.827767</td>\n",
       "    </tr>\n",
       "  </tbody>\n",
       "</table>\n",
       "</div>"
      ],
      "text/plain": [
       "               V  diameter     pitch       rpm\n",
       "112269 -0.228053  1.688384  0.804012 -0.829689\n",
       "201258 -0.973055 -0.696088  0.087211  0.606773\n",
       "185035  0.034889 -0.896651 -1.077592  0.496275\n",
       "129423 -0.346376  2.111795  2.297349 -0.387701\n",
       "13743  -0.512906 -0.116684  0.206678  0.827767"
      ]
     },
     "execution_count": 11,
     "metadata": {},
     "output_type": "execute_result"
    }
   ],
   "source": [
    "def norm(x):\n",
    "    return (x - train_stats['mean']) / train_stats['std']\n",
    "normed_train_data = norm(train_dataset)\n",
    "normed_test_data = norm(test_dataset)\n",
    "normed_train_data.head()"
   ]
  },
  {
   "cell_type": "code",
   "execution_count": 12,
   "metadata": {},
   "outputs": [
    {
     "name": "stderr",
     "output_type": "stream",
     "text": [
      "WARNING: Logging before flag parsing goes to stderr.\n",
      "W1018 12:06:05.895493  4668 deprecation.py:506] From C:\\ProgramData\\Anaconda3\\lib\\site-packages\\tensorflow\\python\\ops\\init_ops.py:1251: calling VarianceScaling.__init__ (from tensorflow.python.ops.init_ops) with dtype is deprecated and will be removed in a future version.\n",
      "Instructions for updating:\n",
      "Call initializer instance with the dtype argument instead of passing it to the constructor\n"
     ]
    },
    {
     "name": "stdout",
     "output_type": "stream",
     "text": [
      "Model: \"sequential\"\n",
      "_________________________________________________________________\n",
      "Layer (type)                 Output Shape              Param #   \n",
      "=================================================================\n",
      "dense (Dense)                (None, 64)                320       \n",
      "_________________________________________________________________\n",
      "dense_1 (Dense)              (None, 64)                4160      \n",
      "_________________________________________________________________\n",
      "dense_2 (Dense)              (None, 32)                2080      \n",
      "_________________________________________________________________\n",
      "dense_3 (Dense)              (None, 16)                528       \n",
      "_________________________________________________________________\n",
      "dense_4 (Dense)              (None, 1)                 17        \n",
      "=================================================================\n",
      "Total params: 7,105\n",
      "Trainable params: 7,105\n",
      "Non-trainable params: 0\n",
      "_________________________________________________________________\n"
     ]
    }
   ],
   "source": [
    "model = tf.keras.Sequential([\n",
    "    tf.keras.layers.Dense(64, activation='relu', input_shape=[len(train_dataset.keys())]),\n",
    "    tf.keras.layers.Dense(64, activation='relu'),\n",
    "    tf.keras.layers.Dense(32, activation='relu'),\n",
    "    tf.keras.layers.Dense(16, activation='relu'),\n",
    "    tf.keras.layers.Dense(1)\n",
    "  ])\n",
    "\n",
    "optimizer = tf.keras.optimizers.RMSprop(0.001)\n",
    "\n",
    "model.compile(loss='mse', optimizer=optimizer, metrics=['mae', 'mse'])\n",
    "\n",
    "model.summary()"
   ]
  },
  {
   "cell_type": "code",
   "execution_count": 13,
   "metadata": {},
   "outputs": [
    {
     "data": {
      "text/plain": [
       "array([[ 0.08668348],\n",
       "       [ 0.04207542],\n",
       "       [-0.00070707],\n",
       "       [ 0.10537666],\n",
       "       [ 0.05664773],\n",
       "       [ 0.02277268],\n",
       "       [-0.05865517],\n",
       "       [-0.04639457],\n",
       "       [ 0.02377338],\n",
       "       [ 0.00199432]], dtype=float32)"
      ]
     },
     "execution_count": 13,
     "metadata": {},
     "output_type": "execute_result"
    }
   ],
   "source": [
    "example_batch = normed_train_data[:10]\n",
    "example_result = model.predict(example_batch)\n",
    "example_result"
   ]
  },
  {
   "cell_type": "code",
   "execution_count": 14,
   "metadata": {
    "scrolled": true
   },
   "outputs": [
    {
     "name": "stdout",
     "output_type": "stream",
     "text": [
      "Train on 187825 samples, validate on 46957 samples\n",
      "Epoch 1/200\n",
      "187825/187825 [==============================] - 5s 28us/sample - loss: 3.8562 - mean_absolute_error: 0.9453 - mean_squared_error: 3.8562 - val_loss: 2.0257 - val_mean_absolute_error: 0.7957 - val_mean_squared_error: 2.0257\n",
      "Epoch 2/200\n",
      "187825/187825 [==============================] - 5s 27us/sample - loss: 1.7753 - mean_absolute_error: 0.6977 - mean_squared_error: 1.7753 - val_loss: 1.5419 - val_mean_absolute_error: 0.6208 - val_mean_squared_error: 1.54191.7959 - mean_absolute_er - ETA: 2s - loss: 1.7932 - mean_absolute_error: 0.7063 -  - ETA: 1s - loss: 1.7883 - mean_absolute_error: 0.7037 - mean_squared_error - ETA: 1s - loss: 1.8042 - mean_absolute_error: 0.7046 - me - ETA: 1s - loss: 1.8089 - mean_absolute_er\n",
      "Epoch 3/200\n",
      "187825/187825 [==============================] - 5s 27us/sample - loss: 1.6509 - mean_absolute_error: 0.6631 - mean_squared_error: 1.6509 - val_loss: 1.4897 - val_mean_absolute_error: 0.6295 - val_mean_squared_error: 1.48971.7063 -  - ETA: 1s - l\n",
      "Epoch 4/200\n",
      "187825/187825 [==============================] - 5s 27us/sample - loss: 1.5759 - mean_absolute_error: 0.6428 - mean_squared_error: 1.5759 - val_loss: 1.6543 - val_mean_absolute_error: 0.7479 - val_mean_squared_error: 1.6543 1.\n",
      "Epoch 5/200\n",
      "187825/187825 [==============================] - 5s 27us/sample - loss: 1.5258 - mean_absolute_error: 0.6321 - mean_squared_error: 1.5258 - val_loss: 1.5934 - val_mean_absolute_error: 0.6255 - val_mean_squared_error: 1.5934solute_error: 0.6 - ETA: 2s - loss: 1.5681 -  - ETA: 1s - loss: 1.5265 - mean_absolute_error: 0.6 - ETA: 0s - loss: 1.5274 - mean_absolute_error: 0.6321 - mean_squared_error\n",
      "Epoch 6/200\n",
      "187825/187825 [==============================] - 5s 28us/sample - loss: 1.4862 - mean_absolute_error: 0.6178 - mean_squared_error: 1.4862 - val_loss: 1.7213 - val_mean_absolute_error: 0.6156 - val_mean_squared_error: 1.7213\n",
      "Epoch 7/200\n",
      "187825/187825 [==============================] - 5s 28us/sample - loss: 1.4609 - mean_absolute_error: 0.6095 - mean_squared_error: 1.4609 - val_loss: 1.4316 - val_mean_absolute_error: 0.6129 - val_mean_squared_error: 1.4316\n",
      "Epoch 8/200\n",
      "187825/187825 [==============================] - 5s 27us/sample - loss: 1.4365 - mean_absolute_error: 0.6045 - mean_squared_error: 1.4365 - val_loss: 1.4342 - val_mean_absolute_error: 0.5910 - val_mean_squared_error: 1.4342\n",
      "Epoch 9/200\n",
      "187825/187825 [==============================] - 5s 27us/sample - loss: 1.4181 - mean_absolute_error: 0.6009 - mean_squared_error: 1.4181 - val_loss: 1.5016 - val_mean_absolute_error: 0.6083 - val_mean_squared_error: 1.5016\n",
      "Epoch 10/200\n",
      "187825/187825 [==============================] - 6s 31us/sample - loss: 1.3989 - mean_absolute_error: 0.5952 - mean_squared_error: 1.3989 - val_loss: 1.4459 - val_mean_absolute_error: 0.5948 - val_mean_squared_error: 1.4459\n",
      "Epoch 11/200\n",
      "187825/187825 [==============================] - 5s 27us/sample - loss: 1.3817 - mean_absolute_error: 0.5893 - mean_squared_error: 1.3817 - val_loss: 1.5619 - val_mean_absolute_error: 0.6260 - val_mean_squared_error: 1.5619\n",
      "Epoch 12/200\n",
      "187825/187825 [==============================] - 5s 27us/sample - loss: 1.3702 - mean_absolute_error: 0.5873 - mean_squared_error: 1.3702 - val_loss: 1.5512 - val_mean_absolute_error: 0.5846 - val_mean_squared_error: 1.5512\n",
      "Epoch 13/200\n",
      "187825/187825 [==============================] - 5s 28us/sample - loss: 1.3635 - mean_absolute_error: 0.5862 - mean_squared_error: 1.3635 - val_loss: 1.3774 - val_mean_absolute_error: 0.5853 - val_mean_squared_error: 1.3774\n",
      "Epoch 14/200\n",
      "187825/187825 [==============================] - 5s 27us/sample - loss: 1.3520 - mean_absolute_error: 0.5835 - mean_squared_error: 1.3520 - val_loss: 1.3889 - val_mean_absolute_error: 0.5684 - val_mean_squared_error: 1.3889\n",
      "Epoch 15/200\n",
      "187825/187825 [==============================] - 5s 27us/sample - loss: 1.3424 - mean_absolute_error: 0.5829 - mean_squared_error: 1.3424 - val_loss: 1.6410 - val_mean_absolute_error: 0.6029 - val_mean_squared_error: 1.6410\n",
      "Epoch 16/200\n",
      "187825/187825 [==============================] - 5s 28us/sample - loss: 1.3416 - mean_absolute_error: 0.5813 - mean_squared_error: 1.3416 - val_loss: 1.3396 - val_mean_absolute_error: 0.5791 - val_mean_squared_error: 1.3396s\n",
      "Epoch 17/200\n",
      "187825/187825 [==============================] - 5s 27us/sample - loss: 1.3354 - mean_absolute_error: 0.5801 - mean_squared_error: 1.3354 - val_loss: 1.4033 - val_mean_absolute_error: 0.5971 - val_mean_squared_error: 1.4033\n",
      "Epoch 18/200\n",
      "187825/187825 [==============================] - 5s 27us/sample - loss: 1.3258 - mean_absolute_error: 0.5792 - mean_squared_error: 1.3258 - val_loss: 1.8227 - val_mean_absolute_error: 0.7318 - val_mean_squared_error: 1.8227\n",
      "Epoch 19/200\n",
      "187825/187825 [==============================] - 6s 31us/sample - loss: 1.3108 - mean_absolute_error: 0.5790 - mean_squared_error: 1.3108 - val_loss: 1.3792 - val_mean_absolute_error: 0.5811 - val_mean_squared_error: 1.3792\n",
      "Epoch 20/200\n",
      "187825/187825 [==============================] - 6s 31us/sample - loss: 1.3059 - mean_absolute_error: 0.5775 - mean_squared_error: 1.3059 - val_loss: 1.4599 - val_mean_absolute_error: 0.6055 - val_mean_squared_error: 1.4599\n",
      "Epoch 21/200\n",
      "187825/187825 [==============================] - 6s 31us/sample - loss: 1.3045 - mean_absolute_error: 0.5753 - mean_squared_error: 1.3045 - val_loss: 1.3283 - val_mean_absolute_error: 0.5669 - val_mean_squared_error: 1.3283\n",
      "Epoch 22/200\n",
      "187825/187825 [==============================] - 5s 29us/sample - loss: 1.3001 - mean_absolute_error: 0.5741 - mean_squared_error: 1.3001 - val_loss: 1.5549 - val_mean_absolute_error: 0.6810 - val_mean_squared_error: 1.5549\n",
      "Epoch 23/200\n",
      "187825/187825 [==============================] - 5s 27us/sample - loss: 1.2951 - mean_absolute_error: 0.5732 - mean_squared_error: 1.2951 - val_loss: 1.7356 - val_mean_absolute_error: 0.6599 - val_mean_squared_error: 1.7356\n",
      "Epoch 24/200\n",
      "187825/187825 [==============================] - 6s 30us/sample - loss: 1.2822 - mean_absolute_error: 0.5720 - mean_squared_error: 1.2822 - val_loss: 1.3464 - val_mean_absolute_error: 0.5515 - val_mean_squared_error: 1.3464\n",
      "Epoch 25/200\n",
      "187825/187825 [==============================] - 5s 28us/sample - loss: 1.2722 - mean_absolute_error: 0.5709 - mean_squared_error: 1.2722 - val_loss: 1.4189 - val_mean_absolute_error: 0.5757 - val_mean_squared_error: 1.4189\n",
      "Epoch 26/200\n",
      "187825/187825 [==============================] - 6s 31us/sample - loss: 1.2716 - mean_absolute_error: 0.5697 - mean_squared_error: 1.2716 - val_loss: 1.5201 - val_mean_absolute_error: 0.5907 - val_mean_squared_error: 1.5201\n",
      "Epoch 27/200\n",
      "187825/187825 [==============================] - 5s 27us/sample - loss: 1.2648 - mean_absolute_error: 0.5682 - mean_squared_error: 1.2648 - val_loss: 1.5475 - val_mean_absolute_error: 0.5913 - val_mean_squared_error: 1.5475\n",
      "Epoch 28/200\n",
      "187825/187825 [==============================] - 5s 26us/sample - loss: 1.2649 - mean_absolute_error: 0.5700 - mean_squared_error: 1.2649 - val_loss: 1.3032 - val_mean_absolute_error: 0.5713 - val_mean_squared_error: 1.3032\n",
      "Epoch 29/200\n",
      "187825/187825 [==============================] - 5s 26us/sample - loss: 1.2588 - mean_absolute_error: 0.5691 - mean_squared_error: 1.2588 - val_loss: 1.3339 - val_mean_absolute_error: 0.6419 - val_mean_squared_error: 1.3339\n",
      "Epoch 30/200\n",
      "187825/187825 [==============================] - 5s 26us/sample - loss: 1.2662 - mean_absolute_error: 0.5688 - mean_squared_error: 1.2662 - val_loss: 1.3079 - val_mean_absolute_error: 0.5599 - val_mean_squared_error: 1.3079\n",
      "Epoch 31/200\n",
      "187825/187825 [==============================] - 5s 27us/sample - loss: 1.2542 - mean_absolute_error: 0.5671 - mean_squared_error: 1.2542 - val_loss: 1.4828 - val_mean_absolute_error: 0.6257 - val_mean_squared_error: 1.4828\n",
      "Epoch 32/200\n",
      "187825/187825 [==============================] - 5s 27us/sample - loss: 1.2486 - mean_absolute_error: 0.5657 - mean_squared_error: 1.2486 - val_loss: 1.4874 - val_mean_absolute_error: 0.6104 - val_mean_squared_error: 1.4874\n",
      "Epoch 33/200\n"
     ]
    },
    {
     "name": "stdout",
     "output_type": "stream",
     "text": [
      "187825/187825 [==============================] - 5s 26us/sample - loss: 1.2474 - mean_absolute_error: 0.5646 - mean_squared_error: 1.2474 - val_loss: 1.3922 - val_mean_absolute_error: 0.5590 - val_mean_squared_error: 1.3922\n",
      "Epoch 34/200\n",
      "187825/187825 [==============================] - 5s 26us/sample - loss: 1.2516 - mean_absolute_error: 0.5643 - mean_squared_error: 1.2517 - val_loss: 1.3426 - val_mean_absolute_error: 0.5744 - val_mean_squared_error: 1.3426\n",
      "Epoch 35/200\n",
      "187825/187825 [==============================] - 6s 30us/sample - loss: 1.2378 - mean_absolute_error: 0.5632 - mean_squared_error: 1.2378 - val_loss: 1.2693 - val_mean_absolute_error: 0.5516 - val_mean_squared_error: 1.2693\n",
      "Epoch 36/200\n",
      "187825/187825 [==============================] - 6s 30us/sample - loss: 1.2420 - mean_absolute_error: 0.5628 - mean_squared_error: 1.2420 - val_loss: 1.2616 - val_mean_absolute_error: 0.5494 - val_mean_squared_error: 1.2616\n",
      "Epoch 37/200\n",
      "187825/187825 [==============================] - 6s 30us/sample - loss: 1.2393 - mean_absolute_error: 0.5640 - mean_squared_error: 1.2393 - val_loss: 1.2754 - val_mean_absolute_error: 0.5861 - val_mean_squared_error: 1.2754\n",
      "Epoch 38/200\n",
      "187825/187825 [==============================] - 6s 30us/sample - loss: 1.2399 - mean_absolute_error: 0.5635 - mean_squared_error: 1.2399 - val_loss: 1.2707 - val_mean_absolute_error: 0.5519 - val_mean_squared_error: 1.2707\n",
      "Epoch 39/200\n",
      "187825/187825 [==============================] - 6s 30us/sample - loss: 1.2381 - mean_absolute_error: 0.5644 - mean_squared_error: 1.2381 - val_loss: 1.2864 - val_mean_absolute_error: 0.5656 - val_mean_squared_error: 1.2864\n",
      "Epoch 40/200\n",
      "187825/187825 [==============================] - 5s 29us/sample - loss: 1.2430 - mean_absolute_error: 0.5663 - mean_squared_error: 1.2430 - val_loss: 1.2950 - val_mean_absolute_error: 0.5820 - val_mean_squared_error: 1.2950\n",
      "Epoch 41/200\n",
      "187825/187825 [==============================] - 5s 28us/sample - loss: 1.2362 - mean_absolute_error: 0.5653 - mean_squared_error: 1.2362 - val_loss: 1.3871 - val_mean_absolute_error: 0.6014 - val_mean_squared_error: 1.3871\n",
      "Epoch 42/200\n",
      "187825/187825 [==============================] - 5s 29us/sample - loss: 1.2327 - mean_absolute_error: 0.5633 - mean_squared_error: 1.2327 - val_loss: 1.3805 - val_mean_absolute_error: 0.5595 - val_mean_squared_error: 1.3805\n",
      "Epoch 43/200\n",
      "187825/187825 [==============================] - 5s 29us/sample - loss: 1.2394 - mean_absolute_error: 0.5668 - mean_squared_error: 1.2394 - val_loss: 1.3297 - val_mean_absolute_error: 0.5826 - val_mean_squared_error: 1.3297\n",
      "Epoch 44/200\n",
      "187825/187825 [==============================] - 5s 27us/sample - loss: 1.2285 - mean_absolute_error: 0.5638 - mean_squared_error: 1.2285 - val_loss: 1.2441 - val_mean_absolute_error: 0.5562 - val_mean_squared_error: 1.2441\n",
      "Epoch 45/200\n",
      "187825/187825 [==============================] - 5s 27us/sample - loss: 1.2229 - mean_absolute_error: 0.5606 - mean_squared_error: 1.2229 - val_loss: 1.4845 - val_mean_absolute_error: 0.6086 - val_mean_squared_error: 1.4845\n",
      "Epoch 46/200\n",
      "187825/187825 [==============================] - 5s 27us/sample - loss: 1.2289 - mean_absolute_error: 0.5604 - mean_squared_error: 1.2289 - val_loss: 1.4041 - val_mean_absolute_error: 0.5894 - val_mean_squared_error: 1.4041\n",
      "Epoch 47/200\n",
      "187825/187825 [==============================] - 5s 28us/sample - loss: 1.2187 - mean_absolute_error: 0.5574 - mean_squared_error: 1.2187 - val_loss: 1.2273 - val_mean_absolute_error: 0.5441 - val_mean_squared_error: 1.2273\n",
      "Epoch 48/200\n",
      "187825/187825 [==============================] - 5s 27us/sample - loss: 1.2194 - mean_absolute_error: 0.5572 - mean_squared_error: 1.2194 - val_loss: 1.5216 - val_mean_absolute_error: 0.6436 - val_mean_squared_error: 1.5216\n",
      "Epoch 49/200\n",
      "187825/187825 [==============================] - 5s 28us/sample - loss: 1.2157 - mean_absolute_error: 0.5544 - mean_squared_error: 1.2157 - val_loss: 1.2612 - val_mean_absolute_error: 0.5459 - val_mean_squared_error: 1.2612\n",
      "Epoch 50/200\n",
      "187825/187825 [==============================] - 5s 28us/sample - loss: 1.2206 - mean_absolute_error: 0.5551 - mean_squared_error: 1.2206 - val_loss: 1.2863 - val_mean_absolute_error: 0.5704 - val_mean_squared_error: 1.2863\n",
      "Epoch 51/200\n",
      "187825/187825 [==============================] - 5s 28us/sample - loss: 1.2102 - mean_absolute_error: 0.5541 - mean_squared_error: 1.2102 - val_loss: 1.2601 - val_mean_absolute_error: 0.5591 - val_mean_squared_error: 1.2601\n",
      "Epoch 52/200\n",
      "187825/187825 [==============================] - 5s 27us/sample - loss: 1.2124 - mean_absolute_error: 0.5543 - mean_squared_error: 1.2124 - val_loss: 1.2824 - val_mean_absolute_error: 0.5678 - val_mean_squared_error: 1.2824\n",
      "Epoch 53/200\n",
      "187825/187825 [==============================] - 5s 27us/sample - loss: 1.2039 - mean_absolute_error: 0.5537 - mean_squared_error: 1.2039 - val_loss: 1.2912 - val_mean_absolute_error: 0.5570 - val_mean_squared_error: 1.2912\n",
      "Epoch 54/200\n",
      "187825/187825 [==============================] - 5s 27us/sample - loss: 1.2042 - mean_absolute_error: 0.5537 - mean_squared_error: 1.2042 - val_loss: 1.2610 - val_mean_absolute_error: 0.5523 - val_mean_squared_error: 1.2610\n",
      "Epoch 55/200\n",
      "187825/187825 [==============================] - 5s 27us/sample - loss: 1.1998 - mean_absolute_error: 0.5537 - mean_squared_error: 1.1998 - val_loss: 1.2083 - val_mean_absolute_error: 0.5502 - val_mean_squared_error: 1.2083\n",
      "Epoch 56/200\n",
      "187825/187825 [==============================] - 5s 27us/sample - loss: 1.1983 - mean_absolute_error: 0.5525 - mean_squared_error: 1.1983 - val_loss: 1.2562 - val_mean_absolute_error: 0.5829 - val_mean_squared_error: 1.2562\n",
      "Epoch 57/200\n",
      "187825/187825 [==============================] - 5s 29us/sample - loss: 1.1943 - mean_absolute_error: 0.5514 - mean_squared_error: 1.1943 - val_loss: 1.2441 - val_mean_absolute_error: 0.5585 - val_mean_squared_error: 1.2441\n",
      "Epoch 58/200\n",
      "187825/187825 [==============================] - 6s 30us/sample - loss: 1.2010 - mean_absolute_error: 0.5513 - mean_squared_error: 1.2010 - val_loss: 1.3139 - val_mean_absolute_error: 0.5803 - val_mean_squared_error: 1.3139\n",
      "Epoch 59/200\n",
      "187825/187825 [==============================] - 6s 31us/sample - loss: 1.1966 - mean_absolute_error: 0.5506 - mean_squared_error: 1.1966 - val_loss: 1.2637 - val_mean_absolute_error: 0.6130 - val_mean_squared_error: 1.2637\n",
      "Epoch 60/200\n",
      "187825/187825 [==============================] - 6s 30us/sample - loss: 1.1933 - mean_absolute_error: 0.5514 - mean_squared_error: 1.1933 - val_loss: 1.2689 - val_mean_absolute_error: 0.5515 - val_mean_squared_error: 1.2689\n",
      "Epoch 61/200\n",
      "187825/187825 [==============================] - 6s 29us/sample - loss: 1.1876 - mean_absolute_error: 0.5484 - mean_squared_error: 1.1876 - val_loss: 1.3415 - val_mean_absolute_error: 0.6073 - val_mean_squared_error: 1.3415\n",
      "Epoch 62/200\n",
      "187825/187825 [==============================] - 6s 30us/sample - loss: 1.1884 - mean_absolute_error: 0.5478 - mean_squared_error: 1.1884 - val_loss: 1.2243 - val_mean_absolute_error: 0.5539 - val_mean_squared_error: 1.2243\n",
      "Epoch 63/200\n",
      "187825/187825 [==============================] - 6s 30us/sample - loss: 1.1895 - mean_absolute_error: 0.5482 - mean_squared_error: 1.1895 - val_loss: 1.2428 - val_mean_absolute_error: 0.5508 - val_mean_squared_error: 1.2428\n",
      "Epoch 64/200\n",
      "187825/187825 [==============================] - 6s 30us/sample - loss: 1.1875 - mean_absolute_error: 0.5489 - mean_squared_error: 1.1875 - val_loss: 1.3177 - val_mean_absolute_error: 0.5868 - val_mean_squared_error: 1.3177\n",
      "Epoch 65/200\n",
      "187825/187825 [==============================] - 5s 28us/sample - loss: 1.1860 - mean_absolute_error: 0.5502 - mean_squared_error: 1.1860 - val_loss: 1.3400 - val_mean_absolute_error: 0.5498 - val_mean_squared_error: 1.34001896 - mean_absolute_erro\n",
      "Epoch 66/200\n",
      "187825/187825 [==============================] - 5s 28us/sample - loss: 1.1841 - mean_absolute_error: 0.5501 - mean_squared_error: 1.1841 - val_loss: 1.2930 - val_mean_absolute_error: 0.5437 - val_mean_squared_error: 1.2930\n",
      "Epoch 67/200\n"
     ]
    },
    {
     "name": "stdout",
     "output_type": "stream",
     "text": [
      "187825/187825 [==============================] - 5s 27us/sample - loss: 1.1848 - mean_absolute_error: 0.5499 - mean_squared_error: 1.1848 - val_loss: 1.2513 - val_mean_absolute_error: 0.5746 - val_mean_squared_error: 1.25135500 - \n",
      "Epoch 68/200\n",
      "187825/187825 [==============================] - 5s 28us/sample - loss: 1.1861 - mean_absolute_error: 0.5508 - mean_squared_error: 1.1861 - val_loss: 1.3065 - val_mean_absolute_error: 0.5888 - val_mean_squared_error: 1.3065\n",
      "Epoch 69/200\n",
      "187825/187825 [==============================] - 5s 27us/sample - loss: 1.1872 - mean_absolute_error: 0.5515 - mean_squared_error: 1.1872 - val_loss: 1.2476 - val_mean_absolute_error: 0.5915 - val_mean_squared_error: 1.2476rro\n",
      "Epoch 70/200\n",
      "187825/187825 [==============================] - 5s 27us/sample - loss: 1.1922 - mean_absolute_error: 0.5538 - mean_squared_error: 1.1922 - val_loss: 1.2964 - val_mean_absolute_error: 0.5624 - val_mean_squared_error: 1.2964\n",
      "Epoch 71/200\n",
      "187825/187825 [==============================] - 5s 29us/sample - loss: 1.1862 - mean_absolute_error: 0.5528 - mean_squared_error: 1.1862 - val_loss: 1.3945 - val_mean_absolute_error: 0.5622 - val_mean_squared_error: 1.3945\n",
      "Epoch 72/200\n",
      "187825/187825 [==============================] - 6s 30us/sample - loss: 1.1862 - mean_absolute_error: 0.5527 - mean_squared_error: 1.1862 - val_loss: 1.4009 - val_mean_absolute_error: 0.5769 - val_mean_squared_error: 1.4009\n",
      "Epoch 73/200\n",
      "187825/187825 [==============================] - 6s 30us/sample - loss: 1.1881 - mean_absolute_error: 0.5531 - mean_squared_error: 1.1881 - val_loss: 1.2578 - val_mean_absolute_error: 0.5544 - val_mean_squared_error: 1.2578\n",
      "Epoch 74/200\n",
      "187825/187825 [==============================] - 5s 28us/sample - loss: 1.1965 - mean_absolute_error: 0.5553 - mean_squared_error: 1.1965 - val_loss: 1.3304 - val_mean_absolute_error: 0.5822 - val_mean_squared_error: 1.3304\n",
      "Epoch 75/200\n",
      "187825/187825 [==============================] - 5s 28us/sample - loss: 1.1892 - mean_absolute_error: 0.5537 - mean_squared_error: 1.1892 - val_loss: 1.2920 - val_mean_absolute_error: 0.5783 - val_mean_squared_error: 1.2920\n",
      "Epoch 76/200\n",
      "187825/187825 [==============================] - 5s 27us/sample - loss: 1.1856 - mean_absolute_error: 0.5552 - mean_squared_error: 1.1856 - val_loss: 1.3409 - val_mean_absolute_error: 0.5520 - val_mean_squared_error: 1.3409\n",
      "Epoch 77/200\n",
      "187825/187825 [==============================] - 6s 30us/sample - loss: 1.1857 - mean_absolute_error: 0.5545 - mean_squared_error: 1.1857 - val_loss: 1.2425 - val_mean_absolute_error: 0.5658 - val_mean_squared_error: 1.2425\n",
      "Epoch 78/200\n",
      "187825/187825 [==============================] - 5s 27us/sample - loss: 1.1811 - mean_absolute_error: 0.5548 - mean_squared_error: 1.1811 - val_loss: 1.3324 - val_mean_absolute_error: 0.5844 - val_mean_squared_error: 1.3324\n",
      "Epoch 79/200\n",
      "187825/187825 [==============================] - 5s 27us/sample - loss: 1.1807 - mean_absolute_error: 0.5543 - mean_squared_error: 1.1807 - val_loss: 1.3229 - val_mean_absolute_error: 0.5893 - val_mean_squared_error: 1.3229\n",
      "Epoch 80/200\n",
      "187825/187825 [==============================] - 5s 27us/sample - loss: 1.1890 - mean_absolute_error: 0.5537 - mean_squared_error: 1.1890 - val_loss: 1.2393 - val_mean_absolute_error: 0.5288 - val_mean_squared_error: 1.2393\n",
      "Epoch 81/200\n",
      "187825/187825 [==============================] - 6s 29us/sample - loss: 1.1772 - mean_absolute_error: 0.5520 - mean_squared_error: 1.1772 - val_loss: 1.2327 - val_mean_absolute_error: 0.5583 - val_mean_squared_error: 1.2327\n",
      "Epoch 82/200\n",
      "187825/187825 [==============================] - 6s 32us/sample - loss: 1.1776 - mean_absolute_error: 0.5526 - mean_squared_error: 1.1776 - val_loss: 1.2085 - val_mean_absolute_error: 0.5364 - val_mean_squared_error: 1.2085\n",
      "Epoch 83/200\n",
      "187825/187825 [==============================] - 6s 31us/sample - loss: 1.1731 - mean_absolute_error: 0.5523 - mean_squared_error: 1.1731 - val_loss: 1.2798 - val_mean_absolute_error: 0.5433 - val_mean_squared_error: 1.2798\n",
      "Epoch 84/200\n",
      "187825/187825 [==============================] - 5s 29us/sample - loss: 1.1745 - mean_absolute_error: 0.5514 - mean_squared_error: 1.1745 - val_loss: 1.4626 - val_mean_absolute_error: 0.6394 - val_mean_squared_error: 1.4626\n",
      "Epoch 85/200\n",
      "187825/187825 [==============================] - 5s 28us/sample - loss: 1.1671 - mean_absolute_error: 0.5494 - mean_squared_error: 1.1671 - val_loss: 1.2161 - val_mean_absolute_error: 0.5429 - val_mean_squared_error: 1.2161\n",
      "Epoch 86/200\n",
      "187825/187825 [==============================] - 5s 27us/sample - loss: 1.1689 - mean_absolute_error: 0.5484 - mean_squared_error: 1.1689 - val_loss: 1.2573 - val_mean_absolute_error: 0.5522 - val_mean_squared_error: 1.2573\n",
      "Epoch 87/200\n",
      "187825/187825 [==============================] - 5s 27us/sample - loss: 1.1680 - mean_absolute_error: 0.5494 - mean_squared_error: 1.1680 - val_loss: 1.2293 - val_mean_absolute_error: 0.5591 - val_mean_squared_error: 1.2293\n",
      "Epoch 88/200\n",
      "187825/187825 [==============================] - 5s 28us/sample - loss: 1.1638 - mean_absolute_error: 0.5478 - mean_squared_error: 1.1638 - val_loss: 1.3046 - val_mean_absolute_error: 0.6395 - val_mean_squared_error: 1.3046\n",
      "Epoch 89/200\n",
      "187825/187825 [==============================] - 5s 28us/sample - loss: 1.1587 - mean_absolute_error: 0.5477 - mean_squared_error: 1.1587 - val_loss: 1.3139 - val_mean_absolute_error: 0.5665 - val_mean_squared_error: 1.3139\n",
      "Epoch 90/200\n",
      "187825/187825 [==============================] - 6s 30us/sample - loss: 1.1554 - mean_absolute_error: 0.5458 - mean_squared_error: 1.1554 - val_loss: 1.2535 - val_mean_absolute_error: 0.5765 - val_mean_squared_error: 1.2535\n",
      "Epoch 91/200\n",
      "187825/187825 [==============================] - 5s 28us/sample - loss: 1.1543 - mean_absolute_error: 0.5452 - mean_squared_error: 1.1543 - val_loss: 1.2340 - val_mean_absolute_error: 0.5303 - val_mean_squared_error: 1.2340\n",
      "Epoch 92/200\n",
      "187825/187825 [==============================] - 5s 28us/sample - loss: 1.1529 - mean_absolute_error: 0.5451 - mean_squared_error: 1.1529 - val_loss: 1.2288 - val_mean_absolute_error: 0.5814 - val_mean_squared_error: 1.2288\n",
      "Epoch 93/200\n",
      "187825/187825 [==============================] - 6s 31us/sample - loss: 1.1540 - mean_absolute_error: 0.5448 - mean_squared_error: 1.1540 - val_loss: 1.2475 - val_mean_absolute_error: 0.5615 - val_mean_squared_error: 1.2475\n",
      "Epoch 94/200\n",
      "187825/187825 [==============================] - 6s 34us/sample - loss: 1.1483 - mean_absolute_error: 0.5440 - mean_squared_error: 1.1483 - val_loss: 1.2431 - val_mean_absolute_error: 0.5531 - val_mean_squared_error: 1.2431\n",
      "Epoch 95/200\n",
      "187825/187825 [==============================] - 5s 28us/sample - loss: 1.1496 - mean_absolute_error: 0.5439 - mean_squared_error: 1.1496 - val_loss: 1.4976 - val_mean_absolute_error: 0.6452 - val_mean_squared_error: 1.4976\n",
      "Epoch 96/200\n",
      "187825/187825 [==============================] - 5s 27us/sample - loss: 1.1501 - mean_absolute_error: 0.5441 - mean_squared_error: 1.1501 - val_loss: 1.2286 - val_mean_absolute_error: 0.5794 - val_mean_squared_error: 1.2286 mean_absolute_error: 0.5436 - mean_squared_error - ETA: 1s - loss: 1.1449 - mean_absolute_error: 0.5444 - me - ETA: 0s - loss: 1.1347 - mean_absolute_error: 0.5\n",
      "Epoch 97/200\n",
      "187825/187825 [==============================] - 5s 27us/sample - loss: 1.1499 - mean_absolute_error: 0.5441 - mean_squared_error: 1.1499 - val_loss: 1.4336 - val_mean_absolute_error: 0.5642 - val_mean_squared_error: 1.4336\n",
      "Epoch 98/200\n",
      "187825/187825 [==============================] - 5s 27us/sample - loss: 1.1424 - mean_absolute_error: 0.5426 - mean_squared_error: 1.1424 - val_loss: 1.2103 - val_mean_absolute_error: 0.5411 - val_mean_squared_error: 1.2103\n",
      "Epoch 99/200\n",
      "187825/187825 [==============================] - 5s 29us/sample - loss: 1.1463 - mean_absolute_error: 0.5435 - mean_squared_error: 1.1463 - val_loss: 1.2346 - val_mean_absolute_error: 0.6046 - val_mean_squared_error: 1.2346\n",
      "Epoch 100/200\n",
      "187825/187825 [==============================] - 5s 28us/sample - loss: 1.1456 - mean_absolute_error: 0.5429 - mean_squared_error: 1.1456 - val_loss: 1.2051 - val_mean_absolute_error: 0.5486 - val_mean_squared_error: 1.2051\n"
     ]
    },
    {
     "name": "stdout",
     "output_type": "stream",
     "text": [
      "Epoch 101/200\n",
      "187825/187825 [==============================] - 5s 28us/sample - loss: 1.1365 - mean_absolute_error: 0.5406 - mean_squared_error: 1.1365 - val_loss: 1.2178 - val_mean_absolute_error: 0.5460 - val_mean_squared_error: 1.2178\n",
      "Epoch 102/200\n",
      "187825/187825 [==============================] - 5s 27us/sample - loss: 1.1301 - mean_absolute_error: 0.5409 - mean_squared_error: 1.1301 - val_loss: 1.1926 - val_mean_absolute_error: 0.5526 - val_mean_squared_error: 1.1926\n",
      "Epoch 103/200\n",
      "187825/187825 [==============================] - 5s 28us/sample - loss: 1.1394 - mean_absolute_error: 0.5403 - mean_squared_error: 1.1394 - val_loss: 1.5180 - val_mean_absolute_error: 0.7762 - val_mean_squared_error: 1.5180\n",
      "Epoch 104/200\n",
      "187825/187825 [==============================] - 5s 27us/sample - loss: 1.1349 - mean_absolute_error: 0.5403 - mean_squared_error: 1.1349 - val_loss: 1.2240 - val_mean_absolute_error: 0.5544 - val_mean_squared_error: 1.2240\n",
      "Epoch 105/200\n",
      "187825/187825 [==============================] - 5s 27us/sample - loss: 1.1284 - mean_absolute_error: 0.5382 - mean_squared_error: 1.1284 - val_loss: 1.1928 - val_mean_absolute_error: 0.5430 - val_mean_squared_error: 1.1928absolute_error: 0.5379 - mean_squared_error: 1.12\n",
      "Epoch 106/200\n",
      "187825/187825 [==============================] - 5s 28us/sample - loss: 1.1337 - mean_absolute_error: 0.5378 - mean_squared_error: 1.1337 - val_loss: 1.2452 - val_mean_absolute_error: 0.6180 - val_mean_squared_error: 1.2452\n",
      "Epoch 107/200\n",
      "187825/187825 [==============================] - 5s 28us/sample - loss: 1.1308 - mean_absolute_error: 0.5380 - mean_squared_error: 1.1308 - val_loss: 1.1562 - val_mean_absolute_error: 0.5248 - val_mean_squared_error: 1.1562\n",
      "Epoch 108/200\n",
      "187825/187825 [==============================] - 5s 27us/sample - loss: 1.1285 - mean_absolute_error: 0.5381 - mean_squared_error: 1.1285 - val_loss: 1.3568 - val_mean_absolute_error: 0.6585 - val_mean_squared_error: 1.3568\n",
      "Epoch 109/200\n",
      "187825/187825 [==============================] - 5s 29us/sample - loss: 1.1237 - mean_absolute_error: 0.5366 - mean_squared_error: 1.1237 - val_loss: 1.1865 - val_mean_absolute_error: 0.5144 - val_mean_squared_error: 1.1865\n",
      "Epoch 110/200\n",
      "187825/187825 [==============================] - 5s 27us/sample - loss: 1.1293 - mean_absolute_error: 0.5363 - mean_squared_error: 1.1293 - val_loss: 1.1943 - val_mean_absolute_error: 0.5179 - val_mean_squared_error: 1.1943\n",
      "Epoch 111/200\n",
      "187825/187825 [==============================] - 5s 28us/sample - loss: 1.1230 - mean_absolute_error: 0.5352 - mean_squared_error: 1.1230 - val_loss: 1.1760 - val_mean_absolute_error: 0.5127 - val_mean_squared_error: 1.1760rror: 0.5371 - me\n",
      "Epoch 112/200\n",
      "187825/187825 [==============================] - 5s 27us/sample - loss: 1.1269 - mean_absolute_error: 0.5342 - mean_squared_error: 1.1269 - val_loss: 1.1998 - val_mean_absolute_error: 0.5581 - val_mean_squared_error: 1.1998\n",
      "Epoch 113/200\n",
      "187825/187825 [==============================] - 5s 29us/sample - loss: 1.1196 - mean_absolute_error: 0.5335 - mean_squared_error: 1.1196 - val_loss: 1.3324 - val_mean_absolute_error: 0.5791 - val_mean_squared_error: 1.3324\n",
      "Epoch 114/200\n",
      "187825/187825 [==============================] - 5s 29us/sample - loss: 1.1217 - mean_absolute_error: 0.5341 - mean_squared_error: 1.1217 - val_loss: 1.1608 - val_mean_absolute_error: 0.5217 - val_mean_squared_error: 1.1608\n",
      "Epoch 115/200\n",
      "187825/187825 [==============================] - 5s 29us/sample - loss: 1.1234 - mean_absolute_error: 0.5342 - mean_squared_error: 1.1234 - val_loss: 1.1831 - val_mean_absolute_error: 0.5309 - val_mean_squared_error: 1.1831\n",
      "Epoch 116/200\n",
      "187825/187825 [==============================] - 6s 30us/sample - loss: 1.1208 - mean_absolute_error: 0.5333 - mean_squared_error: 1.1208 - val_loss: 1.1496 - val_mean_absolute_error: 0.5118 - val_mean_squared_error: 1.1496\n",
      "Epoch 117/200\n",
      "187825/187825 [==============================] - 5s 27us/sample - loss: 1.1202 - mean_absolute_error: 0.5321 - mean_squared_error: 1.1202 - val_loss: 1.2130 - val_mean_absolute_error: 0.5376 - val_mean_squared_error: 1.2130\n",
      "Epoch 118/200\n",
      "187825/187825 [==============================] - 5s 27us/sample - loss: 1.1199 - mean_absolute_error: 0.5324 - mean_squared_error: 1.1199 - val_loss: 1.1672 - val_mean_absolute_error: 0.5098 - val_mean_squared_error: 1.1672\n",
      "Epoch 119/200\n",
      "187825/187825 [==============================] - 5s 28us/sample - loss: 1.1150 - mean_absolute_error: 0.5312 - mean_squared_error: 1.1150 - val_loss: 1.2520 - val_mean_absolute_error: 0.6029 - val_mean_squared_error: 1.2520\n",
      "Epoch 120/200\n",
      "187825/187825 [==============================] - 6s 29us/sample - loss: 1.1181 - mean_absolute_error: 0.5304 - mean_squared_error: 1.1181 - val_loss: 1.1890 - val_mean_absolute_error: 0.5559 - val_mean_squared_error: 1.1890\n",
      "Epoch 121/200\n",
      "187825/187825 [==============================] - 5s 29us/sample - loss: 1.1098 - mean_absolute_error: 0.5290 - mean_squared_error: 1.1098 - val_loss: 1.1926 - val_mean_absolute_error: 0.5302 - val_mean_squared_error: 1.1926\n",
      "Epoch 122/200\n",
      "187825/187825 [==============================] - 5s 29us/sample - loss: 1.1114 - mean_absolute_error: 0.5294 - mean_squared_error: 1.1114 - val_loss: 1.2405 - val_mean_absolute_error: 0.5570 - val_mean_squared_error: 1.2405\n",
      "Epoch 123/200\n",
      "187825/187825 [==============================] - 5s 27us/sample - loss: 1.1187 - mean_absolute_error: 0.5293 - mean_squared_error: 1.1187 - val_loss: 1.1721 - val_mean_absolute_error: 0.5675 - val_mean_squared_error: 1.1721\n",
      "Epoch 124/200\n",
      "187825/187825 [==============================] - 5s 28us/sample - loss: 1.1093 - mean_absolute_error: 0.5282 - mean_squared_error: 1.1093 - val_loss: 1.1901 - val_mean_absolute_error: 0.5526 - val_mean_squared_error: 1.1901\n",
      "Epoch 125/200\n",
      "187825/187825 [==============================] - 5s 28us/sample - loss: 1.1119 - mean_absolute_error: 0.5283 - mean_squared_error: 1.1119 - val_loss: 1.1364 - val_mean_absolute_error: 0.5212 - val_mean_squared_error: 1.1364\n",
      "Epoch 126/200\n",
      "187825/187825 [==============================] - 5s 29us/sample - loss: 1.1082 - mean_absolute_error: 0.5254 - mean_squared_error: 1.1082 - val_loss: 1.1507 - val_mean_absolute_error: 0.5187 - val_mean_squared_error: 1.1507\n",
      "Epoch 127/200\n",
      "187825/187825 [==============================] - 5s 27us/sample - loss: 1.1099 - mean_absolute_error: 0.5266 - mean_squared_error: 1.1099 - val_loss: 1.2045 - val_mean_absolute_error: 0.5427 - val_mean_squared_error: 1.2045\n",
      "Epoch 128/200\n",
      "187825/187825 [==============================] - 5s 29us/sample - loss: 1.1032 - mean_absolute_error: 0.5255 - mean_squared_error: 1.1032 - val_loss: 1.1588 - val_mean_absolute_error: 0.5161 - val_mean_squared_error: 1.1588\n",
      "Epoch 129/200\n",
      "187825/187825 [==============================] - 5s 29us/sample - loss: 1.1013 - mean_absolute_error: 0.5255 - mean_squared_error: 1.1013 - val_loss: 1.1856 - val_mean_absolute_error: 0.5673 - val_mean_squared_error: 1.1856\n",
      "Epoch 130/200\n",
      "187825/187825 [==============================] - 5s 27us/sample - loss: 1.1048 - mean_absolute_error: 0.5253 - mean_squared_error: 1.1048 - val_loss: 1.1831 - val_mean_absolute_error: 0.5091 - val_mean_squared_error: 1.1831\n",
      "Epoch 131/200\n",
      "187825/187825 [==============================] - 5s 28us/sample - loss: 1.1032 - mean_absolute_error: 0.5245 - mean_squared_error: 1.1032 - val_loss: 1.2817 - val_mean_absolute_error: 0.5496 - val_mean_squared_error: 1.2817\n",
      "Epoch 132/200\n",
      "187825/187825 [==============================] - 5s 27us/sample - loss: 1.1025 - mean_absolute_error: 0.5257 - mean_squared_error: 1.1025 - val_loss: 1.1405 - val_mean_absolute_error: 0.5318 - val_mean_squared_error: 1.1405\n",
      "Epoch 133/200\n",
      "187825/187825 [==============================] - 5s 28us/sample - loss: 1.0998 - mean_absolute_error: 0.5248 - mean_squared_error: 1.0998 - val_loss: 1.1959 - val_mean_absolute_error: 0.5964 - val_mean_squared_error: 1.1959\n",
      "Epoch 134/200\n",
      "187825/187825 [==============================] - 5s 27us/sample - loss: 1.1018 - mean_absolute_error: 0.5253 - mean_squared_error: 1.1018 - val_loss: 1.1410 - val_mean_absolute_error: 0.5334 - val_mean_squared_error: 1.1410\n",
      "Epoch 135/200\n"
     ]
    },
    {
     "name": "stdout",
     "output_type": "stream",
     "text": [
      "187825/187825 [==============================] - 5s 27us/sample - loss: 1.1035 - mean_absolute_error: 0.5254 - mean_squared_error: 1.1035 - val_loss: 1.2019 - val_mean_absolute_error: 0.5222 - val_mean_squared_error: 1.2019\n",
      "Epoch 136/200\n",
      "187825/187825 [==============================] - 5s 29us/sample - loss: 1.1004 - mean_absolute_error: 0.5248 - mean_squared_error: 1.1004 - val_loss: 1.2802 - val_mean_absolute_error: 0.5855 - val_mean_squared_error: 1.2802\n",
      "Epoch 137/200\n",
      "187825/187825 [==============================] - 5s 29us/sample - loss: 1.0965 - mean_absolute_error: 0.5247 - mean_squared_error: 1.0965 - val_loss: 1.1866 - val_mean_absolute_error: 0.5495 - val_mean_squared_error: 1.1866\n",
      "Epoch 138/200\n",
      "187825/187825 [==============================] - 5s 29us/sample - loss: 1.0959 - mean_absolute_error: 0.5234 - mean_squared_error: 1.0959 - val_loss: 1.3036 - val_mean_absolute_error: 0.6007 - val_mean_squared_error: 1.3036\n",
      "Epoch 139/200\n",
      "187825/187825 [==============================] - 5s 27us/sample - loss: 1.0954 - mean_absolute_error: 0.5250 - mean_squared_error: 1.0954 - val_loss: 1.3780 - val_mean_absolute_error: 0.5765 - val_mean_squared_error: 1.3780\n",
      "Epoch 140/200\n",
      "187825/187825 [==============================] - 5s 27us/sample - loss: 1.0938 - mean_absolute_error: 0.5247 - mean_squared_error: 1.0938 - val_loss: 1.1523 - val_mean_absolute_error: 0.5254 - val_mean_squared_error: 1.1523\n",
      "Epoch 141/200\n",
      "187825/187825 [==============================] - 5s 27us/sample - loss: 1.0959 - mean_absolute_error: 0.5236 - mean_squared_error: 1.0959 - val_loss: 1.8228 - val_mean_absolute_error: 0.7433 - val_mean_squared_error: 1.8228- ETA: 2s - loss: 1.1159 - mean_absolute_error: 0.5281 - mean_squared_error - ETA: 1s - loss: 1.1086 - mean_abs - ETA: 0s - loss: 1.0954 - mean_absolute_error: 0.5234 - \n",
      "Epoch 142/200\n",
      "187825/187825 [==============================] - 6s 31us/sample - loss: 1.0896 - mean_absolute_error: 0.5228 - mean_squared_error: 1.0896 - val_loss: 1.1684 - val_mean_absolute_error: 0.5244 - val_mean_squared_error: 1.16841.0834 - me\n",
      "Epoch 143/200\n",
      "187825/187825 [==============================] - 6s 30us/sample - loss: 1.0940 - mean_absolute_error: 0.5228 - mean_squared_error: 1.0940 - val_loss: 1.1620 - val_mean_absolute_error: 0.5174 - val_mean_squared_error: 1.1620\n",
      "Epoch 144/200\n",
      "187825/187825 [==============================] - 6s 32us/sample - loss: 1.0966 - mean_absolute_error: 0.5239 - mean_squared_error: 1.0966 - val_loss: 1.1736 - val_mean_absolute_error: 0.5204 - val_mean_squared_error: 1.1736\n",
      "Epoch 145/200\n",
      "187825/187825 [==============================] - 6s 31us/sample - loss: 1.0967 - mean_absolute_error: 0.5235 - mean_squared_error: 1.0967 - val_loss: 1.1482 - val_mean_absolute_error: 0.5361 - val_mean_squared_error: 1.1482\n",
      "Epoch 146/200\n",
      "187825/187825 [==============================] - 6s 31us/sample - loss: 1.0904 - mean_absolute_error: 0.5244 - mean_squared_error: 1.0904 - val_loss: 1.2171 - val_mean_absolute_error: 0.5710 - val_mean_squared_error: 1.2171\n",
      "Epoch 147/200\n",
      "187825/187825 [==============================] - 5s 29us/sample - loss: 1.0947 - mean_absolute_error: 0.5246 - mean_squared_error: 1.0947 - val_loss: 1.2170 - val_mean_absolute_error: 0.5147 - val_mean_squared_error: 1.2170\n",
      "Epoch 148/200\n",
      "187825/187825 [==============================] - 5s 28us/sample - loss: 1.0896 - mean_absolute_error: 0.5228 - mean_squared_error: 1.0896 - val_loss: 1.3143 - val_mean_absolute_error: 0.5784 - val_mean_squared_error: 1.3143\n",
      "Epoch 149/200\n",
      "187825/187825 [==============================] - 5s 29us/sample - loss: 1.0901 - mean_absolute_error: 0.5229 - mean_squared_error: 1.0901 - val_loss: 1.1425 - val_mean_absolute_error: 0.5189 - val_mean_squared_error: 1.1425\n",
      "Epoch 150/200\n",
      "187825/187825 [==============================] - 6s 30us/sample - loss: 1.0864 - mean_absolute_error: 0.5211 - mean_squared_error: 1.0864 - val_loss: 1.1431 - val_mean_absolute_error: 0.5139 - val_mean_squared_error: 1.1431\n",
      "Epoch 151/200\n",
      "187825/187825 [==============================] - 5s 28us/sample - loss: 1.0871 - mean_absolute_error: 0.5216 - mean_squared_error: 1.0871 - val_loss: 1.1676 - val_mean_absolute_error: 0.5209 - val_mean_squared_error: 1.1676\n",
      "Epoch 152/200\n",
      "187825/187825 [==============================] - 5s 27us/sample - loss: 1.0876 - mean_absolute_error: 0.5211 - mean_squared_error: 1.0876 - val_loss: 1.2022 - val_mean_absolute_error: 0.5452 - val_mean_squared_error: 1.2022\n",
      "Epoch 153/200\n",
      "187825/187825 [==============================] - 5s 27us/sample - loss: 1.0910 - mean_absolute_error: 0.5221 - mean_squared_error: 1.0910 - val_loss: 1.1386 - val_mean_absolute_error: 0.5438 - val_mean_squared_error: 1.1386\n",
      "Epoch 154/200\n",
      "187825/187825 [==============================] - 5s 27us/sample - loss: 1.0843 - mean_absolute_error: 0.5202 - mean_squared_error: 1.0843 - val_loss: 1.1316 - val_mean_absolute_error: 0.5264 - val_mean_squared_error: 1.1316\n",
      "Epoch 155/200\n",
      "187825/187825 [==============================] - 5s 27us/sample - loss: 1.0858 - mean_absolute_error: 0.5209 - mean_squared_error: 1.0858 - val_loss: 1.1502 - val_mean_absolute_error: 0.5114 - val_mean_squared_error: 1.1502\n",
      "Epoch 156/200\n",
      "187825/187825 [==============================] - 5s 27us/sample - loss: 1.0803 - mean_absolute_error: 0.5198 - mean_squared_error: 1.0803 - val_loss: 1.2014 - val_mean_absolute_error: 0.5412 - val_mean_squared_error: 1.2014\n",
      "Epoch 157/200\n",
      "187825/187825 [==============================] - 5s 27us/sample - loss: 1.0818 - mean_absolute_error: 0.5195 - mean_squared_error: 1.0818 - val_loss: 1.1714 - val_mean_absolute_error: 0.5392 - val_mean_squared_error: 1.1714\n",
      "Epoch 158/200\n",
      "187825/187825 [==============================] - 5s 28us/sample - loss: 1.0774 - mean_absolute_error: 0.5189 - mean_squared_error: 1.0774 - val_loss: 1.3288 - val_mean_absolute_error: 0.5799 - val_mean_squared_error: 1.3288\n",
      "Epoch 159/200\n",
      "187825/187825 [==============================] - 5s 29us/sample - loss: 1.0785 - mean_absolute_error: 0.5165 - mean_squared_error: 1.0785 - val_loss: 1.1212 - val_mean_absolute_error: 0.5066 - val_mean_squared_error: 1.1212\n",
      "Epoch 160/200\n",
      "187825/187825 [==============================] - 5s 29us/sample - loss: 1.0791 - mean_absolute_error: 0.5171 - mean_squared_error: 1.0791 - val_loss: 1.1404 - val_mean_absolute_error: 0.5130 - val_mean_squared_error: 1.1404\n",
      "Epoch 161/200\n",
      "187825/187825 [==============================] - 5s 27us/sample - loss: 1.0747 - mean_absolute_error: 0.5176 - mean_squared_error: 1.0747 - val_loss: 1.3340 - val_mean_absolute_error: 0.5795 - val_mean_squared_error: 1.3340\n",
      "Epoch 162/200\n",
      "187825/187825 [==============================] - 5s 28us/sample - loss: 1.0739 - mean_absolute_error: 0.5162 - mean_squared_error: 1.0739 - val_loss: 1.2584 - val_mean_absolute_error: 0.5290 - val_mean_squared_error: 1.2584\n",
      "Epoch 163/200\n",
      "187825/187825 [==============================] - 5s 28us/sample - loss: 1.0763 - mean_absolute_error: 0.5166 - mean_squared_error: 1.0763 - val_loss: 1.1129 - val_mean_absolute_error: 0.5234 - val_mean_squared_error: 1.1129\n",
      "Epoch 164/200\n",
      "187825/187825 [==============================] - 5s 28us/sample - loss: 1.0662 - mean_absolute_error: 0.5158 - mean_squared_error: 1.0662 - val_loss: 1.1477 - val_mean_absolute_error: 0.5322 - val_mean_squared_error: 1.1477\n",
      "Epoch 165/200\n",
      "187825/187825 [==============================] - 6s 30us/sample - loss: 1.0714 - mean_absolute_error: 0.5171 - mean_squared_error: 1.0714 - val_loss: 1.1484 - val_mean_absolute_error: 0.5514 - val_mean_squared_error: 1.14840662 - mean_absolute_error: 0.5163 - mean\n",
      "Epoch 166/200\n",
      "187825/187825 [==============================] - 5s 28us/sample - loss: 1.0680 - mean_absolute_error: 0.5160 - mean_squared_error: 1.0680 - val_loss: 1.1647 - val_mean_absolute_error: 0.5151 - val_mean_squared_error: 1.1647\n",
      "Epoch 167/200\n",
      "187825/187825 [==============================] - 5s 27us/sample - loss: 1.0739 - mean_absolute_error: 0.5166 - mean_squared_error: 1.0739 - val_loss: 1.1238 - val_mean_absolute_error: 0.5124 - val_mean_squared_error: 1.1238\n",
      "Epoch 168/200\n"
     ]
    },
    {
     "name": "stdout",
     "output_type": "stream",
     "text": [
      "187825/187825 [==============================] - 5s 27us/sample - loss: 1.0718 - mean_absolute_error: 0.5165 - mean_squared_error: 1.0718 - val_loss: 1.2559 - val_mean_absolute_error: 0.5461 - val_mean_squared_error: 1.2559\n",
      "Epoch 169/200\n",
      "187825/187825 [==============================] - 5s 27us/sample - loss: 1.0707 - mean_absolute_error: 0.5154 - mean_squared_error: 1.0707 - val_loss: 1.4459 - val_mean_absolute_error: 0.6275 - val_mean_squared_error: 1.4459solute_error: 0 - ETA: \n",
      "Epoch 170/200\n",
      "187825/187825 [==============================] - 5s 28us/sample - loss: 1.0651 - mean_absolute_error: 0.5159 - mean_squared_error: 1.0651 - val_loss: 1.2242 - val_mean_absolute_error: 0.5267 - val_mean_squared_error: 1.2242\n",
      "Epoch 171/200\n",
      "187825/187825 [==============================] - 5s 27us/sample - loss: 1.0703 - mean_absolute_error: 0.5162 - mean_squared_error: 1.0703 - val_loss: 1.2865 - val_mean_absolute_error: 0.5896 - val_mean_squared_error: 1.2865\n",
      "Epoch 172/200\n",
      "187825/187825 [==============================] - 5s 27us/sample - loss: 1.0681 - mean_absolute_error: 0.5167 - mean_squared_error: 1.0681 - val_loss: 1.1265 - val_mean_absolute_error: 0.5270 - val_mean_squared_error: 1.1265\n",
      "Epoch 173/200\n",
      "187825/187825 [==============================] - 5s 29us/sample - loss: 1.0700 - mean_absolute_error: 0.5179 - mean_squared_error: 1.0700 - val_loss: 1.1485 - val_mean_absolute_error: 0.5195 - val_mean_squared_error: 1.1485\n",
      "Epoch 174/200\n",
      "187825/187825 [==============================] - 5s 29us/sample - loss: 1.0700 - mean_absolute_error: 0.5181 - mean_squared_error: 1.0700 - val_loss: 1.1393 - val_mean_absolute_error: 0.5385 - val_mean_squared_error: 1.1393\n",
      "Epoch 175/200\n",
      "187825/187825 [==============================] - 5s 27us/sample - loss: 1.0701 - mean_absolute_error: 0.5173 - mean_squared_error: 1.0701 - val_loss: 1.1148 - val_mean_absolute_error: 0.5269 - val_mean_squared_error: 1.1148\n",
      "Epoch 176/200\n",
      "187825/187825 [==============================] - 5s 29us/sample - loss: 1.0694 - mean_absolute_error: 0.5180 - mean_squared_error: 1.0694 - val_loss: 1.0972 - val_mean_absolute_error: 0.5002 - val_mean_squared_error: 1.0972\n",
      "Epoch 177/200\n",
      "187825/187825 [==============================] - 5s 27us/sample - loss: 1.0686 - mean_absolute_error: 0.5197 - mean_squared_error: 1.0686 - val_loss: 1.2542 - val_mean_absolute_error: 0.5397 - val_mean_squared_error: 1.2542\n",
      "Epoch 178/200\n",
      "187825/187825 [==============================] - 5s 29us/sample - loss: 1.0695 - mean_absolute_error: 0.5191 - mean_squared_error: 1.0695 - val_loss: 1.1449 - val_mean_absolute_error: 0.5588 - val_mean_squared_error: 1.1449\n",
      "Epoch 179/200\n",
      "187825/187825 [==============================] - 5s 29us/sample - loss: 1.0700 - mean_absolute_error: 0.5174 - mean_squared_error: 1.0700 - val_loss: 1.1932 - val_mean_absolute_error: 0.5706 - val_mean_squared_error: 1.1932\n",
      "Epoch 180/200\n",
      "187825/187825 [==============================] - 5s 29us/sample - loss: 1.0649 - mean_absolute_error: 0.5179 - mean_squared_error: 1.0649 - val_loss: 1.1230 - val_mean_absolute_error: 0.5290 - val_mean_squared_error: 1.1230\n",
      "Epoch 181/200\n",
      "187825/187825 [==============================] - 5s 28us/sample - loss: 1.0651 - mean_absolute_error: 0.5183 - mean_squared_error: 1.0651 - val_loss: 1.1243 - val_mean_absolute_error: 0.5043 - val_mean_squared_error: 1.1243\n",
      "Epoch 182/200\n",
      "187825/187825 [==============================] - 5s 27us/sample - loss: 1.0610 - mean_absolute_error: 0.5176 - mean_squared_error: 1.0610 - val_loss: 1.1569 - val_mean_absolute_error: 0.5574 - val_mean_squared_error: 1.1569\n",
      "Epoch 183/200\n",
      "187825/187825 [==============================] - 5s 27us/sample - loss: 1.0636 - mean_absolute_error: 0.5200 - mean_squared_error: 1.0636 - val_loss: 1.1423 - val_mean_absolute_error: 0.5585 - val_mean_squared_error: 1.14231.0\n",
      "Epoch 184/200\n",
      "187825/187825 [==============================] - 5s 28us/sample - loss: 1.0643 - mean_absolute_error: 0.5186 - mean_squared_error: 1.0643 - val_loss: 1.1613 - val_mean_absolute_error: 0.5378 - val_mean_squared_error: 1.1613\n",
      "Epoch 185/200\n",
      "187825/187825 [==============================] - 5s 29us/sample - loss: 1.0605 - mean_absolute_error: 0.5192 - mean_squared_error: 1.0605 - val_loss: 1.1635 - val_mean_absolute_error: 0.5329 - val_mean_squared_error: 1.1635\n",
      "Epoch 186/200\n",
      "187825/187825 [==============================] - 5s 27us/sample - loss: 1.0624 - mean_absolute_error: 0.5193 - mean_squared_error: 1.0624 - val_loss: 1.1760 - val_mean_absolute_error: 0.5875 - val_mean_squared_error: 1.1760\n",
      "Epoch 187/200\n",
      "187825/187825 [==============================] - 5s 28us/sample - loss: 1.0603 - mean_absolute_error: 0.5186 - mean_squared_error: 1.0603 - val_loss: 1.2051 - val_mean_absolute_error: 0.5469 - val_mean_squared_error: 1.2051\n",
      "Epoch 188/200\n",
      "187825/187825 [==============================] - 5s 27us/sample - loss: 1.0583 - mean_absolute_error: 0.5186 - mean_squared_error: 1.0583 - val_loss: 1.1473 - val_mean_absolute_error: 0.5524 - val_mean_squared_error: 1.1473\n",
      "Epoch 189/200\n",
      "187825/187825 [==============================] - 5s 27us/sample - loss: 1.0553 - mean_absolute_error: 0.5187 - mean_squared_error: 1.0553 - val_loss: 1.3773 - val_mean_absolute_error: 0.5452 - val_mean_squared_error: 1.3773\n",
      "Epoch 190/200\n",
      "187825/187825 [==============================] - 5s 27us/sample - loss: 1.0591 - mean_absolute_error: 0.5192 - mean_squared_error: 1.0591 - val_loss: 1.1346 - val_mean_absolute_error: 0.5314 - val_mean_squared_error: 1.1346\n",
      "Epoch 191/200\n",
      "187825/187825 [==============================] - 5s 27us/sample - loss: 1.0541 - mean_absolute_error: 0.5181 - mean_squared_error: 1.0541 - val_loss: 1.2569 - val_mean_absolute_error: 0.5452 - val_mean_squared_error: 1.2569\n",
      "Epoch 192/200\n",
      "187825/187825 [==============================] - 5s 27us/sample - loss: 1.0561 - mean_absolute_error: 0.5194 - mean_squared_error: 1.0561 - val_loss: 1.2176 - val_mean_absolute_error: 0.5758 - val_mean_squared_error: 1.2176\n",
      "Epoch 193/200\n",
      "187825/187825 [==============================] - 5s 27us/sample - loss: 1.0541 - mean_absolute_error: 0.5195 - mean_squared_error: 1.0541 - val_loss: 1.1420 - val_mean_absolute_error: 0.5252 - val_mean_squared_error: 1.1420\n",
      "Epoch 194/200\n",
      "187825/187825 [==============================] - 5s 27us/sample - loss: 1.0568 - mean_absolute_error: 0.5203 - mean_squared_error: 1.0568 - val_loss: 1.1311 - val_mean_absolute_error: 0.5288 - val_mean_squared_error: 1.1311\n",
      "Epoch 195/200\n",
      "187825/187825 [==============================] - 5s 27us/sample - loss: 1.0572 - mean_absolute_error: 0.5198 - mean_squared_error: 1.0572 - val_loss: 1.2169 - val_mean_absolute_error: 0.5287 - val_mean_squared_error: 1.2169\n",
      "Epoch 196/200\n",
      "187825/187825 [==============================] - 5s 27us/sample - loss: 1.0563 - mean_absolute_error: 0.5201 - mean_squared_error: 1.0563 - val_loss: 1.2404 - val_mean_absolute_error: 0.6059 - val_mean_squared_error: 1.2404\n",
      "Epoch 197/200\n",
      "187825/187825 [==============================] - 5s 29us/sample - loss: 1.0558 - mean_absolute_error: 0.5197 - mean_squared_error: 1.0558 - val_loss: 1.2117 - val_mean_absolute_error: 0.5200 - val_mean_squared_error: 1.2117\n",
      "Epoch 198/200\n",
      "187825/187825 [==============================] - 5s 28us/sample - loss: 1.0586 - mean_absolute_error: 0.5212 - mean_squared_error: 1.0586 - val_loss: 1.1316 - val_mean_absolute_error: 0.5746 - val_mean_squared_error: 1.1316\n",
      "Epoch 199/200\n",
      "187825/187825 [==============================] - 5s 27us/sample - loss: 1.0583 - mean_absolute_error: 0.5203 - mean_squared_error: 1.0583 - val_loss: 1.1570 - val_mean_absolute_error: 0.5265 - val_mean_squared_error: 1.1570\n",
      "Epoch 200/200\n",
      "187825/187825 [==============================] - 5s 28us/sample - loss: 1.0607 - mean_absolute_error: 0.5214 - mean_squared_error: 1.0607 - val_loss: 1.1375 - val_mean_absolute_error: 0.5119 - val_mean_squared_error: 1.1375\n"
     ]
    }
   ],
   "source": [
    "EPOCHS = 200\n",
    "history = model.fit(normed_train_data, train_labels, epochs=EPOCHS, validation_split=0.2, verbose=1)"
   ]
  },
  {
   "cell_type": "code",
   "execution_count": 15,
   "metadata": {},
   "outputs": [
    {
     "data": {
      "text/html": [
       "<div>\n",
       "<style scoped>\n",
       "    .dataframe tbody tr th:only-of-type {\n",
       "        vertical-align: middle;\n",
       "    }\n",
       "\n",
       "    .dataframe tbody tr th {\n",
       "        vertical-align: top;\n",
       "    }\n",
       "\n",
       "    .dataframe thead th {\n",
       "        text-align: right;\n",
       "    }\n",
       "</style>\n",
       "<table border=\"1\" class=\"dataframe\">\n",
       "  <thead>\n",
       "    <tr style=\"text-align: right;\">\n",
       "      <th></th>\n",
       "      <th>loss</th>\n",
       "      <th>mean_absolute_error</th>\n",
       "      <th>mean_squared_error</th>\n",
       "      <th>val_loss</th>\n",
       "      <th>val_mean_absolute_error</th>\n",
       "      <th>val_mean_squared_error</th>\n",
       "      <th>epoch</th>\n",
       "    </tr>\n",
       "  </thead>\n",
       "  <tbody>\n",
       "    <tr>\n",
       "      <th>195</th>\n",
       "      <td>1.056258</td>\n",
       "      <td>0.520117</td>\n",
       "      <td>1.056258</td>\n",
       "      <td>1.240400</td>\n",
       "      <td>0.605947</td>\n",
       "      <td>1.240400</td>\n",
       "      <td>195</td>\n",
       "    </tr>\n",
       "    <tr>\n",
       "      <th>196</th>\n",
       "      <td>1.055803</td>\n",
       "      <td>0.519699</td>\n",
       "      <td>1.055804</td>\n",
       "      <td>1.211748</td>\n",
       "      <td>0.519995</td>\n",
       "      <td>1.211748</td>\n",
       "      <td>196</td>\n",
       "    </tr>\n",
       "    <tr>\n",
       "      <th>197</th>\n",
       "      <td>1.058608</td>\n",
       "      <td>0.521236</td>\n",
       "      <td>1.058606</td>\n",
       "      <td>1.131593</td>\n",
       "      <td>0.574581</td>\n",
       "      <td>1.131595</td>\n",
       "      <td>197</td>\n",
       "    </tr>\n",
       "    <tr>\n",
       "      <th>198</th>\n",
       "      <td>1.058322</td>\n",
       "      <td>0.520324</td>\n",
       "      <td>1.058322</td>\n",
       "      <td>1.156980</td>\n",
       "      <td>0.526533</td>\n",
       "      <td>1.156979</td>\n",
       "      <td>198</td>\n",
       "    </tr>\n",
       "    <tr>\n",
       "      <th>199</th>\n",
       "      <td>1.060707</td>\n",
       "      <td>0.521417</td>\n",
       "      <td>1.060709</td>\n",
       "      <td>1.137483</td>\n",
       "      <td>0.511869</td>\n",
       "      <td>1.137483</td>\n",
       "      <td>199</td>\n",
       "    </tr>\n",
       "  </tbody>\n",
       "</table>\n",
       "</div>"
      ],
      "text/plain": [
       "         loss  mean_absolute_error  mean_squared_error  val_loss  \\\n",
       "195  1.056258             0.520117            1.056258  1.240400   \n",
       "196  1.055803             0.519699            1.055804  1.211748   \n",
       "197  1.058608             0.521236            1.058606  1.131593   \n",
       "198  1.058322             0.520324            1.058322  1.156980   \n",
       "199  1.060707             0.521417            1.060709  1.137483   \n",
       "\n",
       "     val_mean_absolute_error  val_mean_squared_error  epoch  \n",
       "195                 0.605947                1.240400    195  \n",
       "196                 0.519995                1.211748    196  \n",
       "197                 0.574581                1.131595    197  \n",
       "198                 0.526533                1.156979    198  \n",
       "199                 0.511869                1.137483    199  "
      ]
     },
     "execution_count": 15,
     "metadata": {},
     "output_type": "execute_result"
    }
   ],
   "source": [
    "hist = pd.DataFrame(history.history)\n",
    "hist['epoch'] = history.epoch\n",
    "hist.tail()"
   ]
  },
  {
   "cell_type": "code",
   "execution_count": 16,
   "metadata": {},
   "outputs": [
    {
     "data": {
      "image/png": "[encoded data removed]",
      "text/plain": [
       "<Figure size 432x288 with 1 Axes>"
      ]
     },
     "metadata": {
      "needs_background": "light"
     },
     "output_type": "display_data"
    },
    {
     "data": {
      "image/png": "[encoded data removed]",
      "text/plain": [
       "<Figure size 432x288 with 1 Axes>"
      ]
     },
     "metadata": {
      "needs_background": "light"
     },
     "output_type": "display_data"
    }
   ],
   "source": [
    "def plot_history(history):\n",
    "    hist = pd.DataFrame(history.history)\n",
    "    hist['epoch'] = history.epoch\n",
    "\n",
    "    plt.figure()\n",
    "    plt.xlabel('Epoch')\n",
    "    plt.ylabel('Mean Abs Error [Thrust]')\n",
    "    plt.plot(hist['epoch'], hist['mean_absolute_error'],\n",
    "           label='Train Error')\n",
    "    plt.plot(hist['epoch'], hist['val_mean_absolute_error'],\n",
    "           label = 'Val Error')\n",
    "    plt.ylim([0,5])\n",
    "    plt.legend()\n",
    "\n",
    "    plt.figure()\n",
    "    plt.xlabel('Epoch')\n",
    "    plt.ylabel('Mean Square Error [$Thrust^2$]')\n",
    "    plt.plot(hist['epoch'], hist['mean_squared_error'],\n",
    "           label='Train Error')\n",
    "    plt.plot(hist['epoch'], hist['val_mean_squared_error'],\n",
    "           label = 'Val Error')\n",
    "    plt.ylim([0,20])\n",
    "    plt.legend()\n",
    "    plt.show()\n",
    "\n",
    "\n",
    "plot_history(history)"
   ]
  },
  {
   "cell_type": "code",
   "execution_count": 17,
   "metadata": {},
   "outputs": [
    {
     "name": "stdout",
     "output_type": "stream",
     "text": [
      "58696/58696 - 1s - loss: 1.1043 - mean_absolute_error: 0.5061 - mean_squared_error: 1.1043\n",
      "Testing set Mean Abs Error:  0.51 Thrust\n"
     ]
    }
   ],
   "source": [
    "loss, mae, mse = model.evaluate(normed_test_data, test_labels, verbose=2)\n",
    "print(\"Testing set Mean Abs Error: {:5.2f} Thrust\".format(mae))"
   ]
  },
  {
   "cell_type": "code",
   "execution_count": 42,
   "metadata": {},
   "outputs": [
    {
     "data": {
      "image/png": "[encoded data removed]",
      "text/plain": [
       "<Figure size 432x288 with 1 Axes>"
      ]
     },
     "metadata": {
      "needs_background": "light"
     },
     "output_type": "display_data"
    }
   ],
   "source": [
    "test_predictions = model.predict(normed_test_data).flatten()\n",
    "\n",
    "plt.scatter(test_labels, test_predictions, s=0.01)\n",
    "plt.xlabel('True Values [Thrust]')\n",
    "plt.ylabel('Predictions [Thrust]')\n",
    "plt.axis('equal')\n",
    "plt.axis('square')\n",
    "plt.xlim([0,plt.xlim()[1]])\n",
    "plt.ylim([0,plt.ylim()[1]])\n",
    "# plt.xlim([0,0.5])\n",
    "# plt.ylim([0,0.5])\n",
    "_ = plt.plot([-100, 100], [-100, 100])"
   ]
  },
  {
   "cell_type": "markdown",
   "metadata": {},
   "source": [
    "####  Error Distribution"
   ]
  },
  {
   "cell_type": "code",
   "execution_count": 40,
   "metadata": {},
   "outputs": [
    {
     "data": {
      "image/png": "[encoded data removed]",
      "text/plain": [
       "<Figure size 432x288 with 1 Axes>"
      ]
     },
     "metadata": {
      "needs_background": "light"
     },
     "output_type": "display_data"
    }
   ],
   "source": [
    "error = test_predictions - test_labels\n",
    "plt.hist(error, bins = 200)\n",
    "plt.xlabel(\"Prediction Error [Thrust]\")\n",
    "_ = plt.ylabel(\"Count\")"
   ]
  },
  {
   "cell_type": "markdown",
   "metadata": {},
   "source": [
    "## <center>Some Test Cases</center>"
   ]
  },
  {
   "cell_type": "code",
   "execution_count": 20,
   "metadata": {
    "scrolled": true
   },
   "outputs": [
    {
     "name": "stdout",
     "output_type": "stream",
     "text": [
      "(234782, 4)\n",
      "      V  diameter  pitch     rpm\n",
      "0  14.3      10.5    4.5  3000.0\n",
      "          V  diameter     pitch       rpm\n",
      "0 -0.775848  -0.00526 -0.838658 -1.050683\n"
     ]
    },
    {
     "data": {
      "text/plain": [
       "array([[0.25227046]], dtype=float32)"
      ]
     },
     "execution_count": 20,
     "metadata": {},
     "output_type": "execute_result"
    }
   ],
   "source": [
    "input_df = pd.DataFrame([14.3,10.5,4.5,3000]).T\n",
    "input_df.columns = ['V', 'diameter', 'pitch', 'rpm']\n",
    "print(input_df)\n",
    "print(norm(input_df))\n",
    "model.predict(norm(input_df))\n",
    "# thrust should be: 0.096"
   ]
  },
  {
   "cell_type": "code",
   "execution_count": 32,
   "metadata": {},
   "outputs": [
    {
     "name": "stdout",
     "output_type": "stream",
     "text": [
      "(234782, 4)\n",
      "      V  diameter  pitch      rpm\n",
      "0  27.6       5.5    4.5  37000.0\n",
      "          V  diameter     pitch       rpm\n",
      "0 -0.484421 -1.119499 -0.838658  2.706217\n"
     ]
    },
    {
     "data": {
      "text/plain": [
       "array([[5.962059]], dtype=float32)"
      ]
     },
     "execution_count": 32,
     "metadata": {},
     "output_type": "execute_result"
    }
   ],
   "source": [
    "input_df = pd.DataFrame([27.6,5.5,4.5,37000]).T\n",
    "input_df.columns = ['V', 'diameter', 'pitch', 'rpm']\n",
    "print(input_df)\n",
    "print(norm(input_df))\n",
    "model.predict(norm(input_df))\n",
    "# thrust should be: 5.112"
   ]
  },
  {
   "cell_type": "code",
   "execution_count": 41,
   "metadata": {},
   "outputs": [
    {
     "name": "stdout",
     "output_type": "stream",
     "text": [
      "      V  diameter  pitch      rpm\n",
      "0  54.1       8.5    7.0  13000.0\n",
      "          V  diameter    pitch       rpm\n",
      "0  0.096242 -0.450955 -0.09199  0.054287\n"
     ]
    },
    {
     "data": {
      "text/plain": [
       "array([[2.3014643]], dtype=float32)"
      ]
     },
     "execution_count": 41,
     "metadata": {},
     "output_type": "execute_result"
    }
   ],
   "source": [
    "input_df = pd.DataFrame([54.1,8.5,7,13000]).T\n",
    "input_df.columns = ['V', 'diameter', 'pitch', 'rpm']\n",
    "print(input_df)\n",
    "print(norm(input_df))\n",
    "model.predict(norm(input_df))\n",
    "# thrust should be: 2.442"
   ]
  },
  {
   "cell_type": "code",
   "execution_count": 43,
   "metadata": {},
   "outputs": [
    {
     "name": "stdout",
     "output_type": "stream",
     "text": [
      "      V  diameter  pitch     rpm\n",
      "0  20.1      11.0    7.0  6000.0\n",
      "         V  diameter    pitch       rpm\n",
      "0 -0.64876  0.106164 -0.09199 -0.719192\n"
     ]
    },
    {
     "data": {
      "text/plain": [
       "array([[1.8186501]], dtype=float32)"
      ]
     },
     "execution_count": 43,
     "metadata": {},
     "output_type": "execute_result"
    }
   ],
   "source": [
    "input_df = pd.DataFrame([20.1,11,7,6000]).T\n",
    "input_df.columns = ['V', 'diameter', 'pitch', 'rpm']\n",
    "print(input_df)\n",
    "print(norm(input_df))\n",
    "model.predict(norm(input_df))\n",
    "# thrust should be: 1.558"
   ]
  },
  {
   "cell_type": "markdown",
   "metadata": {},
   "source": [
    "## <center>GUI</center>"
   ]
  },
  {
   "cell_type": "code",
   "execution_count": 49,
   "metadata": {},
   "outputs": [
    {
     "name": "stdout",
     "output_type": "stream",
     "text": [
      "multiple props\n"
     ]
    },
    {
     "data": {
      "image/png": "[encoded data removed]",
      "text/plain": [
       "<Figure size 432x288 with 1 Axes>"
      ]
     },
     "metadata": {
      "needs_background": "light"
     },
     "output_type": "display_data"
    }
   ],
   "source": [
    "diam = 11\n",
    "pitch = 7\n",
    "rpm = 6000\n",
    "V_values = list(np.linspace(0,100,num=500))\n",
    "\n",
    "# Predicted Data:\n",
    "T_values = []\n",
    "for V_value in V_values:\n",
    "    input_df = pd.DataFrame([V_value,diam,pitch,rpm]).T\n",
    "    input_df.columns = ['V', 'diameter', 'pitch', 'rpm']\n",
    "#     print(input_df)\n",
    "#     print(norm(input_df))\n",
    "    T_values.append(model.predict(norm(input_df))[0][0])\n",
    "    \n",
    "plt.plot(V_values, T_values, label='Predicted Data')\n",
    "\n",
    "# Real Data:\n",
    "prop_df = dataset.loc[dataset['diameter'] == diam].loc[dataset['pitch'] == pitch].loc[dataset['rpm'] == rpm]\n",
    "if prop_df.shape[0] > 3:    # prop is available in the dataset\n",
    "    print('Prop is available in dataset')\n",
    "    if prop_df.loc[prop_df['V'] == 0].index.shape[0] > 1:    # if there are multiple similar props\n",
    "        V_real = prop_df['V'].loc[int(prop_df.loc[prop_df['V'] == 0].index[0]):int(prop_df.loc[prop_df['V'] == 0].index[1]-1)]\n",
    "        T_real = prop_df['Thrust'].loc[int(prop_df.loc[prop_df['V'] == 0].index[0]):int(prop_df.loc[prop_df['V'] == 0].index[1]-1)]\n",
    "        print('multiple props')\n",
    "    else:    # Only one prop\n",
    "        V_real = prop_df['V']\n",
    "        T_real = prop_df['Thrust']\n",
    "        print('only one prop')\n",
    "\n",
    "    plt.plot(V_real, T_real, label='Real Data')\n",
    "    plt.xlim([0,V_real.iloc[-1]])\n",
    "else:\n",
    "    print('Prop not available in dataset')\n",
    "\n",
    "\n",
    "plt.ylim([0,plt.ylim()[1]])\n",
    "plt.xlabel('V in MPH')\n",
    "plt.ylabel('Thrust in lbf')\n",
    "plt.legend()\n",
    "plt.show()"
   ]
  },
  {
   "cell_type": "code",
   "execution_count": 50,
   "metadata": {},
   "outputs": [],
   "source": [
    "model.save('Fitting_model.h5')"
   ]
  },
  {
   "cell_type": "code",
   "execution_count": null,
   "metadata": {},
   "outputs": [],
   "source": []
  }
 ],
 "metadata": {
  "kernelspec": {
   "display_name": "Python 3",
   "language": "python",
   "name": "python3"
  },
  "language_info": {
   "codemirror_mode": {
    "name": "ipython",
    "version": 3
   },
   "file_extension": ".py",
   "mimetype": "text/x-python",
   "name": "python",
   "nbconvert_exporter": "python",
   "pygments_lexer": "ipython3",
   "version": "3.7.3"
  }
 },
 "nbformat": 4,
 "nbformat_minor": 2
}
